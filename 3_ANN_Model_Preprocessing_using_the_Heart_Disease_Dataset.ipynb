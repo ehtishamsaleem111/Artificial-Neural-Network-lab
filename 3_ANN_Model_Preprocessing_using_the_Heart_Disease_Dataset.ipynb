{
  "metadata": {
    "kernelspec": {
      "display_name": "Python 3",
      "language": "python",
      "name": "python3"
    },
    "language_info": {
      "codemirror_mode": {
        "name": "ipython",
        "version": 2
      },
      "file_extension": ".py",
      "mimetype": "text/x-python",
      "name": "python",
      "nbconvert_exporter": "python",
      "pygments_lexer": "ipython2",
      "version": "2.7.6"
    },
    "colab": {
      "provenance": []
    }
  },
  "nbformat_minor": 5,
  "nbformat": 4,
  "cells": [
    {
      "cell_type": "markdown",
      "source": [
        "---\n",
        "# **Lab Report 02**\n",
        "## **Name   : Muhammad Ehtisham Saleem**\n",
        "## **Reg No : B22F1242AI108**\n",
        "## **Lab : Artificial Neural Network**\n",
        "## **Submitted To : Mam Ammara Irfan**\n",
        "## **Course Instructor : Dr Arshad Iqbal**\n",
        "---\n",
        "\n",
        "---\n",
        "\n"
      ],
      "metadata": {
        "id": "NHkY_KM3CevU"
      },
      "id": "NHkY_KM3CevU"
    },
    {
      "cell_type": "markdown",
      "source": [
        "# **Introduction:**\n",
        "> **In this lab task, we develop an Artificial Neural Network (ANN) model using the Heart Disease dataset. The project begins with selecting and preprocessing the data, which involves cleaning the dataset, handling missing values, and removing outliers to ensure high data quality. We then construct and train an ANN model, incorporating key activation functions such as ReLU and Sigmoid—ReLU is applied in the hidden layers to introduce non-linearity, while Sigmoid is used in the output layer to facilitate binary classification. Finally, we visualize the model's performance through accuracy and loss plots to gain further insights into the predictions.**"
      ],
      "metadata": {
        "id": "IZ1n_nwDE7BS"
      },
      "id": "IZ1n_nwDE7BS"
    },
    {
      "cell_type": "markdown",
      "source": [
        "## **Necessary Libraries**"
      ],
      "metadata": {
        "id": "xK0vHWG8E7MU"
      },
      "id": "xK0vHWG8E7MU"
    },
    {
      "cell_type": "code",
      "source": [
        "import numpy as np\n",
        "import pandas as pd\n",
        "from keras.optimizers import Adam\n",
        "from sklearn.metrics import confusion_matrix, classification_report\n",
        "from tensorflow.keras.models import Sequential\n",
        "from tensorflow.keras.layers import Dense, Dropout\n",
        "from tensorflow.keras import regularizers\n",
        "from sklearn.model_selection import train_test_split\n",
        "from sklearn.preprocessing import StandardScaler\n"
      ],
      "metadata": {
        "ExecuteTime": {
          "end_time": "2024-03-19T12:23:15.383696800Z",
          "start_time": "2024-03-19T12:23:15.379198100Z"
        },
        "collapsed": true,
        "jupyter": {
          "outputs_hidden": true
        },
        "id": "luWrvTL9N6LJ"
      },
      "execution_count": null,
      "outputs": [],
      "id": "luWrvTL9N6LJ"
    },
    {
      "cell_type": "markdown",
      "source": [
        "## **Explanation**\n",
        "* **Data Handling:** Uses numpy and pandas for efficient numerical operations and dataset manipulation.\n",
        "* **Neural Network Construction:** Utilizes Sequential, Dense, and Dropout from TensorFlow/Keras to build and structure the ANN, with Adam as the optimizer.\n",
        "* **Model Evaluation:** Incorporates confusion_matrix and classification_report from scikit-learn to assess the performance of the trained model.\n",
        "* **Data Preprocessing**: Employs train_test_split to divide data into training and testing sets and StandardScaler to standardize features for balanced model training.\n",
        "\n",
        "\n",
        "\n",
        "\n",
        "\n"
      ],
      "metadata": {
        "id": "bkjWnYSiHMN_"
      },
      "id": "bkjWnYSiHMN_"
    },
    {
      "cell_type": "markdown",
      "source": [
        "## **Dataset Loading and Exploration**\n",
        "### **Dataset Source**\n",
        "The dataset used in this lab task is the Heart Disease Dataset, obtained from Kaggle.\n",
        " >link : https://www.kaggle.com/datasets/winson13/heart-disease-dataset"
      ],
      "metadata": {
        "id": "AoM9gbEJN6LM"
      },
      "id": "AoM9gbEJN6LM"
    },
    {
      "cell_type": "markdown",
      "source": [
        "## **Loading the Dataset:**"
      ],
      "metadata": {
        "id": "c7QMFLiJIOHL"
      },
      "id": "c7QMFLiJIOHL"
    },
    {
      "cell_type": "code",
      "source": [
        "diseases=pd.read_csv(\"Dataset Heart Disease.csv\")\n",
        "diseases.head()"
      ],
      "metadata": {
        "ExecuteTime": {
          "end_time": "2024-03-19T12:23:15.399143800Z",
          "start_time": "2024-03-19T12:23:15.385691800Z"
        },
        "jupyter": {
          "outputs_hidden": false
        },
        "colab": {
          "base_uri": "https://localhost:8080/",
          "height": 223
        },
        "id": "8VLpO62bN6LP",
        "outputId": "d230614d-f2cb-4557-fc49-aeb32bf7bcd5"
      },
      "execution_count": null,
      "outputs": [
        {
          "output_type": "execute_result",
          "data": {
            "text/plain": [
              "   Unnamed: 0  age  sex  chest pain type  resting bps  cholesterol  \\\n",
              "0           0   40    1                2          140        289.0   \n",
              "1           1   49    0                3          160        180.0   \n",
              "2           2   37    1                2          130        283.0   \n",
              "3           3   48    0                4          138        214.0   \n",
              "4           4   54    1                3          150        195.0   \n",
              "\n",
              "   fasting blood sugar  resting ecg  max heart rate  exercise angina  oldpeak  \\\n",
              "0                    0            0             172                0      0.0   \n",
              "1                    0            0             156                0      1.0   \n",
              "2                    0            1              98                0      0.0   \n",
              "3                    0            0             108                1      1.5   \n",
              "4                    0            0             122                0      0.0   \n",
              "\n",
              "   ST slope  target  \n",
              "0         1       0  \n",
              "1         2       1  \n",
              "2         1       0  \n",
              "3         2       1  \n",
              "4         1       0  "
            ],
            "text/html": [
              "\n",
              "  <div id=\"df-55443a70-19c2-4904-a273-338364973650\" class=\"colab-df-container\">\n",
              "    <div>\n",
              "<style scoped>\n",
              "    .dataframe tbody tr th:only-of-type {\n",
              "        vertical-align: middle;\n",
              "    }\n",
              "\n",
              "    .dataframe tbody tr th {\n",
              "        vertical-align: top;\n",
              "    }\n",
              "\n",
              "    .dataframe thead th {\n",
              "        text-align: right;\n",
              "    }\n",
              "</style>\n",
              "<table border=\"1\" class=\"dataframe\">\n",
              "  <thead>\n",
              "    <tr style=\"text-align: right;\">\n",
              "      <th></th>\n",
              "      <th>Unnamed: 0</th>\n",
              "      <th>age</th>\n",
              "      <th>sex</th>\n",
              "      <th>chest pain type</th>\n",
              "      <th>resting bps</th>\n",
              "      <th>cholesterol</th>\n",
              "      <th>fasting blood sugar</th>\n",
              "      <th>resting ecg</th>\n",
              "      <th>max heart rate</th>\n",
              "      <th>exercise angina</th>\n",
              "      <th>oldpeak</th>\n",
              "      <th>ST slope</th>\n",
              "      <th>target</th>\n",
              "    </tr>\n",
              "  </thead>\n",
              "  <tbody>\n",
              "    <tr>\n",
              "      <th>0</th>\n",
              "      <td>0</td>\n",
              "      <td>40</td>\n",
              "      <td>1</td>\n",
              "      <td>2</td>\n",
              "      <td>140</td>\n",
              "      <td>289.0</td>\n",
              "      <td>0</td>\n",
              "      <td>0</td>\n",
              "      <td>172</td>\n",
              "      <td>0</td>\n",
              "      <td>0.0</td>\n",
              "      <td>1</td>\n",
              "      <td>0</td>\n",
              "    </tr>\n",
              "    <tr>\n",
              "      <th>1</th>\n",
              "      <td>1</td>\n",
              "      <td>49</td>\n",
              "      <td>0</td>\n",
              "      <td>3</td>\n",
              "      <td>160</td>\n",
              "      <td>180.0</td>\n",
              "      <td>0</td>\n",
              "      <td>0</td>\n",
              "      <td>156</td>\n",
              "      <td>0</td>\n",
              "      <td>1.0</td>\n",
              "      <td>2</td>\n",
              "      <td>1</td>\n",
              "    </tr>\n",
              "    <tr>\n",
              "      <th>2</th>\n",
              "      <td>2</td>\n",
              "      <td>37</td>\n",
              "      <td>1</td>\n",
              "      <td>2</td>\n",
              "      <td>130</td>\n",
              "      <td>283.0</td>\n",
              "      <td>0</td>\n",
              "      <td>1</td>\n",
              "      <td>98</td>\n",
              "      <td>0</td>\n",
              "      <td>0.0</td>\n",
              "      <td>1</td>\n",
              "      <td>0</td>\n",
              "    </tr>\n",
              "    <tr>\n",
              "      <th>3</th>\n",
              "      <td>3</td>\n",
              "      <td>48</td>\n",
              "      <td>0</td>\n",
              "      <td>4</td>\n",
              "      <td>138</td>\n",
              "      <td>214.0</td>\n",
              "      <td>0</td>\n",
              "      <td>0</td>\n",
              "      <td>108</td>\n",
              "      <td>1</td>\n",
              "      <td>1.5</td>\n",
              "      <td>2</td>\n",
              "      <td>1</td>\n",
              "    </tr>\n",
              "    <tr>\n",
              "      <th>4</th>\n",
              "      <td>4</td>\n",
              "      <td>54</td>\n",
              "      <td>1</td>\n",
              "      <td>3</td>\n",
              "      <td>150</td>\n",
              "      <td>195.0</td>\n",
              "      <td>0</td>\n",
              "      <td>0</td>\n",
              "      <td>122</td>\n",
              "      <td>0</td>\n",
              "      <td>0.0</td>\n",
              "      <td>1</td>\n",
              "      <td>0</td>\n",
              "    </tr>\n",
              "  </tbody>\n",
              "</table>\n",
              "</div>\n",
              "    <div class=\"colab-df-buttons\">\n",
              "\n",
              "  <div class=\"colab-df-container\">\n",
              "    <button class=\"colab-df-convert\" onclick=\"convertToInteractive('df-55443a70-19c2-4904-a273-338364973650')\"\n",
              "            title=\"Convert this dataframe to an interactive table.\"\n",
              "            style=\"display:none;\">\n",
              "\n",
              "  <svg xmlns=\"http://www.w3.org/2000/svg\" height=\"24px\" viewBox=\"0 -960 960 960\">\n",
              "    <path d=\"M120-120v-720h720v720H120Zm60-500h600v-160H180v160Zm220 220h160v-160H400v160Zm0 220h160v-160H400v160ZM180-400h160v-160H180v160Zm440 0h160v-160H620v160ZM180-180h160v-160H180v160Zm440 0h160v-160H620v160Z\"/>\n",
              "  </svg>\n",
              "    </button>\n",
              "\n",
              "  <style>\n",
              "    .colab-df-container {\n",
              "      display:flex;\n",
              "      gap: 12px;\n",
              "    }\n",
              "\n",
              "    .colab-df-convert {\n",
              "      background-color: #E8F0FE;\n",
              "      border: none;\n",
              "      border-radius: 50%;\n",
              "      cursor: pointer;\n",
              "      display: none;\n",
              "      fill: #1967D2;\n",
              "      height: 32px;\n",
              "      padding: 0 0 0 0;\n",
              "      width: 32px;\n",
              "    }\n",
              "\n",
              "    .colab-df-convert:hover {\n",
              "      background-color: #E2EBFA;\n",
              "      box-shadow: 0px 1px 2px rgba(60, 64, 67, 0.3), 0px 1px 3px 1px rgba(60, 64, 67, 0.15);\n",
              "      fill: #174EA6;\n",
              "    }\n",
              "\n",
              "    .colab-df-buttons div {\n",
              "      margin-bottom: 4px;\n",
              "    }\n",
              "\n",
              "    [theme=dark] .colab-df-convert {\n",
              "      background-color: #3B4455;\n",
              "      fill: #D2E3FC;\n",
              "    }\n",
              "\n",
              "    [theme=dark] .colab-df-convert:hover {\n",
              "      background-color: #434B5C;\n",
              "      box-shadow: 0px 1px 3px 1px rgba(0, 0, 0, 0.15);\n",
              "      filter: drop-shadow(0px 1px 2px rgba(0, 0, 0, 0.3));\n",
              "      fill: #FFFFFF;\n",
              "    }\n",
              "  </style>\n",
              "\n",
              "    <script>\n",
              "      const buttonEl =\n",
              "        document.querySelector('#df-55443a70-19c2-4904-a273-338364973650 button.colab-df-convert');\n",
              "      buttonEl.style.display =\n",
              "        google.colab.kernel.accessAllowed ? 'block' : 'none';\n",
              "\n",
              "      async function convertToInteractive(key) {\n",
              "        const element = document.querySelector('#df-55443a70-19c2-4904-a273-338364973650');\n",
              "        const dataTable =\n",
              "          await google.colab.kernel.invokeFunction('convertToInteractive',\n",
              "                                                    [key], {});\n",
              "        if (!dataTable) return;\n",
              "\n",
              "        const docLinkHtml = 'Like what you see? Visit the ' +\n",
              "          '<a target=\"_blank\" href=https://colab.research.google.com/notebooks/data_table.ipynb>data table notebook</a>'\n",
              "          + ' to learn more about interactive tables.';\n",
              "        element.innerHTML = '';\n",
              "        dataTable['output_type'] = 'display_data';\n",
              "        await google.colab.output.renderOutput(dataTable, element);\n",
              "        const docLink = document.createElement('div');\n",
              "        docLink.innerHTML = docLinkHtml;\n",
              "        element.appendChild(docLink);\n",
              "      }\n",
              "    </script>\n",
              "  </div>\n",
              "\n",
              "\n",
              "<div id=\"df-b41111e6-1395-4abb-9012-2343d3f76bc2\">\n",
              "  <button class=\"colab-df-quickchart\" onclick=\"quickchart('df-b41111e6-1395-4abb-9012-2343d3f76bc2')\"\n",
              "            title=\"Suggest charts\"\n",
              "            style=\"display:none;\">\n",
              "\n",
              "<svg xmlns=\"http://www.w3.org/2000/svg\" height=\"24px\"viewBox=\"0 0 24 24\"\n",
              "     width=\"24px\">\n",
              "    <g>\n",
              "        <path d=\"M19 3H5c-1.1 0-2 .9-2 2v14c0 1.1.9 2 2 2h14c1.1 0 2-.9 2-2V5c0-1.1-.9-2-2-2zM9 17H7v-7h2v7zm4 0h-2V7h2v10zm4 0h-2v-4h2v4z\"/>\n",
              "    </g>\n",
              "</svg>\n",
              "  </button>\n",
              "\n",
              "<style>\n",
              "  .colab-df-quickchart {\n",
              "      --bg-color: #E8F0FE;\n",
              "      --fill-color: #1967D2;\n",
              "      --hover-bg-color: #E2EBFA;\n",
              "      --hover-fill-color: #174EA6;\n",
              "      --disabled-fill-color: #AAA;\n",
              "      --disabled-bg-color: #DDD;\n",
              "  }\n",
              "\n",
              "  [theme=dark] .colab-df-quickchart {\n",
              "      --bg-color: #3B4455;\n",
              "      --fill-color: #D2E3FC;\n",
              "      --hover-bg-color: #434B5C;\n",
              "      --hover-fill-color: #FFFFFF;\n",
              "      --disabled-bg-color: #3B4455;\n",
              "      --disabled-fill-color: #666;\n",
              "  }\n",
              "\n",
              "  .colab-df-quickchart {\n",
              "    background-color: var(--bg-color);\n",
              "    border: none;\n",
              "    border-radius: 50%;\n",
              "    cursor: pointer;\n",
              "    display: none;\n",
              "    fill: var(--fill-color);\n",
              "    height: 32px;\n",
              "    padding: 0;\n",
              "    width: 32px;\n",
              "  }\n",
              "\n",
              "  .colab-df-quickchart:hover {\n",
              "    background-color: var(--hover-bg-color);\n",
              "    box-shadow: 0 1px 2px rgba(60, 64, 67, 0.3), 0 1px 3px 1px rgba(60, 64, 67, 0.15);\n",
              "    fill: var(--button-hover-fill-color);\n",
              "  }\n",
              "\n",
              "  .colab-df-quickchart-complete:disabled,\n",
              "  .colab-df-quickchart-complete:disabled:hover {\n",
              "    background-color: var(--disabled-bg-color);\n",
              "    fill: var(--disabled-fill-color);\n",
              "    box-shadow: none;\n",
              "  }\n",
              "\n",
              "  .colab-df-spinner {\n",
              "    border: 2px solid var(--fill-color);\n",
              "    border-color: transparent;\n",
              "    border-bottom-color: var(--fill-color);\n",
              "    animation:\n",
              "      spin 1s steps(1) infinite;\n",
              "  }\n",
              "\n",
              "  @keyframes spin {\n",
              "    0% {\n",
              "      border-color: transparent;\n",
              "      border-bottom-color: var(--fill-color);\n",
              "      border-left-color: var(--fill-color);\n",
              "    }\n",
              "    20% {\n",
              "      border-color: transparent;\n",
              "      border-left-color: var(--fill-color);\n",
              "      border-top-color: var(--fill-color);\n",
              "    }\n",
              "    30% {\n",
              "      border-color: transparent;\n",
              "      border-left-color: var(--fill-color);\n",
              "      border-top-color: var(--fill-color);\n",
              "      border-right-color: var(--fill-color);\n",
              "    }\n",
              "    40% {\n",
              "      border-color: transparent;\n",
              "      border-right-color: var(--fill-color);\n",
              "      border-top-color: var(--fill-color);\n",
              "    }\n",
              "    60% {\n",
              "      border-color: transparent;\n",
              "      border-right-color: var(--fill-color);\n",
              "    }\n",
              "    80% {\n",
              "      border-color: transparent;\n",
              "      border-right-color: var(--fill-color);\n",
              "      border-bottom-color: var(--fill-color);\n",
              "    }\n",
              "    90% {\n",
              "      border-color: transparent;\n",
              "      border-bottom-color: var(--fill-color);\n",
              "    }\n",
              "  }\n",
              "</style>\n",
              "\n",
              "  <script>\n",
              "    async function quickchart(key) {\n",
              "      const quickchartButtonEl =\n",
              "        document.querySelector('#' + key + ' button');\n",
              "      quickchartButtonEl.disabled = true;  // To prevent multiple clicks.\n",
              "      quickchartButtonEl.classList.add('colab-df-spinner');\n",
              "      try {\n",
              "        const charts = await google.colab.kernel.invokeFunction(\n",
              "            'suggestCharts', [key], {});\n",
              "      } catch (error) {\n",
              "        console.error('Error during call to suggestCharts:', error);\n",
              "      }\n",
              "      quickchartButtonEl.classList.remove('colab-df-spinner');\n",
              "      quickchartButtonEl.classList.add('colab-df-quickchart-complete');\n",
              "    }\n",
              "    (() => {\n",
              "      let quickchartButtonEl =\n",
              "        document.querySelector('#df-b41111e6-1395-4abb-9012-2343d3f76bc2 button');\n",
              "      quickchartButtonEl.style.display =\n",
              "        google.colab.kernel.accessAllowed ? 'block' : 'none';\n",
              "    })();\n",
              "  </script>\n",
              "</div>\n",
              "\n",
              "    </div>\n",
              "  </div>\n"
            ],
            "application/vnd.google.colaboratory.intrinsic+json": {
              "type": "dataframe",
              "variable_name": "diseases",
              "summary": "{\n  \"name\": \"diseases\",\n  \"rows\": 1048,\n  \"fields\": [\n    {\n      \"column\": \"Unnamed: 0\",\n      \"properties\": {\n        \"dtype\": \"number\",\n        \"std\": 307,\n        \"min\": 0,\n        \"max\": 1189,\n        \"num_unique_values\": 755,\n        \"samples\": [\n          292,\n          710,\n          39\n        ],\n        \"semantic_type\": \"\",\n        \"description\": \"\"\n      }\n    },\n    {\n      \"column\": \"age\",\n      \"properties\": {\n        \"dtype\": \"number\",\n        \"std\": 9,\n        \"min\": 28,\n        \"max\": 77,\n        \"num_unique_values\": 49,\n        \"samples\": [\n          44,\n          74,\n          70\n        ],\n        \"semantic_type\": \"\",\n        \"description\": \"\"\n      }\n    },\n    {\n      \"column\": \"sex\",\n      \"properties\": {\n        \"dtype\": \"number\",\n        \"std\": 0,\n        \"min\": 0,\n        \"max\": 1,\n        \"num_unique_values\": 2,\n        \"samples\": [\n          0,\n          1\n        ],\n        \"semantic_type\": \"\",\n        \"description\": \"\"\n      }\n    },\n    {\n      \"column\": \"chest pain type\",\n      \"properties\": {\n        \"dtype\": \"number\",\n        \"std\": 1,\n        \"min\": 1,\n        \"max\": 4,\n        \"num_unique_values\": 4,\n        \"samples\": [\n          3,\n          1\n        ],\n        \"semantic_type\": \"\",\n        \"description\": \"\"\n      }\n    },\n    {\n      \"column\": \"resting bps\",\n      \"properties\": {\n        \"dtype\": \"number\",\n        \"std\": 17,\n        \"min\": 92,\n        \"max\": 200,\n        \"num_unique_values\": 63,\n        \"samples\": [\n          154,\n          117\n        ],\n        \"semantic_type\": \"\",\n        \"description\": \"\"\n      }\n    },\n    {\n      \"column\": \"cholesterol\",\n      \"properties\": {\n        \"dtype\": \"number\",\n        \"std\": 57.101358794878216,\n        \"min\": 85.0,\n        \"max\": 603.0,\n        \"num_unique_values\": 221,\n        \"samples\": [\n          226.0,\n          491.0\n        ],\n        \"semantic_type\": \"\",\n        \"description\": \"\"\n      }\n    },\n    {\n      \"column\": \"fasting blood sugar\",\n      \"properties\": {\n        \"dtype\": \"number\",\n        \"std\": 0,\n        \"min\": 0,\n        \"max\": 1,\n        \"num_unique_values\": 2,\n        \"samples\": [\n          1,\n          0\n        ],\n        \"semantic_type\": \"\",\n        \"description\": \"\"\n      }\n    },\n    {\n      \"column\": \"resting ecg\",\n      \"properties\": {\n        \"dtype\": \"number\",\n        \"std\": 0,\n        \"min\": 0,\n        \"max\": 2,\n        \"num_unique_values\": 3,\n        \"samples\": [\n          0,\n          1\n        ],\n        \"semantic_type\": \"\",\n        \"description\": \"\"\n      }\n    },\n    {\n      \"column\": \"max heart rate\",\n      \"properties\": {\n        \"dtype\": \"number\",\n        \"std\": 24,\n        \"min\": 69,\n        \"max\": 202,\n        \"num_unique_values\": 109,\n        \"samples\": [\n          161,\n          145\n        ],\n        \"semantic_type\": \"\",\n        \"description\": \"\"\n      }\n    },\n    {\n      \"column\": \"exercise angina\",\n      \"properties\": {\n        \"dtype\": \"number\",\n        \"std\": 0,\n        \"min\": 0,\n        \"max\": 1,\n        \"num_unique_values\": 2,\n        \"samples\": [\n          1,\n          0\n        ],\n        \"semantic_type\": \"\",\n        \"description\": \"\"\n      }\n    },\n    {\n      \"column\": \"oldpeak\",\n      \"properties\": {\n        \"dtype\": \"number\",\n        \"std\": 1.1004292517064318,\n        \"min\": -0.1,\n        \"max\": 6.2,\n        \"num_unique_values\": 43,\n        \"samples\": [\n          3.8,\n          2.4\n        ],\n        \"semantic_type\": \"\",\n        \"description\": \"\"\n      }\n    },\n    {\n      \"column\": \"ST slope\",\n      \"properties\": {\n        \"dtype\": \"number\",\n        \"std\": 0,\n        \"min\": 0,\n        \"max\": 3,\n        \"num_unique_values\": 4,\n        \"samples\": [\n          2,\n          0\n        ],\n        \"semantic_type\": \"\",\n        \"description\": \"\"\n      }\n    },\n    {\n      \"column\": \"target\",\n      \"properties\": {\n        \"dtype\": \"number\",\n        \"std\": 0,\n        \"min\": 0,\n        \"max\": 1,\n        \"num_unique_values\": 2,\n        \"samples\": [\n          1,\n          0\n        ],\n        \"semantic_type\": \"\",\n        \"description\": \"\"\n      }\n    }\n  ]\n}"
            }
          },
          "metadata": {},
          "execution_count": 4
        }
      ],
      "id": "8VLpO62bN6LP"
    },
    {
      "cell_type": "markdown",
      "source": [
        "## **Explanation**\n",
        "* Uses pd.read_csv(\"Dataset Heart Disease.csv\") to load the Heart Disease dataset into a DataFrame named diseases."
      ],
      "metadata": {
        "id": "wggaMtz3ISrI"
      },
      "id": "wggaMtz3ISrI"
    },
    {
      "cell_type": "markdown",
      "source": [
        "## **Data information:**"
      ],
      "metadata": {
        "id": "HbHz-jD4N6LR"
      },
      "id": "HbHz-jD4N6LR"
    },
    {
      "cell_type": "code",
      "source": [
        "rows,columns=diseases.shape\n",
        "print(\"the number of samples:\",rows)\n",
        "print(\"the number of columns:\",columns)"
      ],
      "metadata": {
        "ExecuteTime": {
          "end_time": "2024-03-19T12:23:15.430962800Z",
          "start_time": "2024-03-19T12:23:15.401819500Z"
        },
        "jupyter": {
          "outputs_hidden": false
        },
        "colab": {
          "base_uri": "https://localhost:8080/"
        },
        "id": "umHBS9jbN6LS",
        "outputId": "97412b9f-b587-4ed1-bba3-242f25ed739f"
      },
      "execution_count": null,
      "outputs": [
        {
          "output_type": "stream",
          "name": "stdout",
          "text": [
            "the number of samples: 1048\n",
            "the number of columns: 13\n"
          ]
        }
      ],
      "id": "umHBS9jbN6LS"
    },
    {
      "cell_type": "code",
      "source": [
        "diseases.info()"
      ],
      "metadata": {
        "ExecuteTime": {
          "end_time": "2024-03-19T12:23:15.432955400Z",
          "start_time": "2024-03-19T12:23:15.405819Z"
        },
        "jupyter": {
          "outputs_hidden": false
        },
        "colab": {
          "base_uri": "https://localhost:8080/"
        },
        "id": "IryAdQeFN6LT",
        "outputId": "47e7db91-41c3-494e-c719-1da067a229b5"
      },
      "execution_count": null,
      "outputs": [
        {
          "output_type": "stream",
          "name": "stdout",
          "text": [
            "<class 'pandas.core.frame.DataFrame'>\n",
            "RangeIndex: 1048 entries, 0 to 1047\n",
            "Data columns (total 13 columns):\n",
            " #   Column               Non-Null Count  Dtype  \n",
            "---  ------               --------------  -----  \n",
            " 0   Unnamed: 0           1048 non-null   int64  \n",
            " 1   age                  1048 non-null   int64  \n",
            " 2   sex                  1048 non-null   int64  \n",
            " 3   chest pain type      1048 non-null   int64  \n",
            " 4   resting bps          1048 non-null   int64  \n",
            " 5   cholesterol          1048 non-null   float64\n",
            " 6   fasting blood sugar  1048 non-null   int64  \n",
            " 7   resting ecg          1048 non-null   int64  \n",
            " 8   max heart rate       1048 non-null   int64  \n",
            " 9   exercise angina      1048 non-null   int64  \n",
            " 10  oldpeak              1048 non-null   float64\n",
            " 11  ST slope             1048 non-null   int64  \n",
            " 12  target               1048 non-null   int64  \n",
            "dtypes: float64(2), int64(11)\n",
            "memory usage: 106.6 KB\n"
          ]
        }
      ],
      "id": "IryAdQeFN6LT"
    },
    {
      "cell_type": "markdown",
      "source": [
        "## **Explanation**\n",
        "* **Checking Dataset Dimensions:** The line rows, columns = diseases.shape retrieves the number of samples (rows) and features (columns), which are then printed to confirm the dataset's size.\n",
        "* **Inspecting Dataset Information:** The diseases.info() method provides a summary of the dataset, including data types and non-null counts for each column, helping to assess data quality and identify potential issues such as missing values."
      ],
      "metadata": {
        "id": "rqk2U2A-ISXY"
      },
      "id": "rqk2U2A-ISXY"
    },
    {
      "cell_type": "markdown",
      "source": [
        "# **Handling Missing and Duplicate Values**"
      ],
      "metadata": {
        "id": "3lq8bsluN6LT"
      },
      "id": "3lq8bsluN6LT"
    },
    {
      "cell_type": "code",
      "source": [
        "diseases.isnull().sum()"
      ],
      "metadata": {
        "ExecuteTime": {
          "end_time": "2024-03-19T12:23:15.550495300Z",
          "start_time": "2024-03-19T12:23:15.415991400Z"
        },
        "jupyter": {
          "outputs_hidden": false
        },
        "colab": {
          "base_uri": "https://localhost:8080/",
          "height": 492
        },
        "id": "osMgTTzhN6LU",
        "outputId": "37f99c2f-2423-4948-9538-b49667df4a65"
      },
      "execution_count": null,
      "outputs": [
        {
          "output_type": "execute_result",
          "data": {
            "text/plain": [
              "Unnamed: 0             0\n",
              "age                    0\n",
              "sex                    0\n",
              "chest pain type        0\n",
              "resting bps            0\n",
              "cholesterol            0\n",
              "fasting blood sugar    0\n",
              "resting ecg            0\n",
              "max heart rate         0\n",
              "exercise angina        0\n",
              "oldpeak                0\n",
              "ST slope               0\n",
              "target                 0\n",
              "dtype: int64"
            ],
            "text/html": [
              "<div>\n",
              "<style scoped>\n",
              "    .dataframe tbody tr th:only-of-type {\n",
              "        vertical-align: middle;\n",
              "    }\n",
              "\n",
              "    .dataframe tbody tr th {\n",
              "        vertical-align: top;\n",
              "    }\n",
              "\n",
              "    .dataframe thead th {\n",
              "        text-align: right;\n",
              "    }\n",
              "</style>\n",
              "<table border=\"1\" class=\"dataframe\">\n",
              "  <thead>\n",
              "    <tr style=\"text-align: right;\">\n",
              "      <th></th>\n",
              "      <th>0</th>\n",
              "    </tr>\n",
              "  </thead>\n",
              "  <tbody>\n",
              "    <tr>\n",
              "      <th>Unnamed: 0</th>\n",
              "      <td>0</td>\n",
              "    </tr>\n",
              "    <tr>\n",
              "      <th>age</th>\n",
              "      <td>0</td>\n",
              "    </tr>\n",
              "    <tr>\n",
              "      <th>sex</th>\n",
              "      <td>0</td>\n",
              "    </tr>\n",
              "    <tr>\n",
              "      <th>chest pain type</th>\n",
              "      <td>0</td>\n",
              "    </tr>\n",
              "    <tr>\n",
              "      <th>resting bps</th>\n",
              "      <td>0</td>\n",
              "    </tr>\n",
              "    <tr>\n",
              "      <th>cholesterol</th>\n",
              "      <td>0</td>\n",
              "    </tr>\n",
              "    <tr>\n",
              "      <th>fasting blood sugar</th>\n",
              "      <td>0</td>\n",
              "    </tr>\n",
              "    <tr>\n",
              "      <th>resting ecg</th>\n",
              "      <td>0</td>\n",
              "    </tr>\n",
              "    <tr>\n",
              "      <th>max heart rate</th>\n",
              "      <td>0</td>\n",
              "    </tr>\n",
              "    <tr>\n",
              "      <th>exercise angina</th>\n",
              "      <td>0</td>\n",
              "    </tr>\n",
              "    <tr>\n",
              "      <th>oldpeak</th>\n",
              "      <td>0</td>\n",
              "    </tr>\n",
              "    <tr>\n",
              "      <th>ST slope</th>\n",
              "      <td>0</td>\n",
              "    </tr>\n",
              "    <tr>\n",
              "      <th>target</th>\n",
              "      <td>0</td>\n",
              "    </tr>\n",
              "  </tbody>\n",
              "</table>\n",
              "</div><br><label><b>dtype:</b> int64</label>"
            ]
          },
          "metadata": {},
          "execution_count": 7
        }
      ],
      "id": "osMgTTzhN6LU"
    },
    {
      "cell_type": "markdown",
      "source": [
        "* **Checking Missing Values:** The diseases.isnull().sum() function calculates the total number of missing values in each column. This helps identify whether any data cleaning is required."
      ],
      "metadata": {
        "id": "esfz0FxqJReQ"
      },
      "id": "esfz0FxqJReQ"
    },
    {
      "cell_type": "code",
      "source": [
        "diseases.duplicated().sum()"
      ],
      "metadata": {
        "ExecuteTime": {
          "end_time": "2024-03-19T12:23:15.556479500Z",
          "start_time": "2024-03-19T12:23:15.425245800Z"
        },
        "jupyter": {
          "outputs_hidden": false
        },
        "colab": {
          "base_uri": "https://localhost:8080/"
        },
        "id": "KApIeFv4N6LU",
        "outputId": "d2e62d2d-6412-4cee-ca64-75872f4cf286"
      },
      "execution_count": null,
      "outputs": [
        {
          "output_type": "execute_result",
          "data": {
            "text/plain": [
              "0"
            ]
          },
          "metadata": {},
          "execution_count": 8
        }
      ],
      "id": "KApIeFv4N6LU"
    },
    {
      "cell_type": "markdown",
      "source": [
        "* **Checking Duplicate Records**: The diseases.duplicated().sum() function counts the number of duplicate rows in the dataset. Removing duplicates ensures the model is trained on unique and meaningful data."
      ],
      "metadata": {
        "id": "ekiK29UHJbqK"
      },
      "id": "ekiK29UHJbqK"
    },
    {
      "cell_type": "markdown",
      "source": [
        "## **Columns name:**"
      ],
      "metadata": {
        "id": "KAH5y5VFN6LV"
      },
      "id": "KAH5y5VFN6LV"
    },
    {
      "cell_type": "code",
      "source": [
        "diseases.columns.tolist()"
      ],
      "metadata": {
        "ExecuteTime": {
          "end_time": "2024-03-19T12:23:15.587396500Z",
          "start_time": "2024-03-19T12:23:15.431957800Z"
        },
        "jupyter": {
          "outputs_hidden": false
        },
        "colab": {
          "base_uri": "https://localhost:8080/"
        },
        "id": "rDkAavm_N6LV",
        "outputId": "61ec3dbb-8b42-4d1d-9e55-8dbb79a5f710"
      },
      "execution_count": null,
      "outputs": [
        {
          "output_type": "execute_result",
          "data": {
            "text/plain": [
              "['Unnamed: 0',\n",
              " 'age',\n",
              " 'sex',\n",
              " 'chest pain type',\n",
              " 'resting bps',\n",
              " 'cholesterol',\n",
              " 'fasting blood sugar',\n",
              " 'resting ecg',\n",
              " 'max heart rate',\n",
              " 'exercise angina',\n",
              " 'oldpeak',\n",
              " 'ST slope',\n",
              " 'target']"
            ]
          },
          "metadata": {},
          "execution_count": 9
        }
      ],
      "id": "rDkAavm_N6LV"
    },
    {
      "cell_type": "markdown",
      "source": [
        "# **Statical Information of the Data:**"
      ],
      "metadata": {
        "id": "2S5zRB7cN6LV"
      },
      "id": "2S5zRB7cN6LV"
    },
    {
      "cell_type": "code",
      "source": [
        "diseases.describe()"
      ],
      "metadata": {
        "ExecuteTime": {
          "end_time": "2024-03-19T12:23:15.629801500Z",
          "start_time": "2024-03-19T12:23:15.441235700Z"
        },
        "jupyter": {
          "outputs_hidden": false
        },
        "colab": {
          "base_uri": "https://localhost:8080/",
          "height": 355
        },
        "id": "F9sEDoDJN6LW",
        "outputId": "90f04db0-1b26-42d8-cfbf-c26824f8df2c"
      },
      "execution_count": null,
      "outputs": [
        {
          "output_type": "execute_result",
          "data": {
            "text/plain": [
              "        Unnamed: 0          age          sex  chest pain type  resting bps  \\\n",
              "count  1048.000000  1048.000000  1048.000000      1048.000000  1048.000000   \n",
              "mean    390.841603    53.325382     0.734733         2.817748   132.613550   \n",
              "std     307.916633     9.397822     0.441686         1.118649    17.367605   \n",
              "min       0.000000    28.000000     0.000000         1.000000    92.000000   \n",
              "25%     130.750000    46.000000     0.000000         2.000000   120.000000   \n",
              "50%     262.000000    54.000000     1.000000         3.000000   130.000000   \n",
              "75%     657.250000    60.000000     1.000000         4.000000   140.000000   \n",
              "max    1189.000000    77.000000     1.000000         4.000000   200.000000   \n",
              "\n",
              "       cholesterol  fasting blood sugar  resting ecg  max heart rate  \\\n",
              "count  1048.000000          1048.000000  1048.000000     1048.000000   \n",
              "mean    245.172710             0.162214     0.606870      142.918893   \n",
              "std      57.101359             0.368823     0.763313       24.427115   \n",
              "min      85.000000             0.000000     0.000000       69.000000   \n",
              "25%     208.000000             0.000000     0.000000      125.000000   \n",
              "50%     239.000000             0.000000     0.000000      144.000000   \n",
              "75%     275.000000             0.000000     1.000000      162.000000   \n",
              "max     603.000000             1.000000     2.000000      202.000000   \n",
              "\n",
              "       exercise angina      oldpeak     ST slope       target  \n",
              "count      1048.000000  1048.000000  1048.000000  1048.000000  \n",
              "mean          0.368321     0.942366     1.532443     0.496183  \n",
              "std           0.482579     1.100429     0.611023     0.500224  \n",
              "min           0.000000    -0.100000     0.000000     0.000000  \n",
              "25%           0.000000     0.000000     1.000000     0.000000  \n",
              "50%           0.000000     0.600000     2.000000     0.000000  \n",
              "75%           1.000000     1.600000     2.000000     1.000000  \n",
              "max           1.000000     6.200000     3.000000     1.000000  "
            ],
            "text/html": [
              "\n",
              "  <div id=\"df-d3c94ae9-c5a6-4631-b682-f6949e5a8b7f\" class=\"colab-df-container\">\n",
              "    <div>\n",
              "<style scoped>\n",
              "    .dataframe tbody tr th:only-of-type {\n",
              "        vertical-align: middle;\n",
              "    }\n",
              "\n",
              "    .dataframe tbody tr th {\n",
              "        vertical-align: top;\n",
              "    }\n",
              "\n",
              "    .dataframe thead th {\n",
              "        text-align: right;\n",
              "    }\n",
              "</style>\n",
              "<table border=\"1\" class=\"dataframe\">\n",
              "  <thead>\n",
              "    <tr style=\"text-align: right;\">\n",
              "      <th></th>\n",
              "      <th>Unnamed: 0</th>\n",
              "      <th>age</th>\n",
              "      <th>sex</th>\n",
              "      <th>chest pain type</th>\n",
              "      <th>resting bps</th>\n",
              "      <th>cholesterol</th>\n",
              "      <th>fasting blood sugar</th>\n",
              "      <th>resting ecg</th>\n",
              "      <th>max heart rate</th>\n",
              "      <th>exercise angina</th>\n",
              "      <th>oldpeak</th>\n",
              "      <th>ST slope</th>\n",
              "      <th>target</th>\n",
              "    </tr>\n",
              "  </thead>\n",
              "  <tbody>\n",
              "    <tr>\n",
              "      <th>count</th>\n",
              "      <td>1048.000000</td>\n",
              "      <td>1048.000000</td>\n",
              "      <td>1048.000000</td>\n",
              "      <td>1048.000000</td>\n",
              "      <td>1048.000000</td>\n",
              "      <td>1048.000000</td>\n",
              "      <td>1048.000000</td>\n",
              "      <td>1048.000000</td>\n",
              "      <td>1048.000000</td>\n",
              "      <td>1048.000000</td>\n",
              "      <td>1048.000000</td>\n",
              "      <td>1048.000000</td>\n",
              "      <td>1048.000000</td>\n",
              "    </tr>\n",
              "    <tr>\n",
              "      <th>mean</th>\n",
              "      <td>390.841603</td>\n",
              "      <td>53.325382</td>\n",
              "      <td>0.734733</td>\n",
              "      <td>2.817748</td>\n",
              "      <td>132.613550</td>\n",
              "      <td>245.172710</td>\n",
              "      <td>0.162214</td>\n",
              "      <td>0.606870</td>\n",
              "      <td>142.918893</td>\n",
              "      <td>0.368321</td>\n",
              "      <td>0.942366</td>\n",
              "      <td>1.532443</td>\n",
              "      <td>0.496183</td>\n",
              "    </tr>\n",
              "    <tr>\n",
              "      <th>std</th>\n",
              "      <td>307.916633</td>\n",
              "      <td>9.397822</td>\n",
              "      <td>0.441686</td>\n",
              "      <td>1.118649</td>\n",
              "      <td>17.367605</td>\n",
              "      <td>57.101359</td>\n",
              "      <td>0.368823</td>\n",
              "      <td>0.763313</td>\n",
              "      <td>24.427115</td>\n",
              "      <td>0.482579</td>\n",
              "      <td>1.100429</td>\n",
              "      <td>0.611023</td>\n",
              "      <td>0.500224</td>\n",
              "    </tr>\n",
              "    <tr>\n",
              "      <th>min</th>\n",
              "      <td>0.000000</td>\n",
              "      <td>28.000000</td>\n",
              "      <td>0.000000</td>\n",
              "      <td>1.000000</td>\n",
              "      <td>92.000000</td>\n",
              "      <td>85.000000</td>\n",
              "      <td>0.000000</td>\n",
              "      <td>0.000000</td>\n",
              "      <td>69.000000</td>\n",
              "      <td>0.000000</td>\n",
              "      <td>-0.100000</td>\n",
              "      <td>0.000000</td>\n",
              "      <td>0.000000</td>\n",
              "    </tr>\n",
              "    <tr>\n",
              "      <th>25%</th>\n",
              "      <td>130.750000</td>\n",
              "      <td>46.000000</td>\n",
              "      <td>0.000000</td>\n",
              "      <td>2.000000</td>\n",
              "      <td>120.000000</td>\n",
              "      <td>208.000000</td>\n",
              "      <td>0.000000</td>\n",
              "      <td>0.000000</td>\n",
              "      <td>125.000000</td>\n",
              "      <td>0.000000</td>\n",
              "      <td>0.000000</td>\n",
              "      <td>1.000000</td>\n",
              "      <td>0.000000</td>\n",
              "    </tr>\n",
              "    <tr>\n",
              "      <th>50%</th>\n",
              "      <td>262.000000</td>\n",
              "      <td>54.000000</td>\n",
              "      <td>1.000000</td>\n",
              "      <td>3.000000</td>\n",
              "      <td>130.000000</td>\n",
              "      <td>239.000000</td>\n",
              "      <td>0.000000</td>\n",
              "      <td>0.000000</td>\n",
              "      <td>144.000000</td>\n",
              "      <td>0.000000</td>\n",
              "      <td>0.600000</td>\n",
              "      <td>2.000000</td>\n",
              "      <td>0.000000</td>\n",
              "    </tr>\n",
              "    <tr>\n",
              "      <th>75%</th>\n",
              "      <td>657.250000</td>\n",
              "      <td>60.000000</td>\n",
              "      <td>1.000000</td>\n",
              "      <td>4.000000</td>\n",
              "      <td>140.000000</td>\n",
              "      <td>275.000000</td>\n",
              "      <td>0.000000</td>\n",
              "      <td>1.000000</td>\n",
              "      <td>162.000000</td>\n",
              "      <td>1.000000</td>\n",
              "      <td>1.600000</td>\n",
              "      <td>2.000000</td>\n",
              "      <td>1.000000</td>\n",
              "    </tr>\n",
              "    <tr>\n",
              "      <th>max</th>\n",
              "      <td>1189.000000</td>\n",
              "      <td>77.000000</td>\n",
              "      <td>1.000000</td>\n",
              "      <td>4.000000</td>\n",
              "      <td>200.000000</td>\n",
              "      <td>603.000000</td>\n",
              "      <td>1.000000</td>\n",
              "      <td>2.000000</td>\n",
              "      <td>202.000000</td>\n",
              "      <td>1.000000</td>\n",
              "      <td>6.200000</td>\n",
              "      <td>3.000000</td>\n",
              "      <td>1.000000</td>\n",
              "    </tr>\n",
              "  </tbody>\n",
              "</table>\n",
              "</div>\n",
              "    <div class=\"colab-df-buttons\">\n",
              "\n",
              "  <div class=\"colab-df-container\">\n",
              "    <button class=\"colab-df-convert\" onclick=\"convertToInteractive('df-d3c94ae9-c5a6-4631-b682-f6949e5a8b7f')\"\n",
              "            title=\"Convert this dataframe to an interactive table.\"\n",
              "            style=\"display:none;\">\n",
              "\n",
              "  <svg xmlns=\"http://www.w3.org/2000/svg\" height=\"24px\" viewBox=\"0 -960 960 960\">\n",
              "    <path d=\"M120-120v-720h720v720H120Zm60-500h600v-160H180v160Zm220 220h160v-160H400v160Zm0 220h160v-160H400v160ZM180-400h160v-160H180v160Zm440 0h160v-160H620v160ZM180-180h160v-160H180v160Zm440 0h160v-160H620v160Z\"/>\n",
              "  </svg>\n",
              "    </button>\n",
              "\n",
              "  <style>\n",
              "    .colab-df-container {\n",
              "      display:flex;\n",
              "      gap: 12px;\n",
              "    }\n",
              "\n",
              "    .colab-df-convert {\n",
              "      background-color: #E8F0FE;\n",
              "      border: none;\n",
              "      border-radius: 50%;\n",
              "      cursor: pointer;\n",
              "      display: none;\n",
              "      fill: #1967D2;\n",
              "      height: 32px;\n",
              "      padding: 0 0 0 0;\n",
              "      width: 32px;\n",
              "    }\n",
              "\n",
              "    .colab-df-convert:hover {\n",
              "      background-color: #E2EBFA;\n",
              "      box-shadow: 0px 1px 2px rgba(60, 64, 67, 0.3), 0px 1px 3px 1px rgba(60, 64, 67, 0.15);\n",
              "      fill: #174EA6;\n",
              "    }\n",
              "\n",
              "    .colab-df-buttons div {\n",
              "      margin-bottom: 4px;\n",
              "    }\n",
              "\n",
              "    [theme=dark] .colab-df-convert {\n",
              "      background-color: #3B4455;\n",
              "      fill: #D2E3FC;\n",
              "    }\n",
              "\n",
              "    [theme=dark] .colab-df-convert:hover {\n",
              "      background-color: #434B5C;\n",
              "      box-shadow: 0px 1px 3px 1px rgba(0, 0, 0, 0.15);\n",
              "      filter: drop-shadow(0px 1px 2px rgba(0, 0, 0, 0.3));\n",
              "      fill: #FFFFFF;\n",
              "    }\n",
              "  </style>\n",
              "\n",
              "    <script>\n",
              "      const buttonEl =\n",
              "        document.querySelector('#df-d3c94ae9-c5a6-4631-b682-f6949e5a8b7f button.colab-df-convert');\n",
              "      buttonEl.style.display =\n",
              "        google.colab.kernel.accessAllowed ? 'block' : 'none';\n",
              "\n",
              "      async function convertToInteractive(key) {\n",
              "        const element = document.querySelector('#df-d3c94ae9-c5a6-4631-b682-f6949e5a8b7f');\n",
              "        const dataTable =\n",
              "          await google.colab.kernel.invokeFunction('convertToInteractive',\n",
              "                                                    [key], {});\n",
              "        if (!dataTable) return;\n",
              "\n",
              "        const docLinkHtml = 'Like what you see? Visit the ' +\n",
              "          '<a target=\"_blank\" href=https://colab.research.google.com/notebooks/data_table.ipynb>data table notebook</a>'\n",
              "          + ' to learn more about interactive tables.';\n",
              "        element.innerHTML = '';\n",
              "        dataTable['output_type'] = 'display_data';\n",
              "        await google.colab.output.renderOutput(dataTable, element);\n",
              "        const docLink = document.createElement('div');\n",
              "        docLink.innerHTML = docLinkHtml;\n",
              "        element.appendChild(docLink);\n",
              "      }\n",
              "    </script>\n",
              "  </div>\n",
              "\n",
              "\n",
              "<div id=\"df-960dd98e-0c28-4dd0-8186-975e011b5e88\">\n",
              "  <button class=\"colab-df-quickchart\" onclick=\"quickchart('df-960dd98e-0c28-4dd0-8186-975e011b5e88')\"\n",
              "            title=\"Suggest charts\"\n",
              "            style=\"display:none;\">\n",
              "\n",
              "<svg xmlns=\"http://www.w3.org/2000/svg\" height=\"24px\"viewBox=\"0 0 24 24\"\n",
              "     width=\"24px\">\n",
              "    <g>\n",
              "        <path d=\"M19 3H5c-1.1 0-2 .9-2 2v14c0 1.1.9 2 2 2h14c1.1 0 2-.9 2-2V5c0-1.1-.9-2-2-2zM9 17H7v-7h2v7zm4 0h-2V7h2v10zm4 0h-2v-4h2v4z\"/>\n",
              "    </g>\n",
              "</svg>\n",
              "  </button>\n",
              "\n",
              "<style>\n",
              "  .colab-df-quickchart {\n",
              "      --bg-color: #E8F0FE;\n",
              "      --fill-color: #1967D2;\n",
              "      --hover-bg-color: #E2EBFA;\n",
              "      --hover-fill-color: #174EA6;\n",
              "      --disabled-fill-color: #AAA;\n",
              "      --disabled-bg-color: #DDD;\n",
              "  }\n",
              "\n",
              "  [theme=dark] .colab-df-quickchart {\n",
              "      --bg-color: #3B4455;\n",
              "      --fill-color: #D2E3FC;\n",
              "      --hover-bg-color: #434B5C;\n",
              "      --hover-fill-color: #FFFFFF;\n",
              "      --disabled-bg-color: #3B4455;\n",
              "      --disabled-fill-color: #666;\n",
              "  }\n",
              "\n",
              "  .colab-df-quickchart {\n",
              "    background-color: var(--bg-color);\n",
              "    border: none;\n",
              "    border-radius: 50%;\n",
              "    cursor: pointer;\n",
              "    display: none;\n",
              "    fill: var(--fill-color);\n",
              "    height: 32px;\n",
              "    padding: 0;\n",
              "    width: 32px;\n",
              "  }\n",
              "\n",
              "  .colab-df-quickchart:hover {\n",
              "    background-color: var(--hover-bg-color);\n",
              "    box-shadow: 0 1px 2px rgba(60, 64, 67, 0.3), 0 1px 3px 1px rgba(60, 64, 67, 0.15);\n",
              "    fill: var(--button-hover-fill-color);\n",
              "  }\n",
              "\n",
              "  .colab-df-quickchart-complete:disabled,\n",
              "  .colab-df-quickchart-complete:disabled:hover {\n",
              "    background-color: var(--disabled-bg-color);\n",
              "    fill: var(--disabled-fill-color);\n",
              "    box-shadow: none;\n",
              "  }\n",
              "\n",
              "  .colab-df-spinner {\n",
              "    border: 2px solid var(--fill-color);\n",
              "    border-color: transparent;\n",
              "    border-bottom-color: var(--fill-color);\n",
              "    animation:\n",
              "      spin 1s steps(1) infinite;\n",
              "  }\n",
              "\n",
              "  @keyframes spin {\n",
              "    0% {\n",
              "      border-color: transparent;\n",
              "      border-bottom-color: var(--fill-color);\n",
              "      border-left-color: var(--fill-color);\n",
              "    }\n",
              "    20% {\n",
              "      border-color: transparent;\n",
              "      border-left-color: var(--fill-color);\n",
              "      border-top-color: var(--fill-color);\n",
              "    }\n",
              "    30% {\n",
              "      border-color: transparent;\n",
              "      border-left-color: var(--fill-color);\n",
              "      border-top-color: var(--fill-color);\n",
              "      border-right-color: var(--fill-color);\n",
              "    }\n",
              "    40% {\n",
              "      border-color: transparent;\n",
              "      border-right-color: var(--fill-color);\n",
              "      border-top-color: var(--fill-color);\n",
              "    }\n",
              "    60% {\n",
              "      border-color: transparent;\n",
              "      border-right-color: var(--fill-color);\n",
              "    }\n",
              "    80% {\n",
              "      border-color: transparent;\n",
              "      border-right-color: var(--fill-color);\n",
              "      border-bottom-color: var(--fill-color);\n",
              "    }\n",
              "    90% {\n",
              "      border-color: transparent;\n",
              "      border-bottom-color: var(--fill-color);\n",
              "    }\n",
              "  }\n",
              "</style>\n",
              "\n",
              "  <script>\n",
              "    async function quickchart(key) {\n",
              "      const quickchartButtonEl =\n",
              "        document.querySelector('#' + key + ' button');\n",
              "      quickchartButtonEl.disabled = true;  // To prevent multiple clicks.\n",
              "      quickchartButtonEl.classList.add('colab-df-spinner');\n",
              "      try {\n",
              "        const charts = await google.colab.kernel.invokeFunction(\n",
              "            'suggestCharts', [key], {});\n",
              "      } catch (error) {\n",
              "        console.error('Error during call to suggestCharts:', error);\n",
              "      }\n",
              "      quickchartButtonEl.classList.remove('colab-df-spinner');\n",
              "      quickchartButtonEl.classList.add('colab-df-quickchart-complete');\n",
              "    }\n",
              "    (() => {\n",
              "      let quickchartButtonEl =\n",
              "        document.querySelector('#df-960dd98e-0c28-4dd0-8186-975e011b5e88 button');\n",
              "      quickchartButtonEl.style.display =\n",
              "        google.colab.kernel.accessAllowed ? 'block' : 'none';\n",
              "    })();\n",
              "  </script>\n",
              "</div>\n",
              "\n",
              "    </div>\n",
              "  </div>\n"
            ],
            "application/vnd.google.colaboratory.intrinsic+json": {
              "type": "dataframe",
              "summary": "{\n  \"name\": \"diseases\",\n  \"rows\": 8,\n  \"fields\": [\n    {\n      \"column\": \"Unnamed: 0\",\n      \"properties\": {\n        \"dtype\": \"number\",\n        \"std\": 429.5393457676789,\n        \"min\": 0.0,\n        \"max\": 1189.0,\n        \"num_unique_values\": 8,\n        \"samples\": [\n          390.8416030534351,\n          262.0,\n          1048.0\n        ],\n        \"semantic_type\": \"\",\n        \"description\": \"\"\n      }\n    },\n    {\n      \"column\": \"age\",\n      \"properties\": {\n        \"dtype\": \"number\",\n        \"std\": 354.56293495342334,\n        \"min\": 9.397821530540636,\n        \"max\": 1048.0,\n        \"num_unique_values\": 8,\n        \"samples\": [\n          53.32538167938932,\n          54.0,\n          1048.0\n        ],\n        \"semantic_type\": \"\",\n        \"description\": \"\"\n      }\n    },\n    {\n      \"column\": \"sex\",\n      \"properties\": {\n        \"dtype\": \"number\",\n        \"std\": 370.3132521140549,\n        \"min\": 0.0,\n        \"max\": 1048.0,\n        \"num_unique_values\": 5,\n        \"samples\": [\n          0.7347328244274809,\n          1.0,\n          0.44168614707990705\n        ],\n        \"semantic_type\": \"\",\n        \"description\": \"\"\n      }\n    },\n    {\n      \"column\": \"chest pain type\",\n      \"properties\": {\n        \"dtype\": \"number\",\n        \"std\": 369.619812546631,\n        \"min\": 1.0,\n        \"max\": 1048.0,\n        \"num_unique_values\": 7,\n        \"samples\": [\n          1048.0,\n          2.8177480916030535,\n          3.0\n        ],\n        \"semantic_type\": \"\",\n        \"description\": \"\"\n      }\n    },\n    {\n      \"column\": \"resting bps\",\n      \"properties\": {\n        \"dtype\": \"number\",\n        \"std\": 332.4723070163956,\n        \"min\": 17.367605002691988,\n        \"max\": 1048.0,\n        \"num_unique_values\": 8,\n        \"samples\": [\n          132.6135496183206,\n          130.0,\n          1048.0\n        ],\n        \"semantic_type\": \"\",\n        \"description\": \"\"\n      }\n    },\n    {\n      \"column\": \"cholesterol\",\n      \"properties\": {\n        \"dtype\": \"number\",\n        \"std\": 328.6615945364151,\n        \"min\": 57.101358794878216,\n        \"max\": 1048.0,\n        \"num_unique_values\": 8,\n        \"samples\": [\n          245.17270992366412,\n          239.0,\n          1048.0\n        ],\n        \"semantic_type\": \"\",\n        \"description\": \"\"\n      }\n    },\n    {\n      \"column\": \"fasting blood sugar\",\n      \"properties\": {\n        \"dtype\": \"number\",\n        \"std\": 370.4467838716987,\n        \"min\": 0.0,\n        \"max\": 1048.0,\n        \"num_unique_values\": 5,\n        \"samples\": [\n          0.16221374045801526,\n          1.0,\n          0.36882277954940995\n        ],\n        \"semantic_type\": \"\",\n        \"description\": \"\"\n      }\n    },\n    {\n      \"column\": \"resting ecg\",\n      \"properties\": {\n        \"dtype\": \"number\",\n        \"std\": 370.30384738509434,\n        \"min\": 0.0,\n        \"max\": 1048.0,\n        \"num_unique_values\": 6,\n        \"samples\": [\n          1048.0,\n          0.6068702290076335,\n          2.0\n        ],\n        \"semantic_type\": \"\",\n        \"description\": \"\"\n      }\n    },\n    {\n      \"column\": \"max heart rate\",\n      \"properties\": {\n        \"dtype\": \"number\",\n        \"std\": 331.22489759083186,\n        \"min\": 24.4271152575409,\n        \"max\": 1048.0,\n        \"num_unique_values\": 8,\n        \"samples\": [\n          142.918893129771,\n          144.0,\n          1048.0\n        ],\n        \"semantic_type\": \"\",\n        \"description\": \"\"\n      }\n    },\n    {\n      \"column\": \"exercise angina\",\n      \"properties\": {\n        \"dtype\": \"number\",\n        \"std\": 370.3801940129539,\n        \"min\": 0.0,\n        \"max\": 1048.0,\n        \"num_unique_values\": 5,\n        \"samples\": [\n          0.3683206106870229,\n          1.0,\n          0.48257927307255993\n        ],\n        \"semantic_type\": \"\",\n        \"description\": \"\"\n      }\n    },\n    {\n      \"column\": \"oldpeak\",\n      \"properties\": {\n        \"dtype\": \"number\",\n        \"std\": 370.00700473239647,\n        \"min\": -0.1,\n        \"max\": 1048.0,\n        \"num_unique_values\": 8,\n        \"samples\": [\n          0.9423664122137405,\n          0.6,\n          1048.0\n        ],\n        \"semantic_type\": \"\",\n        \"description\": \"\"\n      }\n    },\n    {\n      \"column\": \"ST slope\",\n      \"properties\": {\n        \"dtype\": \"number\",\n        \"std\": 370.0127936741415,\n        \"min\": 0.0,\n        \"max\": 1048.0,\n        \"num_unique_values\": 7,\n        \"samples\": [\n          1048.0,\n          1.532442748091603,\n          2.0\n        ],\n        \"semantic_type\": \"\",\n        \"description\": \"\"\n      }\n    },\n    {\n      \"column\": \"target\",\n      \"properties\": {\n        \"dtype\": \"number\",\n        \"std\": 370.3728460018848,\n        \"min\": 0.0,\n        \"max\": 1048.0,\n        \"num_unique_values\": 5,\n        \"samples\": [\n          0.4961832061068702,\n          1.0,\n          0.5002241453886722\n        ],\n        \"semantic_type\": \"\",\n        \"description\": \"\"\n      }\n    }\n  ]\n}"
            }
          },
          "metadata": {},
          "execution_count": 10
        }
      ],
      "id": "F9sEDoDJN6LW"
    },
    {
      "cell_type": "markdown",
      "source": [
        "# **Drop the Unneeded Column:**"
      ],
      "metadata": {
        "id": "JOnBo_9FN6LW"
      },
      "id": "JOnBo_9FN6LW"
    },
    {
      "cell_type": "code",
      "source": [
        "diseases.drop('Unnamed: 0',axis=1,inplace=True)\n",
        "diseases"
      ],
      "metadata": {
        "ExecuteTime": {
          "end_time": "2024-03-19T12:23:15.633789500Z",
          "start_time": "2024-03-19T12:23:15.489686900Z"
        },
        "jupyter": {
          "outputs_hidden": false
        },
        "colab": {
          "base_uri": "https://localhost:8080/",
          "height": 441
        },
        "id": "_gzPTx7mN6LW",
        "outputId": "cc83c562-1d04-4488-e458-60a1a72f3bce"
      },
      "execution_count": null,
      "outputs": [
        {
          "output_type": "execute_result",
          "data": {
            "text/plain": [
              "      age  sex  chest pain type  resting bps  cholesterol  \\\n",
              "0      40    1                2          140        289.0   \n",
              "1      49    0                3          160        180.0   \n",
              "2      37    1                2          130        283.0   \n",
              "3      48    0                4          138        214.0   \n",
              "4      54    1                3          150        195.0   \n",
              "...   ...  ...              ...          ...          ...   \n",
              "1043   68    0                3          120        211.0   \n",
              "1044   44    0                3          108        141.0   \n",
              "1045   52    1                1          128        255.0   \n",
              "1046   59    1                4          160        273.0   \n",
              "1047   54    1                1          120        188.0   \n",
              "\n",
              "      fasting blood sugar  resting ecg  max heart rate  exercise angina  \\\n",
              "0                       0            0             172                0   \n",
              "1                       0            0             156                0   \n",
              "2                       0            1              98                0   \n",
              "3                       0            0             108                1   \n",
              "4                       0            0             122                0   \n",
              "...                   ...          ...             ...              ...   \n",
              "1043                    0            0             115                0   \n",
              "1044                    0            1             175                0   \n",
              "1045                    0            1             161                1   \n",
              "1046                    0            0             125                0   \n",
              "1047                    0            1             113                0   \n",
              "\n",
              "      oldpeak  ST slope  target  \n",
              "0         0.0         1       0  \n",
              "1         1.0         2       1  \n",
              "2         0.0         1       0  \n",
              "3         1.5         2       1  \n",
              "4         0.0         1       0  \n",
              "...       ...       ...     ...  \n",
              "1043      1.5         1       1  \n",
              "1044      0.6         1       1  \n",
              "1045      0.0         2       0  \n",
              "1046      0.0         2       0  \n",
              "1047      1.4         1       0  \n",
              "\n",
              "[1048 rows x 12 columns]"
            ],
            "text/html": [
              "\n",
              "  <div id=\"df-76b39bef-eb2e-4cb4-9d06-7792bb471731\" class=\"colab-df-container\">\n",
              "    <div>\n",
              "<style scoped>\n",
              "    .dataframe tbody tr th:only-of-type {\n",
              "        vertical-align: middle;\n",
              "    }\n",
              "\n",
              "    .dataframe tbody tr th {\n",
              "        vertical-align: top;\n",
              "    }\n",
              "\n",
              "    .dataframe thead th {\n",
              "        text-align: right;\n",
              "    }\n",
              "</style>\n",
              "<table border=\"1\" class=\"dataframe\">\n",
              "  <thead>\n",
              "    <tr style=\"text-align: right;\">\n",
              "      <th></th>\n",
              "      <th>age</th>\n",
              "      <th>sex</th>\n",
              "      <th>chest pain type</th>\n",
              "      <th>resting bps</th>\n",
              "      <th>cholesterol</th>\n",
              "      <th>fasting blood sugar</th>\n",
              "      <th>resting ecg</th>\n",
              "      <th>max heart rate</th>\n",
              "      <th>exercise angina</th>\n",
              "      <th>oldpeak</th>\n",
              "      <th>ST slope</th>\n",
              "      <th>target</th>\n",
              "    </tr>\n",
              "  </thead>\n",
              "  <tbody>\n",
              "    <tr>\n",
              "      <th>0</th>\n",
              "      <td>40</td>\n",
              "      <td>1</td>\n",
              "      <td>2</td>\n",
              "      <td>140</td>\n",
              "      <td>289.0</td>\n",
              "      <td>0</td>\n",
              "      <td>0</td>\n",
              "      <td>172</td>\n",
              "      <td>0</td>\n",
              "      <td>0.0</td>\n",
              "      <td>1</td>\n",
              "      <td>0</td>\n",
              "    </tr>\n",
              "    <tr>\n",
              "      <th>1</th>\n",
              "      <td>49</td>\n",
              "      <td>0</td>\n",
              "      <td>3</td>\n",
              "      <td>160</td>\n",
              "      <td>180.0</td>\n",
              "      <td>0</td>\n",
              "      <td>0</td>\n",
              "      <td>156</td>\n",
              "      <td>0</td>\n",
              "      <td>1.0</td>\n",
              "      <td>2</td>\n",
              "      <td>1</td>\n",
              "    </tr>\n",
              "    <tr>\n",
              "      <th>2</th>\n",
              "      <td>37</td>\n",
              "      <td>1</td>\n",
              "      <td>2</td>\n",
              "      <td>130</td>\n",
              "      <td>283.0</td>\n",
              "      <td>0</td>\n",
              "      <td>1</td>\n",
              "      <td>98</td>\n",
              "      <td>0</td>\n",
              "      <td>0.0</td>\n",
              "      <td>1</td>\n",
              "      <td>0</td>\n",
              "    </tr>\n",
              "    <tr>\n",
              "      <th>3</th>\n",
              "      <td>48</td>\n",
              "      <td>0</td>\n",
              "      <td>4</td>\n",
              "      <td>138</td>\n",
              "      <td>214.0</td>\n",
              "      <td>0</td>\n",
              "      <td>0</td>\n",
              "      <td>108</td>\n",
              "      <td>1</td>\n",
              "      <td>1.5</td>\n",
              "      <td>2</td>\n",
              "      <td>1</td>\n",
              "    </tr>\n",
              "    <tr>\n",
              "      <th>4</th>\n",
              "      <td>54</td>\n",
              "      <td>1</td>\n",
              "      <td>3</td>\n",
              "      <td>150</td>\n",
              "      <td>195.0</td>\n",
              "      <td>0</td>\n",
              "      <td>0</td>\n",
              "      <td>122</td>\n",
              "      <td>0</td>\n",
              "      <td>0.0</td>\n",
              "      <td>1</td>\n",
              "      <td>0</td>\n",
              "    </tr>\n",
              "    <tr>\n",
              "      <th>...</th>\n",
              "      <td>...</td>\n",
              "      <td>...</td>\n",
              "      <td>...</td>\n",
              "      <td>...</td>\n",
              "      <td>...</td>\n",
              "      <td>...</td>\n",
              "      <td>...</td>\n",
              "      <td>...</td>\n",
              "      <td>...</td>\n",
              "      <td>...</td>\n",
              "      <td>...</td>\n",
              "      <td>...</td>\n",
              "    </tr>\n",
              "    <tr>\n",
              "      <th>1043</th>\n",
              "      <td>68</td>\n",
              "      <td>0</td>\n",
              "      <td>3</td>\n",
              "      <td>120</td>\n",
              "      <td>211.0</td>\n",
              "      <td>0</td>\n",
              "      <td>0</td>\n",
              "      <td>115</td>\n",
              "      <td>0</td>\n",
              "      <td>1.5</td>\n",
              "      <td>1</td>\n",
              "      <td>1</td>\n",
              "    </tr>\n",
              "    <tr>\n",
              "      <th>1044</th>\n",
              "      <td>44</td>\n",
              "      <td>0</td>\n",
              "      <td>3</td>\n",
              "      <td>108</td>\n",
              "      <td>141.0</td>\n",
              "      <td>0</td>\n",
              "      <td>1</td>\n",
              "      <td>175</td>\n",
              "      <td>0</td>\n",
              "      <td>0.6</td>\n",
              "      <td>1</td>\n",
              "      <td>1</td>\n",
              "    </tr>\n",
              "    <tr>\n",
              "      <th>1045</th>\n",
              "      <td>52</td>\n",
              "      <td>1</td>\n",
              "      <td>1</td>\n",
              "      <td>128</td>\n",
              "      <td>255.0</td>\n",
              "      <td>0</td>\n",
              "      <td>1</td>\n",
              "      <td>161</td>\n",
              "      <td>1</td>\n",
              "      <td>0.0</td>\n",
              "      <td>2</td>\n",
              "      <td>0</td>\n",
              "    </tr>\n",
              "    <tr>\n",
              "      <th>1046</th>\n",
              "      <td>59</td>\n",
              "      <td>1</td>\n",
              "      <td>4</td>\n",
              "      <td>160</td>\n",
              "      <td>273.0</td>\n",
              "      <td>0</td>\n",
              "      <td>0</td>\n",
              "      <td>125</td>\n",
              "      <td>0</td>\n",
              "      <td>0.0</td>\n",
              "      <td>2</td>\n",
              "      <td>0</td>\n",
              "    </tr>\n",
              "    <tr>\n",
              "      <th>1047</th>\n",
              "      <td>54</td>\n",
              "      <td>1</td>\n",
              "      <td>1</td>\n",
              "      <td>120</td>\n",
              "      <td>188.0</td>\n",
              "      <td>0</td>\n",
              "      <td>1</td>\n",
              "      <td>113</td>\n",
              "      <td>0</td>\n",
              "      <td>1.4</td>\n",
              "      <td>1</td>\n",
              "      <td>0</td>\n",
              "    </tr>\n",
              "  </tbody>\n",
              "</table>\n",
              "<p>1048 rows × 12 columns</p>\n",
              "</div>\n",
              "    <div class=\"colab-df-buttons\">\n",
              "\n",
              "  <div class=\"colab-df-container\">\n",
              "    <button class=\"colab-df-convert\" onclick=\"convertToInteractive('df-76b39bef-eb2e-4cb4-9d06-7792bb471731')\"\n",
              "            title=\"Convert this dataframe to an interactive table.\"\n",
              "            style=\"display:none;\">\n",
              "\n",
              "  <svg xmlns=\"http://www.w3.org/2000/svg\" height=\"24px\" viewBox=\"0 -960 960 960\">\n",
              "    <path d=\"M120-120v-720h720v720H120Zm60-500h600v-160H180v160Zm220 220h160v-160H400v160Zm0 220h160v-160H400v160ZM180-400h160v-160H180v160Zm440 0h160v-160H620v160ZM180-180h160v-160H180v160Zm440 0h160v-160H620v160Z\"/>\n",
              "  </svg>\n",
              "    </button>\n",
              "\n",
              "  <style>\n",
              "    .colab-df-container {\n",
              "      display:flex;\n",
              "      gap: 12px;\n",
              "    }\n",
              "\n",
              "    .colab-df-convert {\n",
              "      background-color: #E8F0FE;\n",
              "      border: none;\n",
              "      border-radius: 50%;\n",
              "      cursor: pointer;\n",
              "      display: none;\n",
              "      fill: #1967D2;\n",
              "      height: 32px;\n",
              "      padding: 0 0 0 0;\n",
              "      width: 32px;\n",
              "    }\n",
              "\n",
              "    .colab-df-convert:hover {\n",
              "      background-color: #E2EBFA;\n",
              "      box-shadow: 0px 1px 2px rgba(60, 64, 67, 0.3), 0px 1px 3px 1px rgba(60, 64, 67, 0.15);\n",
              "      fill: #174EA6;\n",
              "    }\n",
              "\n",
              "    .colab-df-buttons div {\n",
              "      margin-bottom: 4px;\n",
              "    }\n",
              "\n",
              "    [theme=dark] .colab-df-convert {\n",
              "      background-color: #3B4455;\n",
              "      fill: #D2E3FC;\n",
              "    }\n",
              "\n",
              "    [theme=dark] .colab-df-convert:hover {\n",
              "      background-color: #434B5C;\n",
              "      box-shadow: 0px 1px 3px 1px rgba(0, 0, 0, 0.15);\n",
              "      filter: drop-shadow(0px 1px 2px rgba(0, 0, 0, 0.3));\n",
              "      fill: #FFFFFF;\n",
              "    }\n",
              "  </style>\n",
              "\n",
              "    <script>\n",
              "      const buttonEl =\n",
              "        document.querySelector('#df-76b39bef-eb2e-4cb4-9d06-7792bb471731 button.colab-df-convert');\n",
              "      buttonEl.style.display =\n",
              "        google.colab.kernel.accessAllowed ? 'block' : 'none';\n",
              "\n",
              "      async function convertToInteractive(key) {\n",
              "        const element = document.querySelector('#df-76b39bef-eb2e-4cb4-9d06-7792bb471731');\n",
              "        const dataTable =\n",
              "          await google.colab.kernel.invokeFunction('convertToInteractive',\n",
              "                                                    [key], {});\n",
              "        if (!dataTable) return;\n",
              "\n",
              "        const docLinkHtml = 'Like what you see? Visit the ' +\n",
              "          '<a target=\"_blank\" href=https://colab.research.google.com/notebooks/data_table.ipynb>data table notebook</a>'\n",
              "          + ' to learn more about interactive tables.';\n",
              "        element.innerHTML = '';\n",
              "        dataTable['output_type'] = 'display_data';\n",
              "        await google.colab.output.renderOutput(dataTable, element);\n",
              "        const docLink = document.createElement('div');\n",
              "        docLink.innerHTML = docLinkHtml;\n",
              "        element.appendChild(docLink);\n",
              "      }\n",
              "    </script>\n",
              "  </div>\n",
              "\n",
              "\n",
              "<div id=\"df-6522fafb-9f97-4b0e-8531-b829cba9bef3\">\n",
              "  <button class=\"colab-df-quickchart\" onclick=\"quickchart('df-6522fafb-9f97-4b0e-8531-b829cba9bef3')\"\n",
              "            title=\"Suggest charts\"\n",
              "            style=\"display:none;\">\n",
              "\n",
              "<svg xmlns=\"http://www.w3.org/2000/svg\" height=\"24px\"viewBox=\"0 0 24 24\"\n",
              "     width=\"24px\">\n",
              "    <g>\n",
              "        <path d=\"M19 3H5c-1.1 0-2 .9-2 2v14c0 1.1.9 2 2 2h14c1.1 0 2-.9 2-2V5c0-1.1-.9-2-2-2zM9 17H7v-7h2v7zm4 0h-2V7h2v10zm4 0h-2v-4h2v4z\"/>\n",
              "    </g>\n",
              "</svg>\n",
              "  </button>\n",
              "\n",
              "<style>\n",
              "  .colab-df-quickchart {\n",
              "      --bg-color: #E8F0FE;\n",
              "      --fill-color: #1967D2;\n",
              "      --hover-bg-color: #E2EBFA;\n",
              "      --hover-fill-color: #174EA6;\n",
              "      --disabled-fill-color: #AAA;\n",
              "      --disabled-bg-color: #DDD;\n",
              "  }\n",
              "\n",
              "  [theme=dark] .colab-df-quickchart {\n",
              "      --bg-color: #3B4455;\n",
              "      --fill-color: #D2E3FC;\n",
              "      --hover-bg-color: #434B5C;\n",
              "      --hover-fill-color: #FFFFFF;\n",
              "      --disabled-bg-color: #3B4455;\n",
              "      --disabled-fill-color: #666;\n",
              "  }\n",
              "\n",
              "  .colab-df-quickchart {\n",
              "    background-color: var(--bg-color);\n",
              "    border: none;\n",
              "    border-radius: 50%;\n",
              "    cursor: pointer;\n",
              "    display: none;\n",
              "    fill: var(--fill-color);\n",
              "    height: 32px;\n",
              "    padding: 0;\n",
              "    width: 32px;\n",
              "  }\n",
              "\n",
              "  .colab-df-quickchart:hover {\n",
              "    background-color: var(--hover-bg-color);\n",
              "    box-shadow: 0 1px 2px rgba(60, 64, 67, 0.3), 0 1px 3px 1px rgba(60, 64, 67, 0.15);\n",
              "    fill: var(--button-hover-fill-color);\n",
              "  }\n",
              "\n",
              "  .colab-df-quickchart-complete:disabled,\n",
              "  .colab-df-quickchart-complete:disabled:hover {\n",
              "    background-color: var(--disabled-bg-color);\n",
              "    fill: var(--disabled-fill-color);\n",
              "    box-shadow: none;\n",
              "  }\n",
              "\n",
              "  .colab-df-spinner {\n",
              "    border: 2px solid var(--fill-color);\n",
              "    border-color: transparent;\n",
              "    border-bottom-color: var(--fill-color);\n",
              "    animation:\n",
              "      spin 1s steps(1) infinite;\n",
              "  }\n",
              "\n",
              "  @keyframes spin {\n",
              "    0% {\n",
              "      border-color: transparent;\n",
              "      border-bottom-color: var(--fill-color);\n",
              "      border-left-color: var(--fill-color);\n",
              "    }\n",
              "    20% {\n",
              "      border-color: transparent;\n",
              "      border-left-color: var(--fill-color);\n",
              "      border-top-color: var(--fill-color);\n",
              "    }\n",
              "    30% {\n",
              "      border-color: transparent;\n",
              "      border-left-color: var(--fill-color);\n",
              "      border-top-color: var(--fill-color);\n",
              "      border-right-color: var(--fill-color);\n",
              "    }\n",
              "    40% {\n",
              "      border-color: transparent;\n",
              "      border-right-color: var(--fill-color);\n",
              "      border-top-color: var(--fill-color);\n",
              "    }\n",
              "    60% {\n",
              "      border-color: transparent;\n",
              "      border-right-color: var(--fill-color);\n",
              "    }\n",
              "    80% {\n",
              "      border-color: transparent;\n",
              "      border-right-color: var(--fill-color);\n",
              "      border-bottom-color: var(--fill-color);\n",
              "    }\n",
              "    90% {\n",
              "      border-color: transparent;\n",
              "      border-bottom-color: var(--fill-color);\n",
              "    }\n",
              "  }\n",
              "</style>\n",
              "\n",
              "  <script>\n",
              "    async function quickchart(key) {\n",
              "      const quickchartButtonEl =\n",
              "        document.querySelector('#' + key + ' button');\n",
              "      quickchartButtonEl.disabled = true;  // To prevent multiple clicks.\n",
              "      quickchartButtonEl.classList.add('colab-df-spinner');\n",
              "      try {\n",
              "        const charts = await google.colab.kernel.invokeFunction(\n",
              "            'suggestCharts', [key], {});\n",
              "      } catch (error) {\n",
              "        console.error('Error during call to suggestCharts:', error);\n",
              "      }\n",
              "      quickchartButtonEl.classList.remove('colab-df-spinner');\n",
              "      quickchartButtonEl.classList.add('colab-df-quickchart-complete');\n",
              "    }\n",
              "    (() => {\n",
              "      let quickchartButtonEl =\n",
              "        document.querySelector('#df-6522fafb-9f97-4b0e-8531-b829cba9bef3 button');\n",
              "      quickchartButtonEl.style.display =\n",
              "        google.colab.kernel.accessAllowed ? 'block' : 'none';\n",
              "    })();\n",
              "  </script>\n",
              "</div>\n",
              "\n",
              "  <div id=\"id_fde977bc-e907-472e-ae50-71e370406158\">\n",
              "    <style>\n",
              "      .colab-df-generate {\n",
              "        background-color: #E8F0FE;\n",
              "        border: none;\n",
              "        border-radius: 50%;\n",
              "        cursor: pointer;\n",
              "        display: none;\n",
              "        fill: #1967D2;\n",
              "        height: 32px;\n",
              "        padding: 0 0 0 0;\n",
              "        width: 32px;\n",
              "      }\n",
              "\n",
              "      .colab-df-generate:hover {\n",
              "        background-color: #E2EBFA;\n",
              "        box-shadow: 0px 1px 2px rgba(60, 64, 67, 0.3), 0px 1px 3px 1px rgba(60, 64, 67, 0.15);\n",
              "        fill: #174EA6;\n",
              "      }\n",
              "\n",
              "      [theme=dark] .colab-df-generate {\n",
              "        background-color: #3B4455;\n",
              "        fill: #D2E3FC;\n",
              "      }\n",
              "\n",
              "      [theme=dark] .colab-df-generate:hover {\n",
              "        background-color: #434B5C;\n",
              "        box-shadow: 0px 1px 3px 1px rgba(0, 0, 0, 0.15);\n",
              "        filter: drop-shadow(0px 1px 2px rgba(0, 0, 0, 0.3));\n",
              "        fill: #FFFFFF;\n",
              "      }\n",
              "    </style>\n",
              "    <button class=\"colab-df-generate\" onclick=\"generateWithVariable('diseases')\"\n",
              "            title=\"Generate code using this dataframe.\"\n",
              "            style=\"display:none;\">\n",
              "\n",
              "  <svg xmlns=\"http://www.w3.org/2000/svg\" height=\"24px\"viewBox=\"0 0 24 24\"\n",
              "       width=\"24px\">\n",
              "    <path d=\"M7,19H8.4L18.45,9,17,7.55,7,17.6ZM5,21V16.75L18.45,3.32a2,2,0,0,1,2.83,0l1.4,1.43a1.91,1.91,0,0,1,.58,1.4,1.91,1.91,0,0,1-.58,1.4L9.25,21ZM18.45,9,17,7.55Zm-12,3A5.31,5.31,0,0,0,4.9,8.1,5.31,5.31,0,0,0,1,6.5,5.31,5.31,0,0,0,4.9,4.9,5.31,5.31,0,0,0,6.5,1,5.31,5.31,0,0,0,8.1,4.9,5.31,5.31,0,0,0,12,6.5,5.46,5.46,0,0,0,6.5,12Z\"/>\n",
              "  </svg>\n",
              "    </button>\n",
              "    <script>\n",
              "      (() => {\n",
              "      const buttonEl =\n",
              "        document.querySelector('#id_fde977bc-e907-472e-ae50-71e370406158 button.colab-df-generate');\n",
              "      buttonEl.style.display =\n",
              "        google.colab.kernel.accessAllowed ? 'block' : 'none';\n",
              "\n",
              "      buttonEl.onclick = () => {\n",
              "        google.colab.notebook.generateWithVariable('diseases');\n",
              "      }\n",
              "      })();\n",
              "    </script>\n",
              "  </div>\n",
              "\n",
              "    </div>\n",
              "  </div>\n"
            ],
            "application/vnd.google.colaboratory.intrinsic+json": {
              "type": "dataframe",
              "variable_name": "diseases",
              "summary": "{\n  \"name\": \"diseases\",\n  \"rows\": 1048,\n  \"fields\": [\n    {\n      \"column\": \"age\",\n      \"properties\": {\n        \"dtype\": \"number\",\n        \"std\": 9,\n        \"min\": 28,\n        \"max\": 77,\n        \"num_unique_values\": 49,\n        \"samples\": [\n          44,\n          74,\n          70\n        ],\n        \"semantic_type\": \"\",\n        \"description\": \"\"\n      }\n    },\n    {\n      \"column\": \"sex\",\n      \"properties\": {\n        \"dtype\": \"number\",\n        \"std\": 0,\n        \"min\": 0,\n        \"max\": 1,\n        \"num_unique_values\": 2,\n        \"samples\": [\n          0,\n          1\n        ],\n        \"semantic_type\": \"\",\n        \"description\": \"\"\n      }\n    },\n    {\n      \"column\": \"chest pain type\",\n      \"properties\": {\n        \"dtype\": \"number\",\n        \"std\": 1,\n        \"min\": 1,\n        \"max\": 4,\n        \"num_unique_values\": 4,\n        \"samples\": [\n          3,\n          1\n        ],\n        \"semantic_type\": \"\",\n        \"description\": \"\"\n      }\n    },\n    {\n      \"column\": \"resting bps\",\n      \"properties\": {\n        \"dtype\": \"number\",\n        \"std\": 17,\n        \"min\": 92,\n        \"max\": 200,\n        \"num_unique_values\": 63,\n        \"samples\": [\n          154,\n          117\n        ],\n        \"semantic_type\": \"\",\n        \"description\": \"\"\n      }\n    },\n    {\n      \"column\": \"cholesterol\",\n      \"properties\": {\n        \"dtype\": \"number\",\n        \"std\": 57.101358794878216,\n        \"min\": 85.0,\n        \"max\": 603.0,\n        \"num_unique_values\": 221,\n        \"samples\": [\n          226.0,\n          491.0\n        ],\n        \"semantic_type\": \"\",\n        \"description\": \"\"\n      }\n    },\n    {\n      \"column\": \"fasting blood sugar\",\n      \"properties\": {\n        \"dtype\": \"number\",\n        \"std\": 0,\n        \"min\": 0,\n        \"max\": 1,\n        \"num_unique_values\": 2,\n        \"samples\": [\n          1,\n          0\n        ],\n        \"semantic_type\": \"\",\n        \"description\": \"\"\n      }\n    },\n    {\n      \"column\": \"resting ecg\",\n      \"properties\": {\n        \"dtype\": \"number\",\n        \"std\": 0,\n        \"min\": 0,\n        \"max\": 2,\n        \"num_unique_values\": 3,\n        \"samples\": [\n          0,\n          1\n        ],\n        \"semantic_type\": \"\",\n        \"description\": \"\"\n      }\n    },\n    {\n      \"column\": \"max heart rate\",\n      \"properties\": {\n        \"dtype\": \"number\",\n        \"std\": 24,\n        \"min\": 69,\n        \"max\": 202,\n        \"num_unique_values\": 109,\n        \"samples\": [\n          161,\n          145\n        ],\n        \"semantic_type\": \"\",\n        \"description\": \"\"\n      }\n    },\n    {\n      \"column\": \"exercise angina\",\n      \"properties\": {\n        \"dtype\": \"number\",\n        \"std\": 0,\n        \"min\": 0,\n        \"max\": 1,\n        \"num_unique_values\": 2,\n        \"samples\": [\n          1,\n          0\n        ],\n        \"semantic_type\": \"\",\n        \"description\": \"\"\n      }\n    },\n    {\n      \"column\": \"oldpeak\",\n      \"properties\": {\n        \"dtype\": \"number\",\n        \"std\": 1.1004292517064318,\n        \"min\": -0.1,\n        \"max\": 6.2,\n        \"num_unique_values\": 43,\n        \"samples\": [\n          3.8,\n          2.4\n        ],\n        \"semantic_type\": \"\",\n        \"description\": \"\"\n      }\n    },\n    {\n      \"column\": \"ST slope\",\n      \"properties\": {\n        \"dtype\": \"number\",\n        \"std\": 0,\n        \"min\": 0,\n        \"max\": 3,\n        \"num_unique_values\": 4,\n        \"samples\": [\n          2,\n          0\n        ],\n        \"semantic_type\": \"\",\n        \"description\": \"\"\n      }\n    },\n    {\n      \"column\": \"target\",\n      \"properties\": {\n        \"dtype\": \"number\",\n        \"std\": 0,\n        \"min\": 0,\n        \"max\": 1,\n        \"num_unique_values\": 2,\n        \"samples\": [\n          1,\n          0\n        ],\n        \"semantic_type\": \"\",\n        \"description\": \"\"\n      }\n    }\n  ]\n}"
            }
          },
          "metadata": {},
          "execution_count": 11
        }
      ],
      "id": "_gzPTx7mN6LW"
    },
    {
      "cell_type": "markdown",
      "source": [
        "## **Correlation Table**"
      ],
      "metadata": {
        "id": "ogMod1rwVJfZ"
      },
      "id": "ogMod1rwVJfZ"
    },
    {
      "cell_type": "code",
      "source": [
        "# Calculate the correlation matrix\n",
        "correlation_matrix = diseases.corr()\n",
        "\n",
        "# Display the correlation matrix\n",
        "print(correlation_matrix)\n",
        "\n",
        "# Visualize the correlation matrix with a heatmap\n",
        "plt.figure(figsize=(10, 8))\n",
        "sns.heatmap(correlation_matrix, annot=True, cmap='coolwarm', fmt='.2f', linewidths=0.5)\n",
        "plt.title('Correlation Matrix')\n",
        "plt.show()\n"
      ],
      "metadata": {
        "colab": {
          "base_uri": "https://localhost:8080/",
          "height": 1000
        },
        "id": "G2Zxksp_UwjU",
        "outputId": "1b8b1fe5-0738-4bc4-a698-29d99be9fa5d"
      },
      "id": "G2Zxksp_UwjU",
      "execution_count": null,
      "outputs": [
        {
          "output_type": "stream",
          "name": "stdout",
          "text": [
            "                          age       sex  chest pain type  resting bps  \\\n",
            "age                  1.000000  0.021173         0.061909     0.271258   \n",
            "sex                  0.021173  1.000000         0.100095     0.052696   \n",
            "chest pain type      0.061909  0.100095         1.000000     0.065543   \n",
            "resting bps          0.271258  0.052696         0.065543     1.000000   \n",
            "cholesterol          0.095197 -0.082446        -0.003127     0.062966   \n",
            "fasting blood sugar  0.198129  0.088910         0.056569     0.158696   \n",
            "resting ecg          0.147666 -0.005598         0.099932     0.012090   \n",
            "max heart rate      -0.390202 -0.133276        -0.219295    -0.121259   \n",
            "exercise angina      0.196292  0.209263         0.206091     0.113910   \n",
            "oldpeak              0.264781  0.144855         0.111937     0.184049   \n",
            "ST slope             0.145192  0.095844         0.295466     0.065710   \n",
            "target               0.166090  0.113366         0.364758     0.083493   \n",
            "\n",
            "                     cholesterol  fasting blood sugar  resting ecg  \\\n",
            "age                     0.095197             0.198129     0.147666   \n",
            "sex                    -0.082446             0.088910    -0.005598   \n",
            "chest pain type        -0.003127             0.056569     0.099932   \n",
            "resting bps             0.062966             0.158696     0.012090   \n",
            "cholesterol             1.000000             0.014027     0.021745   \n",
            "fasting blood sugar     0.014027             1.000000     0.086849   \n",
            "resting ecg             0.021745             0.086849     1.000000   \n",
            "max heart rate         -0.002838            -0.087260     0.006944   \n",
            "exercise angina         0.108035             0.078222     0.026579   \n",
            "oldpeak                 0.039650             0.034125     0.067330   \n",
            "ST slope                0.035879             0.083635     0.104192   \n",
            "target                  0.042495             0.108444     0.119886   \n",
            "\n",
            "                     max heart rate  exercise angina   oldpeak  ST slope  \\\n",
            "age                       -0.390202         0.196292  0.264781  0.145192   \n",
            "sex                       -0.133276         0.209263  0.144855  0.095844   \n",
            "chest pain type           -0.219295         0.206091  0.111937  0.295466   \n",
            "resting bps               -0.121259         0.113910  0.184049  0.065710   \n",
            "cholesterol               -0.002838         0.108035  0.039650  0.035879   \n",
            "fasting blood sugar       -0.087260         0.078222  0.034125  0.083635   \n",
            "resting ecg                0.006944         0.026579  0.067330  0.104192   \n",
            "max heart rate             1.000000        -0.410285 -0.277518 -0.159105   \n",
            "exercise angina           -0.410285         1.000000  0.422041  0.275860   \n",
            "oldpeak                   -0.277518         0.422041  1.000000  0.242414   \n",
            "ST slope                  -0.159105         0.275860  0.242414  1.000000   \n",
            "target                    -0.149096         0.273306  0.220379  0.505664   \n",
            "\n",
            "                       target  \n",
            "age                  0.166090  \n",
            "sex                  0.113366  \n",
            "chest pain type      0.364758  \n",
            "resting bps          0.083493  \n",
            "cholesterol          0.042495  \n",
            "fasting blood sugar  0.108444  \n",
            "resting ecg          0.119886  \n",
            "max heart rate      -0.149096  \n",
            "exercise angina      0.273306  \n",
            "oldpeak              0.220379  \n",
            "ST slope             0.505664  \n",
            "target               1.000000  \n"
          ]
        },
        {
          "output_type": "display_data",
          "data": {
            "text/plain": [
              "<Figure size 1000x800 with 2 Axes>"
            ],
            "image/png": "[encoded data removed]"
          },
          "metadata": {}
        }
      ]
    },
    {
      "cell_type": "markdown",
      "source": [
        "### **Explanation**\n",
        "* Correlation matrix: This table displays the correlation coefficients between all pairs of features in the dataset. A correlation value close to 1 or -1 indicates a strong relationship, while a value close to 0 suggests little to no linear relationship."
      ],
      "metadata": {
        "id": "wVFJr8H8VLBM"
      },
      "id": "wVFJr8H8VLBM"
    },
    {
      "cell_type": "markdown",
      "source": [
        "## **Exploratory Data Analysis (EDA) and Outlier Removal**\n"
      ],
      "metadata": {
        "id": "Qtt_H13DN6LW"
      },
      "id": "Qtt_H13DN6LW"
    },
    {
      "cell_type": "markdown",
      "source": [
        "### **Age Distribution**"
      ],
      "metadata": {
        "id": "MPBxLaeHKL9a"
      },
      "id": "MPBxLaeHKL9a"
    },
    {
      "cell_type": "code",
      "source": [
        "import seaborn as sns\n",
        "import matplotlib.pyplot as plt\n",
        "sns.histplot(data=diseases['age'], kde=True, color='red')\n",
        "plt.title('Histogram of Age with KDE')\n",
        "plt.xlabel('Age')\n",
        "plt.ylabel('Density')\n",
        "plt.grid(True)\n",
        "plt.show()"
      ],
      "metadata": {
        "ExecuteTime": {
          "end_time": "2024-03-19T12:23:15.915703900Z",
          "start_time": "2024-03-19T12:23:15.496122500Z"
        },
        "jupyter": {
          "outputs_hidden": false
        },
        "colab": {
          "base_uri": "https://localhost:8080/",
          "height": 472
        },
        "id": "YUE7cicRN6LW",
        "outputId": "514a4f25-916c-49b0-c61f-8ef4d92b18ae"
      },
      "execution_count": null,
      "outputs": [
        {
          "output_type": "display_data",
          "data": {
            "text/plain": [
              "<Figure size 640x480 with 1 Axes>"
            ],
            "image/png": "[encoded data removed]"
          },
          "metadata": {}
        }
      ],
      "id": "YUE7cicRN6LW"
    },
    {
      "cell_type": "markdown",
      "source": [
        "### **Explanation**\n",
        "* **Histogram with KDE:** Uses sns.histplot() to visualize the age distribution, with kde=True adding a smooth density curve for better insight into data spread.\n",
        "* **Plot Customization:** Titles, labels, and grid lines are added for clarity, and the plot is displayed using plt.show()."
      ],
      "metadata": {
        "id": "cxEMz3hNKQvc"
      },
      "id": "cxEMz3hNKQvc"
    },
    {
      "cell_type": "markdown",
      "source": [
        "### **Boxplot for Age Distribution**"
      ],
      "metadata": {
        "id": "LKDSZJFpKa80"
      },
      "id": "LKDSZJFpKa80"
    },
    {
      "cell_type": "code",
      "source": [
        "# Creating a boxplot using Matplotlib\n",
        "plt.figure(figsize=(6, 4))  # Adjust size as needed\n",
        "plt.boxplot(diseases['age'])\n",
        "plt.title('Boxplot of Age')\n",
        "plt.xlabel('Variables')\n",
        "plt.ylabel('Values')\n",
        "plt.grid(True)\n",
        "plt.show()"
      ],
      "metadata": {
        "ExecuteTime": {
          "end_time": "2024-03-19T12:23:16.059650300Z",
          "start_time": "2024-03-19T12:23:15.841358200Z"
        },
        "jupyter": {
          "outputs_hidden": false
        },
        "colab": {
          "base_uri": "https://localhost:8080/",
          "height": 410
        },
        "id": "Ufa1-3_IN6LX",
        "outputId": "c658d44c-963e-463e-9126-4ec39864a184"
      },
      "execution_count": null,
      "outputs": [
        {
          "output_type": "display_data",
          "data": {
            "text/plain": [
              "<Figure size 600x400 with 1 Axes>"
            ],
            "image/png": "[encoded data removed]"
          },
          "metadata": {}
        }
      ],
      "id": "Ufa1-3_IN6LX"
    },
    {
      "cell_type": "markdown",
      "source": [
        "### **Chart for Gender Distribution**"
      ],
      "metadata": {
        "id": "B7gF2lo7KcdQ"
      },
      "id": "B7gF2lo7KcdQ"
    },
    {
      "cell_type": "code",
      "source": [
        "colors = plt.cm.viridis(range(len(diseases['sex'].unique())))\n",
        "\n",
        "# Plotting bar chart for 'sex' column\n",
        "diseases['sex'].value_counts().plot(kind='bar', color=colors)\n",
        "plt.title('Count of Each Sex')\n",
        "plt.xlabel('Sex')\n",
        "plt.ylabel('Count')\n",
        "plt.grid(axis='y')\n",
        "plt.show()"
      ],
      "metadata": {
        "ExecuteTime": {
          "end_time": "2024-03-19T12:23:16.228220400Z",
          "start_time": "2024-03-19T12:23:16.002286900Z"
        },
        "jupyter": {
          "outputs_hidden": false
        },
        "colab": {
          "base_uri": "https://localhost:8080/",
          "height": 467
        },
        "id": "ipKmqu6VN6LX",
        "outputId": "cbea6cb6-9d63-4897-b265-8f6d454cf6b1"
      },
      "execution_count": null,
      "outputs": [
        {
          "output_type": "display_data",
          "data": {
            "text/plain": [
              "<Figure size 640x480 with 1 Axes>"
            ],
            "image/png": "[encoded data removed]"
          },
          "metadata": {}
        }
      ],
      "id": "ipKmqu6VN6LX"
    },
    {
      "cell_type": "markdown",
      "source": [
        "### **Explanation**\n",
        "* **Color Mapping**: Uses plt.cm.viridis() to assign unique colors based on the number of distinct values in the sex column.\n",
        "* **Plotting the Bar Chart**: The value_counts().plot(kind='bar') function creates a bar chart to visualize the count of each sex category."
      ],
      "metadata": {
        "id": "JWMd8xO4KbJq"
      },
      "id": "JWMd8xO4KbJq"
    },
    {
      "cell_type": "markdown",
      "source": [
        "### **Chart for Chest Pain Type Distribution**"
      ],
      "metadata": {
        "id": "AZPBPjS0K4Ea"
      },
      "id": "AZPBPjS0K4Ea"
    },
    {
      "cell_type": "code",
      "source": [
        "colors = plt.cm.viridis(range(len(diseases['chest pain type'].unique())))\n",
        "\n",
        "# Plotting bar chart for 'sex' column\n",
        "diseases['chest pain type'].value_counts().plot(kind='bar', color=colors)\n",
        "plt.title('Count of Each chest pain type')\n",
        "plt.xlabel('chest pain type')\n",
        "plt.ylabel('Count')\n",
        "plt.grid(axis='y')\n",
        "plt.show()"
      ],
      "metadata": {
        "ExecuteTime": {
          "end_time": "2024-03-19T12:23:16.401545900Z",
          "start_time": "2024-03-19T12:23:16.231212700Z"
        },
        "jupyter": {
          "outputs_hidden": false
        },
        "colab": {
          "base_uri": "https://localhost:8080/",
          "height": 467
        },
        "id": "QLxLCbTaN6LY",
        "outputId": "691f44a4-9363-49d3-a71c-c1a1fb30f337"
      },
      "execution_count": null,
      "outputs": [
        {
          "output_type": "display_data",
          "data": {
            "text/plain": [
              "<Figure size 640x480 with 1 Axes>"
            ],
            "image/png": "[encoded data removed]"
          },
          "metadata": {}
        }
      ],
      "id": "QLxLCbTaN6LY"
    },
    {
      "cell_type": "markdown",
      "source": [
        "## **Explanation**\n",
        "* Visualizes the distribution of different chest pain types to understand frequency variations.\n",
        "* Identifies data imbalance to check if certain categories dominate the dataset.\n",
        "* Helps in feature analysis by providing insights into how chest pain types relate to heart disease."
      ],
      "metadata": {
        "id": "BpRXLcHgLK9i"
      },
      "id": "BpRXLcHgLK9i"
    },
    {
      "cell_type": "markdown",
      "source": [
        "### **Histogram of Resting Blood Pressure**"
      ],
      "metadata": {
        "id": "4hjEEQ58K5Uj"
      },
      "id": "4hjEEQ58K5Uj"
    },
    {
      "cell_type": "code",
      "source": [
        "sns.histplot(data=diseases['resting bps'], kde=True, color='red')\n",
        "plt.title('Histogram of resting bps with KDE')\n",
        "plt.xlabel('Age')\n",
        "plt.ylabel('Density')\n",
        "plt.grid(True)\n",
        "plt.show()"
      ],
      "metadata": {
        "ExecuteTime": {
          "end_time": "2024-03-19T12:23:16.839876400Z",
          "start_time": "2024-03-19T12:23:16.403578800Z"
        },
        "jupyter": {
          "outputs_hidden": false
        },
        "colab": {
          "base_uri": "https://localhost:8080/",
          "height": 472
        },
        "id": "MEnUlxIRN6LY",
        "outputId": "9b1bc1d7-8ae1-459c-d977-58e677f0bdb1"
      },
      "execution_count": null,
      "outputs": [
        {
          "output_type": "display_data",
          "data": {
            "text/plain": [
              "<Figure size 640x480 with 1 Axes>"
            ],
            "image/png": "[encoded data removed]"
          },
          "metadata": {}
        }
      ],
      "id": "MEnUlxIRN6LY"
    },
    {
      "cell_type": "markdown",
      "source": [
        "### **Explanation**\n",
        "* Shows the distribution of resting blood pressure values in the dataset.\n",
        "* Identifies trends and variations using a histogram with a KDE (Kernel Density Estimation) curve.\n",
        "* Helps detect outliers by observing extreme values in the distribution."
      ],
      "metadata": {
        "id": "cmE3ZwybK4bx"
      },
      "id": "cmE3ZwybK4bx"
    },
    {
      "cell_type": "markdown",
      "source": [
        "### **Boxplot of Resting Blood Pressure (BPS)**"
      ],
      "metadata": {
        "id": "oFUxbBAHK55K"
      },
      "id": "oFUxbBAHK55K"
    },
    {
      "cell_type": "code",
      "source": [
        "# Creating a boxplot using Matplotlib\n",
        "plt.figure(figsize=(6, 4))  # Adjust size as needed\n",
        "plt.boxplot(diseases['resting bps'])\n",
        "plt.title('Boxplot of resting bps')\n",
        "plt.xlabel('Variables')\n",
        "plt.ylabel('Values')\n",
        "plt.grid(True)\n",
        "plt.show()"
      ],
      "metadata": {
        "ExecuteTime": {
          "end_time": "2024-03-19T12:23:16.917536800Z",
          "start_time": "2024-03-19T12:23:16.765490300Z"
        },
        "jupyter": {
          "outputs_hidden": false
        },
        "colab": {
          "base_uri": "https://localhost:8080/",
          "height": 410
        },
        "id": "BSo2hWZqN6LZ",
        "outputId": "04810435-78c1-4251-c66a-20bc0221a44a"
      },
      "execution_count": null,
      "outputs": [
        {
          "output_type": "display_data",
          "data": {
            "text/plain": [
              "<Figure size 600x400 with 1 Axes>"
            ],
            "image/png": "[encoded data removed]"
          },
          "metadata": {}
        }
      ],
      "id": "BSo2hWZqN6LZ"
    },
    {
      "cell_type": "markdown",
      "source": [
        "### **Explanation**\n",
        "* Visualizes data distribution to understand the spread of resting blood pressure values.\n",
        "* Detects outliers by identifying values outside the whiskers of the boxplot.\n",
        "* Helps in preprocessing by highlighting extreme values that may affect model performance."
      ],
      "metadata": {
        "id": "5TzYA05dK6nX"
      },
      "id": "5TzYA05dK6nX"
    },
    {
      "cell_type": "markdown",
      "source": [
        "### **Removing Outliers from Resting Blood Pressure**"
      ],
      "metadata": {
        "id": "q-v2iUMTOH-d"
      },
      "id": "q-v2iUMTOH-d"
    },
    {
      "cell_type": "code",
      "source": [
        "Q1 = diseases['resting bps'].quantile(0.25)\n",
        "Q3 = diseases['resting bps'].quantile(0.75)\n",
        "IQR = Q3 - Q1\n",
        "lower_bound = Q1 - 1.5 * IQR\n",
        "upper_bound = Q3 + 1.5 * IQR\n",
        "diseases = diseases[(diseases['resting bps'] >= lower_bound) & (diseases['resting bps'] <= upper_bound)]\n",
        "plt.figure(figsize=(6, 4))\n",
        "plt.boxplot(diseases['resting bps'])\n",
        "plt.title('Boxplot of resting bps')\n",
        "plt.xlabel('Variables')\n",
        "plt.ylabel('Values')\n",
        "plt.grid(True)\n",
        "plt.show()"
      ],
      "metadata": {
        "ExecuteTime": {
          "end_time": "2024-03-19T12:23:17.053799100Z",
          "start_time": "2024-03-19T12:23:16.910998100Z"
        },
        "jupyter": {
          "outputs_hidden": false
        },
        "colab": {
          "base_uri": "https://localhost:8080/",
          "height": 410
        },
        "id": "5CE5Dp-oN6LZ",
        "outputId": "1cf7473d-1303-40bc-87a3-1f444329d169"
      },
      "execution_count": null,
      "outputs": [
        {
          "output_type": "display_data",
          "data": {
            "text/plain": [
              "<Figure size 600x400 with 1 Axes>"
            ],
            "image/png": "[encoded data removed]"
          },
          "metadata": {}
        }
      ],
      "id": "5CE5Dp-oN6LZ"
    },
    {
      "cell_type": "markdown",
      "source": [
        "### **Explanation**\n",
        "* Uses IQR method to detect and remove outliers beyond 1.5 times the interquartile range.\n",
        "* Ensures data consistency by keeping only values within the calculated lower and upper bounds.\n",
        "* Improves model accuracy by preventing extreme values from negatively affecting training."
      ],
      "metadata": {
        "id": "90D_Ls99OIbm"
      },
      "id": "90D_Ls99OIbm"
    },
    {
      "cell_type": "markdown",
      "source": [
        "### **Histogram of Cholesterol**"
      ],
      "metadata": {
        "id": "T9RytWlGOXG1"
      },
      "id": "T9RytWlGOXG1"
    },
    {
      "cell_type": "code",
      "source": [
        "sns.histplot(data=diseases['cholesterol'], kde=True, color='red')\n",
        "plt.title('Histogram of cholesterol with KDE')\n",
        "plt.xlabel('cholesterol')\n",
        "plt.ylabel('Density')\n",
        "plt.grid(True)\n",
        "plt.show()"
      ],
      "metadata": {
        "ExecuteTime": {
          "end_time": "2024-03-19T12:23:17.374259600Z",
          "start_time": "2024-03-19T12:23:17.057753600Z"
        },
        "jupyter": {
          "outputs_hidden": false
        },
        "colab": {
          "base_uri": "https://localhost:8080/",
          "height": 472
        },
        "id": "T0vmjAmbN6LZ",
        "outputId": "401268ca-de68-4e61-e574-d8c7b31a77ae"
      },
      "execution_count": null,
      "outputs": [
        {
          "output_type": "display_data",
          "data": {
            "text/plain": [
              "<Figure size 640x480 with 1 Axes>"
            ],
            "image/png": "[encoded data removed]"
          },
          "metadata": {}
        }
      ],
      "id": "T0vmjAmbN6LZ"
    },
    {
      "cell_type": "markdown",
      "source": [
        "# Explanation\n",
        "* Shows the distribution of cholesterol levels in the dataset.\n",
        "* Identifies trends and variations using a histogram with a KDE (Kernel Density Estimation) curve.\n",
        "* Helps detect outliers by highlighting extreme cholesterol values."
      ],
      "metadata": {
        "id": "QPS_TBduOcop"
      },
      "id": "QPS_TBduOcop"
    },
    {
      "cell_type": "markdown",
      "source": [
        "### **Boxplot of Cholesterol**"
      ],
      "metadata": {
        "id": "T649mXy9OlDd"
      },
      "id": "T649mXy9OlDd"
    },
    {
      "cell_type": "code",
      "source": [
        "# Creating a boxplot using Matplotlib\n",
        "plt.figure(figsize=(6, 4))  # Adjust size as needed\n",
        "plt.boxplot(diseases['cholesterol'])\n",
        "plt.title('Boxplot of cholesterol')\n",
        "plt.xlabel('Variables')\n",
        "plt.ylabel('Values')\n",
        "plt.grid(True)\n",
        "plt.show()"
      ],
      "metadata": {
        "ExecuteTime": {
          "end_time": "2024-03-19T12:23:17.505648600Z",
          "start_time": "2024-03-19T12:23:17.376254Z"
        },
        "jupyter": {
          "outputs_hidden": false
        },
        "colab": {
          "base_uri": "https://localhost:8080/",
          "height": 410
        },
        "id": "gIgONUPkN6La",
        "outputId": "8f5776c0-52d4-4e55-9b76-3d1b572e901a"
      },
      "execution_count": null,
      "outputs": [
        {
          "output_type": "display_data",
          "data": {
            "text/plain": [
              "<Figure size 600x400 with 1 Axes>"
            ],
            "image/png": "[encoded data removed]"
          },
          "metadata": {}
        }
      ],
      "id": "gIgONUPkN6La"
    },
    {
      "cell_type": "markdown",
      "source": [
        "## **Explanation**\n",
        "* Visualizes data distribution to understand the spread of cholesterol levels.\n",
        "* Detects outliers by identifying extreme values beyond the whiskers.\n",
        "* Supports preprocessing by highlighting values that may affect model performance."
      ],
      "metadata": {
        "id": "VlE2Jr-nOmpC"
      },
      "id": "VlE2Jr-nOmpC"
    },
    {
      "cell_type": "markdown",
      "source": [
        "### **Removing Outliers from Cholesterol**"
      ],
      "metadata": {
        "id": "NlmmDRVsOuEi"
      },
      "id": "NlmmDRVsOuEi"
    },
    {
      "cell_type": "code",
      "source": [
        "Q1 = diseases['cholesterol'].quantile(0.25)\n",
        "Q3 = diseases['cholesterol'].quantile(0.75)\n",
        "IQR = Q3 - Q1\n",
        "lower_bound = Q1 - 1.5 * IQR\n",
        "upper_bound = Q3 + 1.5 * IQR\n",
        "diseases = diseases[(diseases['cholesterol'] >= lower_bound) & (diseases['cholesterol'] <= upper_bound)]\n",
        "plt.figure(figsize=(6, 4))\n",
        "plt.boxplot(diseases['cholesterol'])\n",
        "plt.title('Boxplot of cholesterol')\n",
        "plt.xlabel('Variables')\n",
        "plt.ylabel('Values')\n",
        "plt.grid(True)\n",
        "plt.show()"
      ],
      "metadata": {
        "ExecuteTime": {
          "end_time": "2024-03-19T12:23:17.640957300Z",
          "start_time": "2024-03-19T12:23:17.508672800Z"
        },
        "jupyter": {
          "outputs_hidden": false
        },
        "colab": {
          "base_uri": "https://localhost:8080/",
          "height": 410
        },
        "id": "FIg3rRl8N6La",
        "outputId": "4afb97e9-2d5e-48d9-8478-3dd8658b5155"
      },
      "execution_count": null,
      "outputs": [
        {
          "output_type": "display_data",
          "data": {
            "text/plain": [
              "<Figure size 600x400 with 1 Axes>"
            ],
            "image/png": "[encoded data removed]"
          },
          "metadata": {}
        }
      ],
      "id": "FIg3rRl8N6La"
    },
    {
      "cell_type": "markdown",
      "source": [
        "### **Explanation**\n",
        "* Uses IQR method to detect and remove outliers beyond 1.5 times the interquartile range.\n",
        "* Retains relevant data by keeping only values within the lower and upper bounds.\n",
        "* Enhances model accuracy by preventing extreme cholesterol values from affecting training."
      ],
      "metadata": {
        "id": "g2FzbSjOOtKc"
      },
      "id": "g2FzbSjOOtKc"
    },
    {
      "cell_type": "markdown",
      "source": [
        "### **Bar Chart for Fasting Blood Sugar**\n"
      ],
      "metadata": {
        "id": "ucmcEkeQO42r"
      },
      "id": "ucmcEkeQO42r"
    },
    {
      "cell_type": "code",
      "source": [
        "colors = plt.cm.viridis(range(len(diseases['fasting blood sugar'].unique())))\n",
        "\n",
        "# Plotting bar chart for 'sex' column\n",
        "diseases['fasting blood sugar'].value_counts().plot(kind='bar', color=colors)\n",
        "plt.title('Count of Each fasting blood sugar')\n",
        "plt.xlabel('fasting blood sugar')\n",
        "plt.ylabel('Count')\n",
        "plt.grid(axis='y')\n",
        "plt.show()"
      ],
      "metadata": {
        "ExecuteTime": {
          "end_time": "2024-03-19T12:23:17.795574900Z",
          "start_time": "2024-03-19T12:23:17.641930900Z"
        },
        "jupyter": {
          "outputs_hidden": false
        },
        "colab": {
          "base_uri": "https://localhost:8080/",
          "height": 467
        },
        "id": "fWYtkjFTN6Lb",
        "outputId": "d11f57d5-5da0-4e18-dd3a-3b703d77b1fc"
      },
      "execution_count": null,
      "outputs": [
        {
          "output_type": "display_data",
          "data": {
            "text/plain": [
              "<Figure size 640x480 with 1 Axes>"
            ],
            "image/png": "[encoded data removed]"
          },
          "metadata": {}
        }
      ],
      "id": "fWYtkjFTN6Lb"
    },
    {
      "cell_type": "markdown",
      "source": [
        "### **Explanation**\n",
        "* Visualizes the distribution of fasting blood sugar levels in the dataset.\n",
        "* Identifies data imbalance to check if certain categories dominate.\n",
        "* Helps in feature analysis by understanding how fasting blood sugar relates to heart disease."
      ],
      "metadata": {
        "id": "6pGnZWkmO541"
      },
      "id": "6pGnZWkmO541"
    },
    {
      "cell_type": "markdown",
      "source": [
        "### **Bar Chart for Resting ECG**"
      ],
      "metadata": {
        "id": "VabLYAitPDeR"
      },
      "id": "VabLYAitPDeR"
    },
    {
      "cell_type": "code",
      "source": [
        "\n",
        "colors = plt.cm.viridis(range(len(diseases['resting ecg'].unique())))\n",
        "\n",
        "# Plotting bar chart for 'sex' column\n",
        "diseases['resting ecg'].value_counts().plot(kind='bar', color=colors)\n",
        "plt.title('Count of Each resting ecg')\n",
        "plt.xlabel('resting ecg')\n",
        "plt.ylabel('Count')\n",
        "plt.grid(axis='y')\n",
        "plt.show()"
      ],
      "metadata": {
        "ExecuteTime": {
          "end_time": "2024-03-19T12:23:17.941681700Z",
          "start_time": "2024-03-19T12:23:17.823012300Z"
        },
        "jupyter": {
          "outputs_hidden": false
        },
        "colab": {
          "base_uri": "https://localhost:8080/",
          "height": 467
        },
        "id": "foF7wmeMN6Lb",
        "outputId": "89cb94fe-6007-4f3f-8028-670a6217876b"
      },
      "execution_count": null,
      "outputs": [
        {
          "output_type": "display_data",
          "data": {
            "text/plain": [
              "<Figure size 640x480 with 1 Axes>"
            ],
            "image/png": "[encoded data removed]"
          },
          "metadata": {}
        }
      ],
      "id": "foF7wmeMN6Lb"
    },
    {
      "cell_type": "markdown",
      "source": [
        "### **Explanation**\n",
        "* Displays the distribution of different resting ECG categories in the dataset.\n",
        "* Identifies data imbalance by showing if certain ECG types are more frequent.\n",
        "* Aids in feature analysis to understand how resting ECG variations relate to heart disease."
      ],
      "metadata": {
        "id": "v-BnfpJePDr7"
      },
      "id": "v-BnfpJePDr7"
    },
    {
      "cell_type": "markdown",
      "source": [
        "### **Bar Chart for Exercise Angina**"
      ],
      "metadata": {
        "id": "3bOZLUoyPcDm"
      },
      "id": "3bOZLUoyPcDm"
    },
    {
      "cell_type": "code",
      "source": [
        "colors = plt.cm.viridis(range(len(diseases['exercise angina'].unique())))\n",
        "# Plotting bar chart for 'sex' column\n",
        "diseases['exercise angina'].value_counts().plot(kind='bar', color=colors)\n",
        "plt.title('Count of Each exercise angina')\n",
        "plt.xlabel('exercise angina')\n",
        "plt.ylabel('Count')\n",
        "plt.grid(axis='y')\n",
        "plt.show()"
      ],
      "metadata": {
        "ExecuteTime": {
          "end_time": "2024-03-19T12:23:18.819165Z",
          "start_time": "2024-03-19T12:23:18.662855600Z"
        },
        "jupyter": {
          "outputs_hidden": false
        },
        "colab": {
          "base_uri": "https://localhost:8080/",
          "height": 467
        },
        "id": "7_a1qdUqN6Ld",
        "outputId": "eedc3ce2-53d4-4fcd-ee10-b84f2008ab62"
      },
      "execution_count": null,
      "outputs": [
        {
          "output_type": "display_data",
          "data": {
            "text/plain": [
              "<Figure size 640x480 with 1 Axes>"
            ],
            "image/png": "[encoded data removed]"
          },
          "metadata": {}
        }
      ],
      "id": "7_a1qdUqN6Ld"
    },
    {
      "cell_type": "markdown",
      "source": [
        "### **Explanation**\n",
        "* Visualizes the distribution of exercise-induced angina cases in the dataset.\n",
        "* Identifies data imbalance by showing if a specific category is more frequent.\n",
        "* Helps in feature analysis to understand the impact of exercise angina on heart disease."
      ],
      "metadata": {
        "id": "k6jEYQvlPhx3"
      },
      "id": "k6jEYQvlPhx3"
    },
    {
      "cell_type": "code",
      "source": [
        "sns.histplot(data=diseases['oldpeak'], kde=True, color='red')\n",
        "plt.title('Histogram of oldpeak with KDE')\n",
        "plt.xlabel('oldpeak')\n",
        "plt.ylabel('Density')\n",
        "plt.grid(True)\n",
        "plt.show()"
      ],
      "metadata": {
        "ExecuteTime": {
          "end_time": "2024-03-19T12:23:19.452489100Z",
          "start_time": "2024-03-19T12:23:18.822158100Z"
        },
        "jupyter": {
          "outputs_hidden": false
        },
        "colab": {
          "base_uri": "https://localhost:8080/",
          "height": 472
        },
        "id": "KLVmhzWMN6Ld",
        "outputId": "c56ef58b-f7c9-4661-9c24-591fc8670434"
      },
      "execution_count": null,
      "outputs": [
        {
          "output_type": "display_data",
          "data": {
            "text/plain": [
              "<Figure size 640x480 with 1 Axes>"
            ],
            "image/png": "[encoded data removed]"
          },
          "metadata": {}
        }
      ],
      "id": "KLVmhzWMN6Ld"
    },
    {
      "cell_type": "code",
      "source": [
        "diseases.describe()"
      ],
      "metadata": {
        "ExecuteTime": {
          "end_time": "2024-03-19T12:23:19.850562100Z",
          "start_time": "2024-03-19T12:23:19.771702300Z"
        },
        "jupyter": {
          "outputs_hidden": false
        },
        "colab": {
          "base_uri": "https://localhost:8080/",
          "height": 355
        },
        "id": "aLzlQEceN6Li",
        "outputId": "bb103001-fc5c-4ad1-8f49-9890bd6965d3"
      },
      "execution_count": null,
      "outputs": [
        {
          "output_type": "execute_result",
          "data": {
            "text/plain": [
              "              age         sex  chest pain type  resting bps  cholesterol  \\\n",
              "count  992.000000  992.000000       992.000000   992.000000   992.000000   \n",
              "mean    53.164315    0.745968         2.806452   131.076613   239.931452   \n",
              "std      9.455308    0.435535         1.116268    15.401855    46.881599   \n",
              "min     28.000000    0.000000         1.000000    92.000000   110.000000   \n",
              "25%     46.000000    0.000000         2.000000   120.000000   207.000000   \n",
              "50%     54.000000    1.000000         3.000000   130.000000   236.000000   \n",
              "75%     60.000000    1.000000         4.000000   140.000000   271.000000   \n",
              "max     77.000000    1.000000         4.000000   170.000000   369.000000   \n",
              "\n",
              "       fasting blood sugar  resting ecg  max heart rate  exercise angina  \\\n",
              "count           992.000000   992.000000      992.000000       992.000000   \n",
              "mean              0.154234     0.603831      143.065524         0.362903   \n",
              "std               0.361355     0.759272       24.450464         0.481080   \n",
              "min               0.000000     0.000000       71.000000         0.000000   \n",
              "25%               0.000000     0.000000      125.000000         0.000000   \n",
              "50%               0.000000     0.000000      144.000000         0.000000   \n",
              "75%               0.000000     1.000000      162.000000         1.000000   \n",
              "max               1.000000     2.000000      202.000000         1.000000   \n",
              "\n",
              "          oldpeak    ST slope      target  \n",
              "count  992.000000  992.000000  992.000000  \n",
              "mean     0.925706    1.528226    0.493952  \n",
              "std      1.085672    0.607064    0.500216  \n",
              "min     -0.100000    0.000000    0.000000  \n",
              "25%      0.000000    1.000000    0.000000  \n",
              "50%      0.600000    2.000000    0.000000  \n",
              "75%      1.500000    2.000000    1.000000  \n",
              "max      6.200000    3.000000    1.000000  "
            ],
            "text/html": [
              "\n",
              "  <div id=\"df-6fb5ac73-54c4-4cca-b106-bb4068ae24cd\" class=\"colab-df-container\">\n",
              "    <div>\n",
              "<style scoped>\n",
              "    .dataframe tbody tr th:only-of-type {\n",
              "        vertical-align: middle;\n",
              "    }\n",
              "\n",
              "    .dataframe tbody tr th {\n",
              "        vertical-align: top;\n",
              "    }\n",
              "\n",
              "    .dataframe thead th {\n",
              "        text-align: right;\n",
              "    }\n",
              "</style>\n",
              "<table border=\"1\" class=\"dataframe\">\n",
              "  <thead>\n",
              "    <tr style=\"text-align: right;\">\n",
              "      <th></th>\n",
              "      <th>age</th>\n",
              "      <th>sex</th>\n",
              "      <th>chest pain type</th>\n",
              "      <th>resting bps</th>\n",
              "      <th>cholesterol</th>\n",
              "      <th>fasting blood sugar</th>\n",
              "      <th>resting ecg</th>\n",
              "      <th>max heart rate</th>\n",
              "      <th>exercise angina</th>\n",
              "      <th>oldpeak</th>\n",
              "      <th>ST slope</th>\n",
              "      <th>target</th>\n",
              "    </tr>\n",
              "  </thead>\n",
              "  <tbody>\n",
              "    <tr>\n",
              "      <th>count</th>\n",
              "      <td>992.000000</td>\n",
              "      <td>992.000000</td>\n",
              "      <td>992.000000</td>\n",
              "      <td>992.000000</td>\n",
              "      <td>992.000000</td>\n",
              "      <td>992.000000</td>\n",
              "      <td>992.000000</td>\n",
              "      <td>992.000000</td>\n",
              "      <td>992.000000</td>\n",
              "      <td>992.000000</td>\n",
              "      <td>992.000000</td>\n",
              "      <td>992.000000</td>\n",
              "    </tr>\n",
              "    <tr>\n",
              "      <th>mean</th>\n",
              "      <td>53.164315</td>\n",
              "      <td>0.745968</td>\n",
              "      <td>2.806452</td>\n",
              "      <td>131.076613</td>\n",
              "      <td>239.931452</td>\n",
              "      <td>0.154234</td>\n",
              "      <td>0.603831</td>\n",
              "      <td>143.065524</td>\n",
              "      <td>0.362903</td>\n",
              "      <td>0.925706</td>\n",
              "      <td>1.528226</td>\n",
              "      <td>0.493952</td>\n",
              "    </tr>\n",
              "    <tr>\n",
              "      <th>std</th>\n",
              "      <td>9.455308</td>\n",
              "      <td>0.435535</td>\n",
              "      <td>1.116268</td>\n",
              "      <td>15.401855</td>\n",
              "      <td>46.881599</td>\n",
              "      <td>0.361355</td>\n",
              "      <td>0.759272</td>\n",
              "      <td>24.450464</td>\n",
              "      <td>0.481080</td>\n",
              "      <td>1.085672</td>\n",
              "      <td>0.607064</td>\n",
              "      <td>0.500216</td>\n",
              "    </tr>\n",
              "    <tr>\n",
              "      <th>min</th>\n",
              "      <td>28.000000</td>\n",
              "      <td>0.000000</td>\n",
              "      <td>1.000000</td>\n",
              "      <td>92.000000</td>\n",
              "      <td>110.000000</td>\n",
              "      <td>0.000000</td>\n",
              "      <td>0.000000</td>\n",
              "      <td>71.000000</td>\n",
              "      <td>0.000000</td>\n",
              "      <td>-0.100000</td>\n",
              "      <td>0.000000</td>\n",
              "      <td>0.000000</td>\n",
              "    </tr>\n",
              "    <tr>\n",
              "      <th>25%</th>\n",
              "      <td>46.000000</td>\n",
              "      <td>0.000000</td>\n",
              "      <td>2.000000</td>\n",
              "      <td>120.000000</td>\n",
              "      <td>207.000000</td>\n",
              "      <td>0.000000</td>\n",
              "      <td>0.000000</td>\n",
              "      <td>125.000000</td>\n",
              "      <td>0.000000</td>\n",
              "      <td>0.000000</td>\n",
              "      <td>1.000000</td>\n",
              "      <td>0.000000</td>\n",
              "    </tr>\n",
              "    <tr>\n",
              "      <th>50%</th>\n",
              "      <td>54.000000</td>\n",
              "      <td>1.000000</td>\n",
              "      <td>3.000000</td>\n",
              "      <td>130.000000</td>\n",
              "      <td>236.000000</td>\n",
              "      <td>0.000000</td>\n",
              "      <td>0.000000</td>\n",
              "      <td>144.000000</td>\n",
              "      <td>0.000000</td>\n",
              "      <td>0.600000</td>\n",
              "      <td>2.000000</td>\n",
              "      <td>0.000000</td>\n",
              "    </tr>\n",
              "    <tr>\n",
              "      <th>75%</th>\n",
              "      <td>60.000000</td>\n",
              "      <td>1.000000</td>\n",
              "      <td>4.000000</td>\n",
              "      <td>140.000000</td>\n",
              "      <td>271.000000</td>\n",
              "      <td>0.000000</td>\n",
              "      <td>1.000000</td>\n",
              "      <td>162.000000</td>\n",
              "      <td>1.000000</td>\n",
              "      <td>1.500000</td>\n",
              "      <td>2.000000</td>\n",
              "      <td>1.000000</td>\n",
              "    </tr>\n",
              "    <tr>\n",
              "      <th>max</th>\n",
              "      <td>77.000000</td>\n",
              "      <td>1.000000</td>\n",
              "      <td>4.000000</td>\n",
              "      <td>170.000000</td>\n",
              "      <td>369.000000</td>\n",
              "      <td>1.000000</td>\n",
              "      <td>2.000000</td>\n",
              "      <td>202.000000</td>\n",
              "      <td>1.000000</td>\n",
              "      <td>6.200000</td>\n",
              "      <td>3.000000</td>\n",
              "      <td>1.000000</td>\n",
              "    </tr>\n",
              "  </tbody>\n",
              "</table>\n",
              "</div>\n",
              "    <div class=\"colab-df-buttons\">\n",
              "\n",
              "  <div class=\"colab-df-container\">\n",
              "    <button class=\"colab-df-convert\" onclick=\"convertToInteractive('df-6fb5ac73-54c4-4cca-b106-bb4068ae24cd')\"\n",
              "            title=\"Convert this dataframe to an interactive table.\"\n",
              "            style=\"display:none;\">\n",
              "\n",
              "  <svg xmlns=\"http://www.w3.org/2000/svg\" height=\"24px\" viewBox=\"0 -960 960 960\">\n",
              "    <path d=\"M120-120v-720h720v720H120Zm60-500h600v-160H180v160Zm220 220h160v-160H400v160Zm0 220h160v-160H400v160ZM180-400h160v-160H180v160Zm440 0h160v-160H620v160ZM180-180h160v-160H180v160Zm440 0h160v-160H620v160Z\"/>\n",
              "  </svg>\n",
              "    </button>\n",
              "\n",
              "  <style>\n",
              "    .colab-df-container {\n",
              "      display:flex;\n",
              "      gap: 12px;\n",
              "    }\n",
              "\n",
              "    .colab-df-convert {\n",
              "      background-color: #E8F0FE;\n",
              "      border: none;\n",
              "      border-radius: 50%;\n",
              "      cursor: pointer;\n",
              "      display: none;\n",
              "      fill: #1967D2;\n",
              "      height: 32px;\n",
              "      padding: 0 0 0 0;\n",
              "      width: 32px;\n",
              "    }\n",
              "\n",
              "    .colab-df-convert:hover {\n",
              "      background-color: #E2EBFA;\n",
              "      box-shadow: 0px 1px 2px rgba(60, 64, 67, 0.3), 0px 1px 3px 1px rgba(60, 64, 67, 0.15);\n",
              "      fill: #174EA6;\n",
              "    }\n",
              "\n",
              "    .colab-df-buttons div {\n",
              "      margin-bottom: 4px;\n",
              "    }\n",
              "\n",
              "    [theme=dark] .colab-df-convert {\n",
              "      background-color: #3B4455;\n",
              "      fill: #D2E3FC;\n",
              "    }\n",
              "\n",
              "    [theme=dark] .colab-df-convert:hover {\n",
              "      background-color: #434B5C;\n",
              "      box-shadow: 0px 1px 3px 1px rgba(0, 0, 0, 0.15);\n",
              "      filter: drop-shadow(0px 1px 2px rgba(0, 0, 0, 0.3));\n",
              "      fill: #FFFFFF;\n",
              "    }\n",
              "  </style>\n",
              "\n",
              "    <script>\n",
              "      const buttonEl =\n",
              "        document.querySelector('#df-6fb5ac73-54c4-4cca-b106-bb4068ae24cd button.colab-df-convert');\n",
              "      buttonEl.style.display =\n",
              "        google.colab.kernel.accessAllowed ? 'block' : 'none';\n",
              "\n",
              "      async function convertToInteractive(key) {\n",
              "        const element = document.querySelector('#df-6fb5ac73-54c4-4cca-b106-bb4068ae24cd');\n",
              "        const dataTable =\n",
              "          await google.colab.kernel.invokeFunction('convertToInteractive',\n",
              "                                                    [key], {});\n",
              "        if (!dataTable) return;\n",
              "\n",
              "        const docLinkHtml = 'Like what you see? Visit the ' +\n",
              "          '<a target=\"_blank\" href=https://colab.research.google.com/notebooks/data_table.ipynb>data table notebook</a>'\n",
              "          + ' to learn more about interactive tables.';\n",
              "        element.innerHTML = '';\n",
              "        dataTable['output_type'] = 'display_data';\n",
              "        await google.colab.output.renderOutput(dataTable, element);\n",
              "        const docLink = document.createElement('div');\n",
              "        docLink.innerHTML = docLinkHtml;\n",
              "        element.appendChild(docLink);\n",
              "      }\n",
              "    </script>\n",
              "  </div>\n",
              "\n",
              "\n",
              "<div id=\"df-bf06a22d-aa36-40dc-a07f-2a05ae966d18\">\n",
              "  <button class=\"colab-df-quickchart\" onclick=\"quickchart('df-bf06a22d-aa36-40dc-a07f-2a05ae966d18')\"\n",
              "            title=\"Suggest charts\"\n",
              "            style=\"display:none;\">\n",
              "\n",
              "<svg xmlns=\"http://www.w3.org/2000/svg\" height=\"24px\"viewBox=\"0 0 24 24\"\n",
              "     width=\"24px\">\n",
              "    <g>\n",
              "        <path d=\"M19 3H5c-1.1 0-2 .9-2 2v14c0 1.1.9 2 2 2h14c1.1 0 2-.9 2-2V5c0-1.1-.9-2-2-2zM9 17H7v-7h2v7zm4 0h-2V7h2v10zm4 0h-2v-4h2v4z\"/>\n",
              "    </g>\n",
              "</svg>\n",
              "  </button>\n",
              "\n",
              "<style>\n",
              "  .colab-df-quickchart {\n",
              "      --bg-color: #E8F0FE;\n",
              "      --fill-color: #1967D2;\n",
              "      --hover-bg-color: #E2EBFA;\n",
              "      --hover-fill-color: #174EA6;\n",
              "      --disabled-fill-color: #AAA;\n",
              "      --disabled-bg-color: #DDD;\n",
              "  }\n",
              "\n",
              "  [theme=dark] .colab-df-quickchart {\n",
              "      --bg-color: #3B4455;\n",
              "      --fill-color: #D2E3FC;\n",
              "      --hover-bg-color: #434B5C;\n",
              "      --hover-fill-color: #FFFFFF;\n",
              "      --disabled-bg-color: #3B4455;\n",
              "      --disabled-fill-color: #666;\n",
              "  }\n",
              "\n",
              "  .colab-df-quickchart {\n",
              "    background-color: var(--bg-color);\n",
              "    border: none;\n",
              "    border-radius: 50%;\n",
              "    cursor: pointer;\n",
              "    display: none;\n",
              "    fill: var(--fill-color);\n",
              "    height: 32px;\n",
              "    padding: 0;\n",
              "    width: 32px;\n",
              "  }\n",
              "\n",
              "  .colab-df-quickchart:hover {\n",
              "    background-color: var(--hover-bg-color);\n",
              "    box-shadow: 0 1px 2px rgba(60, 64, 67, 0.3), 0 1px 3px 1px rgba(60, 64, 67, 0.15);\n",
              "    fill: var(--button-hover-fill-color);\n",
              "  }\n",
              "\n",
              "  .colab-df-quickchart-complete:disabled,\n",
              "  .colab-df-quickchart-complete:disabled:hover {\n",
              "    background-color: var(--disabled-bg-color);\n",
              "    fill: var(--disabled-fill-color);\n",
              "    box-shadow: none;\n",
              "  }\n",
              "\n",
              "  .colab-df-spinner {\n",
              "    border: 2px solid var(--fill-color);\n",
              "    border-color: transparent;\n",
              "    border-bottom-color: var(--fill-color);\n",
              "    animation:\n",
              "      spin 1s steps(1) infinite;\n",
              "  }\n",
              "\n",
              "  @keyframes spin {\n",
              "    0% {\n",
              "      border-color: transparent;\n",
              "      border-bottom-color: var(--fill-color);\n",
              "      border-left-color: var(--fill-color);\n",
              "    }\n",
              "    20% {\n",
              "      border-color: transparent;\n",
              "      border-left-color: var(--fill-color);\n",
              "      border-top-color: var(--fill-color);\n",
              "    }\n",
              "    30% {\n",
              "      border-color: transparent;\n",
              "      border-left-color: var(--fill-color);\n",
              "      border-top-color: var(--fill-color);\n",
              "      border-right-color: var(--fill-color);\n",
              "    }\n",
              "    40% {\n",
              "      border-color: transparent;\n",
              "      border-right-color: var(--fill-color);\n",
              "      border-top-color: var(--fill-color);\n",
              "    }\n",
              "    60% {\n",
              "      border-color: transparent;\n",
              "      border-right-color: var(--fill-color);\n",
              "    }\n",
              "    80% {\n",
              "      border-color: transparent;\n",
              "      border-right-color: var(--fill-color);\n",
              "      border-bottom-color: var(--fill-color);\n",
              "    }\n",
              "    90% {\n",
              "      border-color: transparent;\n",
              "      border-bottom-color: var(--fill-color);\n",
              "    }\n",
              "  }\n",
              "</style>\n",
              "\n",
              "  <script>\n",
              "    async function quickchart(key) {\n",
              "      const quickchartButtonEl =\n",
              "        document.querySelector('#' + key + ' button');\n",
              "      quickchartButtonEl.disabled = true;  // To prevent multiple clicks.\n",
              "      quickchartButtonEl.classList.add('colab-df-spinner');\n",
              "      try {\n",
              "        const charts = await google.colab.kernel.invokeFunction(\n",
              "            'suggestCharts', [key], {});\n",
              "      } catch (error) {\n",
              "        console.error('Error during call to suggestCharts:', error);\n",
              "      }\n",
              "      quickchartButtonEl.classList.remove('colab-df-spinner');\n",
              "      quickchartButtonEl.classList.add('colab-df-quickchart-complete');\n",
              "    }\n",
              "    (() => {\n",
              "      let quickchartButtonEl =\n",
              "        document.querySelector('#df-bf06a22d-aa36-40dc-a07f-2a05ae966d18 button');\n",
              "      quickchartButtonEl.style.display =\n",
              "        google.colab.kernel.accessAllowed ? 'block' : 'none';\n",
              "    })();\n",
              "  </script>\n",
              "</div>\n",
              "\n",
              "    </div>\n",
              "  </div>\n"
            ],
            "application/vnd.google.colaboratory.intrinsic+json": {
              "type": "dataframe",
              "summary": "{\n  \"name\": \"diseases\",\n  \"rows\": 8,\n  \"fields\": [\n    {\n      \"column\": \"age\",\n      \"properties\": {\n        \"dtype\": \"number\",\n        \"std\": 334.80278924150707,\n        \"min\": 9.455307626656234,\n        \"max\": 992.0,\n        \"num_unique_values\": 8,\n        \"samples\": [\n          53.16431451612903,\n          54.0,\n          992.0\n        ],\n        \"semantic_type\": \"\",\n        \"description\": \"\"\n      }\n    },\n    {\n      \"column\": \"sex\",\n      \"properties\": {\n        \"dtype\": \"number\",\n        \"std\": 350.51402004911586,\n        \"min\": 0.0,\n        \"max\": 992.0,\n        \"num_unique_values\": 5,\n        \"samples\": [\n          0.7459677419354839,\n          1.0,\n          0.43553540703920435\n        ],\n        \"semantic_type\": \"\",\n        \"description\": \"\"\n      }\n    },\n    {\n      \"column\": \"chest pain type\",\n      \"properties\": {\n        \"dtype\": \"number\",\n        \"std\": 349.82161472361645,\n        \"min\": 1.0,\n        \"max\": 992.0,\n        \"num_unique_values\": 7,\n        \"samples\": [\n          992.0,\n          2.806451612903226,\n          3.0\n        ],\n        \"semantic_type\": \"\",\n        \"description\": \"\"\n      }\n    },\n    {\n      \"column\": \"resting bps\",\n      \"properties\": {\n        \"dtype\": \"number\",\n        \"std\": 313.73775506292634,\n        \"min\": 15.401854810502222,\n        \"max\": 992.0,\n        \"num_unique_values\": 8,\n        \"samples\": [\n          131.0766129032258,\n          130.0,\n          992.0\n        ],\n        \"semantic_type\": \"\",\n        \"description\": \"\"\n      }\n    },\n    {\n      \"column\": \"cholesterol\",\n      \"properties\": {\n        \"dtype\": \"number\",\n        \"std\": 292.85381928863404,\n        \"min\": 46.88159870766092,\n        \"max\": 992.0,\n        \"num_unique_values\": 8,\n        \"samples\": [\n          239.93145161290323,\n          236.0,\n          992.0\n        ],\n        \"semantic_type\": \"\",\n        \"description\": \"\"\n      }\n    },\n    {\n      \"column\": \"fasting blood sugar\",\n      \"properties\": {\n        \"dtype\": \"number\",\n        \"std\": 350.6485829770528,\n        \"min\": 0.0,\n        \"max\": 992.0,\n        \"num_unique_values\": 5,\n        \"samples\": [\n          0.15423387096774194,\n          1.0,\n          0.36135497017778584\n        ],\n        \"semantic_type\": \"\",\n        \"description\": \"\"\n      }\n    },\n    {\n      \"column\": \"resting ecg\",\n      \"properties\": {\n        \"dtype\": \"number\",\n        \"std\": 350.5052500278519,\n        \"min\": 0.0,\n        \"max\": 992.0,\n        \"num_unique_values\": 6,\n        \"samples\": [\n          992.0,\n          0.6038306451612904,\n          2.0\n        ],\n        \"semantic_type\": \"\",\n        \"description\": \"\"\n      }\n    },\n    {\n      \"column\": \"max heart rate\",\n      \"properties\": {\n        \"dtype\": \"number\",\n        \"std\": 311.5612963795201,\n        \"min\": 24.450463542320175,\n        \"max\": 992.0,\n        \"num_unique_values\": 8,\n        \"samples\": [\n          143.06552419354838,\n          144.0,\n          992.0\n        ],\n        \"semantic_type\": \"\",\n        \"description\": \"\"\n      }\n    },\n    {\n      \"column\": \"exercise angina\",\n      \"properties\": {\n        \"dtype\": \"number\",\n        \"std\": 350.5815666890356,\n        \"min\": 0.0,\n        \"max\": 992.0,\n        \"num_unique_values\": 5,\n        \"samples\": [\n          0.3629032258064516,\n          1.0,\n          0.4810798049369117\n        ],\n        \"semantic_type\": \"\",\n        \"description\": \"\"\n      }\n    },\n    {\n      \"column\": \"oldpeak\",\n      \"properties\": {\n        \"dtype\": \"number\",\n        \"std\": 350.21496256862747,\n        \"min\": -0.1,\n        \"max\": 992.0,\n        \"num_unique_values\": 8,\n        \"samples\": [\n          0.9257056451612903,\n          0.6,\n          992.0\n        ],\n        \"semantic_type\": \"\",\n        \"description\": \"\"\n      }\n    },\n    {\n      \"column\": \"ST slope\",\n      \"properties\": {\n        \"dtype\": \"number\",\n        \"std\": 350.21428372495745,\n        \"min\": 0.0,\n        \"max\": 992.0,\n        \"num_unique_values\": 7,\n        \"samples\": [\n          992.0,\n          1.528225806451613,\n          2.0\n        ],\n        \"semantic_type\": \"\",\n        \"description\": \"\"\n      }\n    },\n    {\n      \"column\": \"target\",\n      \"properties\": {\n        \"dtype\": \"number\",\n        \"std\": 350.57398243133815,\n        \"min\": 0.0,\n        \"max\": 992.0,\n        \"num_unique_values\": 5,\n        \"samples\": [\n          0.4939516129032258,\n          1.0,\n          0.5002156040471024\n        ],\n        \"semantic_type\": \"\",\n        \"description\": \"\"\n      }\n    }\n  ]\n}"
            }
          },
          "metadata": {},
          "execution_count": 26
        }
      ],
      "id": "aLzlQEceN6Li"
    },
    {
      "cell_type": "code",
      "source": [
        "diseases.info()"
      ],
      "metadata": {
        "ExecuteTime": {
          "end_time": "2024-03-19T12:23:19.851531700Z",
          "start_time": "2024-03-19T12:23:19.803678100Z"
        },
        "jupyter": {
          "outputs_hidden": false
        },
        "colab": {
          "base_uri": "https://localhost:8080/"
        },
        "id": "QJWvsMTkN6Li",
        "outputId": "2a7d4647-226c-404a-be43-10fdc04ec466"
      },
      "execution_count": null,
      "outputs": [
        {
          "output_type": "stream",
          "name": "stdout",
          "text": [
            "<class 'pandas.core.frame.DataFrame'>\n",
            "Index: 992 entries, 0 to 1047\n",
            "Data columns (total 12 columns):\n",
            " #   Column               Non-Null Count  Dtype  \n",
            "---  ------               --------------  -----  \n",
            " 0   age                  992 non-null    int64  \n",
            " 1   sex                  992 non-null    int64  \n",
            " 2   chest pain type      992 non-null    int64  \n",
            " 3   resting bps          992 non-null    int64  \n",
            " 4   cholesterol          992 non-null    float64\n",
            " 5   fasting blood sugar  992 non-null    int64  \n",
            " 6   resting ecg          992 non-null    int64  \n",
            " 7   max heart rate       992 non-null    int64  \n",
            " 8   exercise angina      992 non-null    int64  \n",
            " 9   oldpeak              992 non-null    float64\n",
            " 10  ST slope             992 non-null    int64  \n",
            " 11  target               992 non-null    int64  \n",
            "dtypes: float64(2), int64(10)\n",
            "memory usage: 100.8 KB\n"
          ]
        }
      ],
      "id": "QJWvsMTkN6Li"
    },
    {
      "cell_type": "markdown",
      "source": [
        "## **Data Preprocessing**\n",
        "### **Splitting Features and Target**\n"
      ],
      "metadata": {
        "id": "ae1AqnZoQDsK"
      },
      "id": "ae1AqnZoQDsK"
    },
    {
      "cell_type": "code",
      "source": [
        "y=diseases['target']\n",
        "x=diseases.drop('target',axis=1)\n"
      ],
      "metadata": {
        "ExecuteTime": {
          "end_time": "2024-03-19T12:23:19.853527500Z",
          "start_time": "2024-03-19T12:23:19.815012600Z"
        },
        "jupyter": {
          "outputs_hidden": false
        },
        "id": "7G-i0vQpN6Li"
      },
      "execution_count": null,
      "outputs": [],
      "id": "7G-i0vQpN6Li"
    },
    {
      "cell_type": "markdown",
      "source": [
        "## **Explanation**\n",
        "* Separates the target variable (y) which represents the presence of heart disease.\n",
        "* Stores the features (x) by removing the target column from the dataset.\n",
        "* Prepares the data for model training by distinguishing inputs and outputs."
      ],
      "metadata": {
        "id": "sXgDzYC7QTBc"
      },
      "id": "sXgDzYC7QTBc"
    },
    {
      "cell_type": "code",
      "source": [
        "x"
      ],
      "metadata": {
        "ExecuteTime": {
          "end_time": "2024-03-19T12:23:19.912005800Z",
          "start_time": "2024-03-19T12:23:19.819691600Z"
        },
        "jupyter": {
          "outputs_hidden": false
        },
        "colab": {
          "base_uri": "https://localhost:8080/",
          "height": 441
        },
        "id": "9UIHeXKuN6Lj",
        "outputId": "d384e556-be06-4aae-e2d6-0e1f84e6b15a"
      },
      "execution_count": null,
      "outputs": [
        {
          "output_type": "execute_result",
          "data": {
            "text/plain": [
              "      age  sex  chest pain type  resting bps  cholesterol  \\\n",
              "0      40    1                2          140        289.0   \n",
              "1      49    0                3          160        180.0   \n",
              "2      37    1                2          130        283.0   \n",
              "3      48    0                4          138        214.0   \n",
              "4      54    1                3          150        195.0   \n",
              "...   ...  ...              ...          ...          ...   \n",
              "1043   68    0                3          120        211.0   \n",
              "1044   44    0                3          108        141.0   \n",
              "1045   52    1                1          128        255.0   \n",
              "1046   59    1                4          160        273.0   \n",
              "1047   54    1                1          120        188.0   \n",
              "\n",
              "      fasting blood sugar  resting ecg  max heart rate  exercise angina  \\\n",
              "0                       0            0             172                0   \n",
              "1                       0            0             156                0   \n",
              "2                       0            1              98                0   \n",
              "3                       0            0             108                1   \n",
              "4                       0            0             122                0   \n",
              "...                   ...          ...             ...              ...   \n",
              "1043                    0            0             115                0   \n",
              "1044                    0            1             175                0   \n",
              "1045                    0            1             161                1   \n",
              "1046                    0            0             125                0   \n",
              "1047                    0            1             113                0   \n",
              "\n",
              "      oldpeak  ST slope  \n",
              "0         0.0         1  \n",
              "1         1.0         2  \n",
              "2         0.0         1  \n",
              "3         1.5         2  \n",
              "4         0.0         1  \n",
              "...       ...       ...  \n",
              "1043      1.5         1  \n",
              "1044      0.6         1  \n",
              "1045      0.0         2  \n",
              "1046      0.0         2  \n",
              "1047      1.4         1  \n",
              "\n",
              "[992 rows x 11 columns]"
            ],
            "text/html": [
              "\n",
              "  <div id=\"df-c7a72b05-9ece-49e3-8a4d-5639fe3ecf37\" class=\"colab-df-container\">\n",
              "    <div>\n",
              "<style scoped>\n",
              "    .dataframe tbody tr th:only-of-type {\n",
              "        vertical-align: middle;\n",
              "    }\n",
              "\n",
              "    .dataframe tbody tr th {\n",
              "        vertical-align: top;\n",
              "    }\n",
              "\n",
              "    .dataframe thead th {\n",
              "        text-align: right;\n",
              "    }\n",
              "</style>\n",
              "<table border=\"1\" class=\"dataframe\">\n",
              "  <thead>\n",
              "    <tr style=\"text-align: right;\">\n",
              "      <th></th>\n",
              "      <th>age</th>\n",
              "      <th>sex</th>\n",
              "      <th>chest pain type</th>\n",
              "      <th>resting bps</th>\n",
              "      <th>cholesterol</th>\n",
              "      <th>fasting blood sugar</th>\n",
              "      <th>resting ecg</th>\n",
              "      <th>max heart rate</th>\n",
              "      <th>exercise angina</th>\n",
              "      <th>oldpeak</th>\n",
              "      <th>ST slope</th>\n",
              "    </tr>\n",
              "  </thead>\n",
              "  <tbody>\n",
              "    <tr>\n",
              "      <th>0</th>\n",
              "      <td>40</td>\n",
              "      <td>1</td>\n",
              "      <td>2</td>\n",
              "      <td>140</td>\n",
              "      <td>289.0</td>\n",
              "      <td>0</td>\n",
              "      <td>0</td>\n",
              "      <td>172</td>\n",
              "      <td>0</td>\n",
              "      <td>0.0</td>\n",
              "      <td>1</td>\n",
              "    </tr>\n",
              "    <tr>\n",
              "      <th>1</th>\n",
              "      <td>49</td>\n",
              "      <td>0</td>\n",
              "      <td>3</td>\n",
              "      <td>160</td>\n",
              "      <td>180.0</td>\n",
              "      <td>0</td>\n",
              "      <td>0</td>\n",
              "      <td>156</td>\n",
              "      <td>0</td>\n",
              "      <td>1.0</td>\n",
              "      <td>2</td>\n",
              "    </tr>\n",
              "    <tr>\n",
              "      <th>2</th>\n",
              "      <td>37</td>\n",
              "      <td>1</td>\n",
              "      <td>2</td>\n",
              "      <td>130</td>\n",
              "      <td>283.0</td>\n",
              "      <td>0</td>\n",
              "      <td>1</td>\n",
              "      <td>98</td>\n",
              "      <td>0</td>\n",
              "      <td>0.0</td>\n",
              "      <td>1</td>\n",
              "    </tr>\n",
              "    <tr>\n",
              "      <th>3</th>\n",
              "      <td>48</td>\n",
              "      <td>0</td>\n",
              "      <td>4</td>\n",
              "      <td>138</td>\n",
              "      <td>214.0</td>\n",
              "      <td>0</td>\n",
              "      <td>0</td>\n",
              "      <td>108</td>\n",
              "      <td>1</td>\n",
              "      <td>1.5</td>\n",
              "      <td>2</td>\n",
              "    </tr>\n",
              "    <tr>\n",
              "      <th>4</th>\n",
              "      <td>54</td>\n",
              "      <td>1</td>\n",
              "      <td>3</td>\n",
              "      <td>150</td>\n",
              "      <td>195.0</td>\n",
              "      <td>0</td>\n",
              "      <td>0</td>\n",
              "      <td>122</td>\n",
              "      <td>0</td>\n",
              "      <td>0.0</td>\n",
              "      <td>1</td>\n",
              "    </tr>\n",
              "    <tr>\n",
              "      <th>...</th>\n",
              "      <td>...</td>\n",
              "      <td>...</td>\n",
              "      <td>...</td>\n",
              "      <td>...</td>\n",
              "      <td>...</td>\n",
              "      <td>...</td>\n",
              "      <td>...</td>\n",
              "      <td>...</td>\n",
              "      <td>...</td>\n",
              "      <td>...</td>\n",
              "      <td>...</td>\n",
              "    </tr>\n",
              "    <tr>\n",
              "      <th>1043</th>\n",
              "      <td>68</td>\n",
              "      <td>0</td>\n",
              "      <td>3</td>\n",
              "      <td>120</td>\n",
              "      <td>211.0</td>\n",
              "      <td>0</td>\n",
              "      <td>0</td>\n",
              "      <td>115</td>\n",
              "      <td>0</td>\n",
              "      <td>1.5</td>\n",
              "      <td>1</td>\n",
              "    </tr>\n",
              "    <tr>\n",
              "      <th>1044</th>\n",
              "      <td>44</td>\n",
              "      <td>0</td>\n",
              "      <td>3</td>\n",
              "      <td>108</td>\n",
              "      <td>141.0</td>\n",
              "      <td>0</td>\n",
              "      <td>1</td>\n",
              "      <td>175</td>\n",
              "      <td>0</td>\n",
              "      <td>0.6</td>\n",
              "      <td>1</td>\n",
              "    </tr>\n",
              "    <tr>\n",
              "      <th>1045</th>\n",
              "      <td>52</td>\n",
              "      <td>1</td>\n",
              "      <td>1</td>\n",
              "      <td>128</td>\n",
              "      <td>255.0</td>\n",
              "      <td>0</td>\n",
              "      <td>1</td>\n",
              "      <td>161</td>\n",
              "      <td>1</td>\n",
              "      <td>0.0</td>\n",
              "      <td>2</td>\n",
              "    </tr>\n",
              "    <tr>\n",
              "      <th>1046</th>\n",
              "      <td>59</td>\n",
              "      <td>1</td>\n",
              "      <td>4</td>\n",
              "      <td>160</td>\n",
              "      <td>273.0</td>\n",
              "      <td>0</td>\n",
              "      <td>0</td>\n",
              "      <td>125</td>\n",
              "      <td>0</td>\n",
              "      <td>0.0</td>\n",
              "      <td>2</td>\n",
              "    </tr>\n",
              "    <tr>\n",
              "      <th>1047</th>\n",
              "      <td>54</td>\n",
              "      <td>1</td>\n",
              "      <td>1</td>\n",
              "      <td>120</td>\n",
              "      <td>188.0</td>\n",
              "      <td>0</td>\n",
              "      <td>1</td>\n",
              "      <td>113</td>\n",
              "      <td>0</td>\n",
              "      <td>1.4</td>\n",
              "      <td>1</td>\n",
              "    </tr>\n",
              "  </tbody>\n",
              "</table>\n",
              "<p>992 rows × 11 columns</p>\n",
              "</div>\n",
              "    <div class=\"colab-df-buttons\">\n",
              "\n",
              "  <div class=\"colab-df-container\">\n",
              "    <button class=\"colab-df-convert\" onclick=\"convertToInteractive('df-c7a72b05-9ece-49e3-8a4d-5639fe3ecf37')\"\n",
              "            title=\"Convert this dataframe to an interactive table.\"\n",
              "            style=\"display:none;\">\n",
              "\n",
              "  <svg xmlns=\"http://www.w3.org/2000/svg\" height=\"24px\" viewBox=\"0 -960 960 960\">\n",
              "    <path d=\"M120-120v-720h720v720H120Zm60-500h600v-160H180v160Zm220 220h160v-160H400v160Zm0 220h160v-160H400v160ZM180-400h160v-160H180v160Zm440 0h160v-160H620v160ZM180-180h160v-160H180v160Zm440 0h160v-160H620v160Z\"/>\n",
              "  </svg>\n",
              "    </button>\n",
              "\n",
              "  <style>\n",
              "    .colab-df-container {\n",
              "      display:flex;\n",
              "      gap: 12px;\n",
              "    }\n",
              "\n",
              "    .colab-df-convert {\n",
              "      background-color: #E8F0FE;\n",
              "      border: none;\n",
              "      border-radius: 50%;\n",
              "      cursor: pointer;\n",
              "      display: none;\n",
              "      fill: #1967D2;\n",
              "      height: 32px;\n",
              "      padding: 0 0 0 0;\n",
              "      width: 32px;\n",
              "    }\n",
              "\n",
              "    .colab-df-convert:hover {\n",
              "      background-color: #E2EBFA;\n",
              "      box-shadow: 0px 1px 2px rgba(60, 64, 67, 0.3), 0px 1px 3px 1px rgba(60, 64, 67, 0.15);\n",
              "      fill: #174EA6;\n",
              "    }\n",
              "\n",
              "    .colab-df-buttons div {\n",
              "      margin-bottom: 4px;\n",
              "    }\n",
              "\n",
              "    [theme=dark] .colab-df-convert {\n",
              "      background-color: #3B4455;\n",
              "      fill: #D2E3FC;\n",
              "    }\n",
              "\n",
              "    [theme=dark] .colab-df-convert:hover {\n",
              "      background-color: #434B5C;\n",
              "      box-shadow: 0px 1px 3px 1px rgba(0, 0, 0, 0.15);\n",
              "      filter: drop-shadow(0px 1px 2px rgba(0, 0, 0, 0.3));\n",
              "      fill: #FFFFFF;\n",
              "    }\n",
              "  </style>\n",
              "\n",
              "    <script>\n",
              "      const buttonEl =\n",
              "        document.querySelector('#df-c7a72b05-9ece-49e3-8a4d-5639fe3ecf37 button.colab-df-convert');\n",
              "      buttonEl.style.display =\n",
              "        google.colab.kernel.accessAllowed ? 'block' : 'none';\n",
              "\n",
              "      async function convertToInteractive(key) {\n",
              "        const element = document.querySelector('#df-c7a72b05-9ece-49e3-8a4d-5639fe3ecf37');\n",
              "        const dataTable =\n",
              "          await google.colab.kernel.invokeFunction('convertToInteractive',\n",
              "                                                    [key], {});\n",
              "        if (!dataTable) return;\n",
              "\n",
              "        const docLinkHtml = 'Like what you see? Visit the ' +\n",
              "          '<a target=\"_blank\" href=https://colab.research.google.com/notebooks/data_table.ipynb>data table notebook</a>'\n",
              "          + ' to learn more about interactive tables.';\n",
              "        element.innerHTML = '';\n",
              "        dataTable['output_type'] = 'display_data';\n",
              "        await google.colab.output.renderOutput(dataTable, element);\n",
              "        const docLink = document.createElement('div');\n",
              "        docLink.innerHTML = docLinkHtml;\n",
              "        element.appendChild(docLink);\n",
              "      }\n",
              "    </script>\n",
              "  </div>\n",
              "\n",
              "\n",
              "<div id=\"df-cebbaf8c-415e-4d8f-83ac-169fbcfd1e33\">\n",
              "  <button class=\"colab-df-quickchart\" onclick=\"quickchart('df-cebbaf8c-415e-4d8f-83ac-169fbcfd1e33')\"\n",
              "            title=\"Suggest charts\"\n",
              "            style=\"display:none;\">\n",
              "\n",
              "<svg xmlns=\"http://www.w3.org/2000/svg\" height=\"24px\"viewBox=\"0 0 24 24\"\n",
              "     width=\"24px\">\n",
              "    <g>\n",
              "        <path d=\"M19 3H5c-1.1 0-2 .9-2 2v14c0 1.1.9 2 2 2h14c1.1 0 2-.9 2-2V5c0-1.1-.9-2-2-2zM9 17H7v-7h2v7zm4 0h-2V7h2v10zm4 0h-2v-4h2v4z\"/>\n",
              "    </g>\n",
              "</svg>\n",
              "  </button>\n",
              "\n",
              "<style>\n",
              "  .colab-df-quickchart {\n",
              "      --bg-color: #E8F0FE;\n",
              "      --fill-color: #1967D2;\n",
              "      --hover-bg-color: #E2EBFA;\n",
              "      --hover-fill-color: #174EA6;\n",
              "      --disabled-fill-color: #AAA;\n",
              "      --disabled-bg-color: #DDD;\n",
              "  }\n",
              "\n",
              "  [theme=dark] .colab-df-quickchart {\n",
              "      --bg-color: #3B4455;\n",
              "      --fill-color: #D2E3FC;\n",
              "      --hover-bg-color: #434B5C;\n",
              "      --hover-fill-color: #FFFFFF;\n",
              "      --disabled-bg-color: #3B4455;\n",
              "      --disabled-fill-color: #666;\n",
              "  }\n",
              "\n",
              "  .colab-df-quickchart {\n",
              "    background-color: var(--bg-color);\n",
              "    border: none;\n",
              "    border-radius: 50%;\n",
              "    cursor: pointer;\n",
              "    display: none;\n",
              "    fill: var(--fill-color);\n",
              "    height: 32px;\n",
              "    padding: 0;\n",
              "    width: 32px;\n",
              "  }\n",
              "\n",
              "  .colab-df-quickchart:hover {\n",
              "    background-color: var(--hover-bg-color);\n",
              "    box-shadow: 0 1px 2px rgba(60, 64, 67, 0.3), 0 1px 3px 1px rgba(60, 64, 67, 0.15);\n",
              "    fill: var(--button-hover-fill-color);\n",
              "  }\n",
              "\n",
              "  .colab-df-quickchart-complete:disabled,\n",
              "  .colab-df-quickchart-complete:disabled:hover {\n",
              "    background-color: var(--disabled-bg-color);\n",
              "    fill: var(--disabled-fill-color);\n",
              "    box-shadow: none;\n",
              "  }\n",
              "\n",
              "  .colab-df-spinner {\n",
              "    border: 2px solid var(--fill-color);\n",
              "    border-color: transparent;\n",
              "    border-bottom-color: var(--fill-color);\n",
              "    animation:\n",
              "      spin 1s steps(1) infinite;\n",
              "  }\n",
              "\n",
              "  @keyframes spin {\n",
              "    0% {\n",
              "      border-color: transparent;\n",
              "      border-bottom-color: var(--fill-color);\n",
              "      border-left-color: var(--fill-color);\n",
              "    }\n",
              "    20% {\n",
              "      border-color: transparent;\n",
              "      border-left-color: var(--fill-color);\n",
              "      border-top-color: var(--fill-color);\n",
              "    }\n",
              "    30% {\n",
              "      border-color: transparent;\n",
              "      border-left-color: var(--fill-color);\n",
              "      border-top-color: var(--fill-color);\n",
              "      border-right-color: var(--fill-color);\n",
              "    }\n",
              "    40% {\n",
              "      border-color: transparent;\n",
              "      border-right-color: var(--fill-color);\n",
              "      border-top-color: var(--fill-color);\n",
              "    }\n",
              "    60% {\n",
              "      border-color: transparent;\n",
              "      border-right-color: var(--fill-color);\n",
              "    }\n",
              "    80% {\n",
              "      border-color: transparent;\n",
              "      border-right-color: var(--fill-color);\n",
              "      border-bottom-color: var(--fill-color);\n",
              "    }\n",
              "    90% {\n",
              "      border-color: transparent;\n",
              "      border-bottom-color: var(--fill-color);\n",
              "    }\n",
              "  }\n",
              "</style>\n",
              "\n",
              "  <script>\n",
              "    async function quickchart(key) {\n",
              "      const quickchartButtonEl =\n",
              "        document.querySelector('#' + key + ' button');\n",
              "      quickchartButtonEl.disabled = true;  // To prevent multiple clicks.\n",
              "      quickchartButtonEl.classList.add('colab-df-spinner');\n",
              "      try {\n",
              "        const charts = await google.colab.kernel.invokeFunction(\n",
              "            'suggestCharts', [key], {});\n",
              "      } catch (error) {\n",
              "        console.error('Error during call to suggestCharts:', error);\n",
              "      }\n",
              "      quickchartButtonEl.classList.remove('colab-df-spinner');\n",
              "      quickchartButtonEl.classList.add('colab-df-quickchart-complete');\n",
              "    }\n",
              "    (() => {\n",
              "      let quickchartButtonEl =\n",
              "        document.querySelector('#df-cebbaf8c-415e-4d8f-83ac-169fbcfd1e33 button');\n",
              "      quickchartButtonEl.style.display =\n",
              "        google.colab.kernel.accessAllowed ? 'block' : 'none';\n",
              "    })();\n",
              "  </script>\n",
              "</div>\n",
              "\n",
              "  <div id=\"id_b29e5b30-e537-4480-a980-afbb8e1371ee\">\n",
              "    <style>\n",
              "      .colab-df-generate {\n",
              "        background-color: #E8F0FE;\n",
              "        border: none;\n",
              "        border-radius: 50%;\n",
              "        cursor: pointer;\n",
              "        display: none;\n",
              "        fill: #1967D2;\n",
              "        height: 32px;\n",
              "        padding: 0 0 0 0;\n",
              "        width: 32px;\n",
              "      }\n",
              "\n",
              "      .colab-df-generate:hover {\n",
              "        background-color: #E2EBFA;\n",
              "        box-shadow: 0px 1px 2px rgba(60, 64, 67, 0.3), 0px 1px 3px 1px rgba(60, 64, 67, 0.15);\n",
              "        fill: #174EA6;\n",
              "      }\n",
              "\n",
              "      [theme=dark] .colab-df-generate {\n",
              "        background-color: #3B4455;\n",
              "        fill: #D2E3FC;\n",
              "      }\n",
              "\n",
              "      [theme=dark] .colab-df-generate:hover {\n",
              "        background-color: #434B5C;\n",
              "        box-shadow: 0px 1px 3px 1px rgba(0, 0, 0, 0.15);\n",
              "        filter: drop-shadow(0px 1px 2px rgba(0, 0, 0, 0.3));\n",
              "        fill: #FFFFFF;\n",
              "      }\n",
              "    </style>\n",
              "    <button class=\"colab-df-generate\" onclick=\"generateWithVariable('x')\"\n",
              "            title=\"Generate code using this dataframe.\"\n",
              "            style=\"display:none;\">\n",
              "\n",
              "  <svg xmlns=\"http://www.w3.org/2000/svg\" height=\"24px\"viewBox=\"0 0 24 24\"\n",
              "       width=\"24px\">\n",
              "    <path d=\"M7,19H8.4L18.45,9,17,7.55,7,17.6ZM5,21V16.75L18.45,3.32a2,2,0,0,1,2.83,0l1.4,1.43a1.91,1.91,0,0,1,.58,1.4,1.91,1.91,0,0,1-.58,1.4L9.25,21ZM18.45,9,17,7.55Zm-12,3A5.31,5.31,0,0,0,4.9,8.1,5.31,5.31,0,0,0,1,6.5,5.31,5.31,0,0,0,4.9,4.9,5.31,5.31,0,0,0,6.5,1,5.31,5.31,0,0,0,8.1,4.9,5.31,5.31,0,0,0,12,6.5,5.46,5.46,0,0,0,6.5,12Z\"/>\n",
              "  </svg>\n",
              "    </button>\n",
              "    <script>\n",
              "      (() => {\n",
              "      const buttonEl =\n",
              "        document.querySelector('#id_b29e5b30-e537-4480-a980-afbb8e1371ee button.colab-df-generate');\n",
              "      buttonEl.style.display =\n",
              "        google.colab.kernel.accessAllowed ? 'block' : 'none';\n",
              "\n",
              "      buttonEl.onclick = () => {\n",
              "        google.colab.notebook.generateWithVariable('x');\n",
              "      }\n",
              "      })();\n",
              "    </script>\n",
              "  </div>\n",
              "\n",
              "    </div>\n",
              "  </div>\n"
            ],
            "application/vnd.google.colaboratory.intrinsic+json": {
              "type": "dataframe",
              "variable_name": "x",
              "summary": "{\n  \"name\": \"x\",\n  \"rows\": 992,\n  \"fields\": [\n    {\n      \"column\": \"age\",\n      \"properties\": {\n        \"dtype\": \"number\",\n        \"std\": 9,\n        \"min\": 28,\n        \"max\": 77,\n        \"num_unique_values\": 49,\n        \"samples\": [\n          44,\n          74,\n          70\n        ],\n        \"semantic_type\": \"\",\n        \"description\": \"\"\n      }\n    },\n    {\n      \"column\": \"sex\",\n      \"properties\": {\n        \"dtype\": \"number\",\n        \"std\": 0,\n        \"min\": 0,\n        \"max\": 1,\n        \"num_unique_values\": 2,\n        \"samples\": [\n          0,\n          1\n        ],\n        \"semantic_type\": \"\",\n        \"description\": \"\"\n      }\n    },\n    {\n      \"column\": \"chest pain type\",\n      \"properties\": {\n        \"dtype\": \"number\",\n        \"std\": 1,\n        \"min\": 1,\n        \"max\": 4,\n        \"num_unique_values\": 4,\n        \"samples\": [\n          3,\n          1\n        ],\n        \"semantic_type\": \"\",\n        \"description\": \"\"\n      }\n    },\n    {\n      \"column\": \"resting bps\",\n      \"properties\": {\n        \"dtype\": \"number\",\n        \"std\": 15,\n        \"min\": 92,\n        \"max\": 170,\n        \"num_unique_values\": 55,\n        \"samples\": [\n          152,\n          120\n        ],\n        \"semantic_type\": \"\",\n        \"description\": \"\"\n      }\n    },\n    {\n      \"column\": \"cholesterol\",\n      \"properties\": {\n        \"dtype\": \"number\",\n        \"std\": 46.88159870766092,\n        \"min\": 110.0,\n        \"max\": 369.0,\n        \"num_unique_values\": 197,\n        \"samples\": [\n          220.0,\n          193.0\n        ],\n        \"semantic_type\": \"\",\n        \"description\": \"\"\n      }\n    },\n    {\n      \"column\": \"fasting blood sugar\",\n      \"properties\": {\n        \"dtype\": \"number\",\n        \"std\": 0,\n        \"min\": 0,\n        \"max\": 1,\n        \"num_unique_values\": 2,\n        \"samples\": [\n          1,\n          0\n        ],\n        \"semantic_type\": \"\",\n        \"description\": \"\"\n      }\n    },\n    {\n      \"column\": \"resting ecg\",\n      \"properties\": {\n        \"dtype\": \"number\",\n        \"std\": 0,\n        \"min\": 0,\n        \"max\": 2,\n        \"num_unique_values\": 3,\n        \"samples\": [\n          0,\n          1\n        ],\n        \"semantic_type\": \"\",\n        \"description\": \"\"\n      }\n    },\n    {\n      \"column\": \"max heart rate\",\n      \"properties\": {\n        \"dtype\": \"number\",\n        \"std\": 24,\n        \"min\": 71,\n        \"max\": 202,\n        \"num_unique_values\": 106,\n        \"samples\": [\n          182,\n          145\n        ],\n        \"semantic_type\": \"\",\n        \"description\": \"\"\n      }\n    },\n    {\n      \"column\": \"exercise angina\",\n      \"properties\": {\n        \"dtype\": \"number\",\n        \"std\": 0,\n        \"min\": 0,\n        \"max\": 1,\n        \"num_unique_values\": 2,\n        \"samples\": [\n          1,\n          0\n        ],\n        \"semantic_type\": \"\",\n        \"description\": \"\"\n      }\n    },\n    {\n      \"column\": \"oldpeak\",\n      \"properties\": {\n        \"dtype\": \"number\",\n        \"std\": 1.0856715202571448,\n        \"min\": -0.1,\n        \"max\": 6.2,\n        \"num_unique_values\": 43,\n        \"samples\": [\n          4.2,\n          0.6\n        ],\n        \"semantic_type\": \"\",\n        \"description\": \"\"\n      }\n    },\n    {\n      \"column\": \"ST slope\",\n      \"properties\": {\n        \"dtype\": \"number\",\n        \"std\": 0,\n        \"min\": 0,\n        \"max\": 3,\n        \"num_unique_values\": 4,\n        \"samples\": [\n          2,\n          0\n        ],\n        \"semantic_type\": \"\",\n        \"description\": \"\"\n      }\n    }\n  ]\n}"
            }
          },
          "metadata": {},
          "execution_count": 29
        }
      ],
      "id": "9UIHeXKuN6Lj"
    },
    {
      "cell_type": "markdown",
      "source": [
        "## **Standardizing the Data**"
      ],
      "metadata": {
        "id": "vC4WRGtkQwF_"
      },
      "id": "vC4WRGtkQwF_"
    },
    {
      "cell_type": "code",
      "source": [
        "scaler = StandardScaler()\n",
        "X = scaler.fit_transform(x)\n"
      ],
      "metadata": {
        "ExecuteTime": {
          "end_time": "2024-03-19T12:23:19.914033100Z",
          "start_time": "2024-03-19T12:23:19.835072300Z"
        },
        "jupyter": {
          "outputs_hidden": false
        },
        "id": "63a8MnXoN6Lj"
      },
      "execution_count": null,
      "outputs": [],
      "id": "63a8MnXoN6Lj"
    },
    {
      "cell_type": "markdown",
      "source": [
        "## **Explanation**\n",
        "* Applies StandardScaler() to transform the feature values to a standard normal distribution.\n",
        "* Improves model performance by ensuring all numerical features have a mean of 0 and standard deviation of 1.\n",
        "* Prepares the data for efficient learning by eliminating scale differences between features."
      ],
      "metadata": {
        "id": "s-v1gLsxQ5Vb"
      },
      "id": "s-v1gLsxQ5Vb"
    },
    {
      "cell_type": "markdown",
      "source": [
        "## **Splitting the Dataset into Training and Testing Sets**"
      ],
      "metadata": {
        "id": "x856077bQ82o"
      },
      "id": "x856077bQ82o"
    },
    {
      "cell_type": "code",
      "source": [
        "X_train, X_test, y_train, y_test = train_test_split(X, y, test_size=0.2, random_state=42)"
      ],
      "metadata": {
        "ExecuteTime": {
          "end_time": "2024-03-19T12:23:19.916027800Z",
          "start_time": "2024-03-19T12:23:19.844359800Z"
        },
        "jupyter": {
          "outputs_hidden": false
        },
        "id": "-7B5tKSJN6Lk"
      },
      "execution_count": null,
      "outputs": [],
      "id": "-7B5tKSJN6Lk"
    },
    {
      "cell_type": "markdown",
      "source": [
        "## **Explanation**\n",
        "* Splits the dataset into 80% for training and 20% for testing to evaluate the model's performance.\n",
        "* Ensures reproducibility by using random_state=42 for consistent results across different runs.\n",
        "* Prepares the data by separating features (X) and target variable (y) into training and testing subsets."
      ],
      "metadata": {
        "id": "E7RO3igORoom"
      },
      "id": "E7RO3igORoom"
    },
    {
      "cell_type": "code",
      "source": [],
      "metadata": {
        "id": "oiFMKpImR4Jp"
      },
      "id": "oiFMKpImR4Jp",
      "execution_count": null,
      "outputs": []
    },
    {
      "cell_type": "markdown",
      "source": [
        "# **Applying the ANN Model**\n"
      ],
      "metadata": {
        "id": "xUR4GoxuR_-G"
      },
      "id": "xUR4GoxuR_-G"
    },
    {
      "cell_type": "markdown",
      "source": [
        "## **Defining the ANN Model Architecture**\n"
      ],
      "metadata": {
        "id": "unJLQLtVSRqw"
      },
      "id": "unJLQLtVSRqw"
    },
    {
      "cell_type": "code",
      "source": [
        "model = Sequential([\n",
        "    Dense(256, input_shape=(11,), activation='relu', kernel_regularizer=regularizers.l2(0.01)),\n",
        "    Dropout(0.2),\n",
        "    Dense(128, activation='relu', kernel_regularizer=regularizers.l2(0.01)),\n",
        "    Dropout(0.2),\n",
        "    Dense(32, activation='relu', kernel_regularizer=regularizers.l2(0.01)),\n",
        "    Dropout(0.2),\n",
        "    Dense(4, activation='relu', kernel_regularizer=regularizers.l2(0.01)),\n",
        "    Dropout(0.2),\n",
        "    Dense(1, activation='sigmoid')\n",
        "])\n"
      ],
      "metadata": {
        "ExecuteTime": {
          "end_time": "2024-03-19T12:23:19.960383600Z",
          "start_time": "2024-03-19T12:23:19.852531Z"
        },
        "jupyter": {
          "outputs_hidden": false
        },
        "colab": {
          "base_uri": "https://localhost:8080/"
        },
        "id": "GUuKo1hIN6Lk",
        "outputId": "35719060-d60b-4963-a50d-8ff24ad828d8"
      },
      "execution_count": null,
      "outputs": [
        {
          "output_type": "stream",
          "name": "stderr",
          "text": [
            "/usr/local/lib/python3.11/dist-packages/keras/src/layers/core/dense.py:87: UserWarning: Do not pass an `input_shape`/`input_dim` argument to a layer. When using Sequential models, prefer using an `Input(shape)` object as the first layer in the model instead.\n",
            "  super().__init__(activity_regularizer=activity_regularizer, **kwargs)\n"
          ]
        }
      ],
      "id": "GUuKo1hIN6Lk"
    },
    {
      "cell_type": "markdown",
      "source": [
        "## **Explanation**\n",
        "* Sequential model: Builds the neural network layer by layer.\n",
        "* Dense layers: Each layer is fully connected with ReLU activation and L2 regularization to prevent overfitting.\n",
        "* Dropout: Regularization technique applied to randomly drop 20% of neurons in\n",
        "* Final layer: A single output neuron with a Sigmoid activation for binary classification (heart disease or no disease)."
      ],
      "metadata": {
        "id": "Och6wTnhSHK7"
      },
      "id": "Och6wTnhSHK7"
    },
    {
      "cell_type": "markdown",
      "source": [
        "### **compute the accuracy and test the model:**\n",
        "## **Compiling the ANN Model**\n"
      ],
      "metadata": {
        "id": "hPAHGkPPN6Lk"
      },
      "id": "hPAHGkPPN6Lk"
    },
    {
      "cell_type": "code",
      "source": [
        "model.compile(optimizer=Adam(), loss='binary_crossentropy', metrics=['accuracy'])"
      ],
      "metadata": {
        "ExecuteTime": {
          "end_time": "2024-03-19T12:23:19.962377400Z",
          "start_time": "2024-03-19T12:23:19.896841900Z"
        },
        "jupyter": {
          "outputs_hidden": false
        },
        "id": "nmiL5mXYN6Lk"
      },
      "execution_count": null,
      "outputs": [],
      "id": "nmiL5mXYN6Lk"
    },
    {
      "cell_type": "markdown",
      "source": [
        "## **Explanation**\n",
        "* Optimizer: Uses Adam, an adaptive optimization algorithm that adjusts learning rates during training.\n",
        "* Loss function: Specifies binary_crossentropy for binary classification tasks, comparing predicted and actual values.\n"
      ],
      "metadata": {
        "id": "hpdI6LmgSk82"
      },
      "id": "hpdI6LmgSk82"
    },
    {
      "cell_type": "markdown",
      "source": [
        "## **Training the ANN Model**\n"
      ],
      "metadata": {
        "id": "I9-F_O73TIAj"
      },
      "id": "I9-F_O73TIAj"
    },
    {
      "cell_type": "code",
      "source": [
        "# Train the model and store history\n",
        "history = model.fit(X_train, y_train, epochs=100, batch_size=32, validation_split=0.1)\n",
        "# Extract accuracy values\n",
        "train_accuracy = history.history['accuracy']\n",
        "val_accuracy = history.history['val_accuracy']\n",
        "epochs = range(1, len(train_accuracy) + 1)\n",
        "\n"
      ],
      "metadata": {
        "ExecuteTime": {
          "end_time": "2024-03-19T12:23:32.025896100Z",
          "start_time": "2024-03-19T12:23:19.907018Z"
        },
        "jupyter": {
          "outputs_hidden": false
        },
        "colab": {
          "base_uri": "https://localhost:8080/"
        },
        "id": "21sddsq_N6Ll",
        "outputId": "d1a45a6c-ddf7-4e25-c07d-00e783e076d8"
      },
      "execution_count": null,
      "outputs": [
        {
          "output_type": "stream",
          "name": "stdout",
          "text": [
            "Epoch 1/100\n",
            "\u001b[1m23/23\u001b[0m \u001b[32m━━━━━━━━━━━━━━━━━━━━\u001b[0m\u001b[37m\u001b[0m \u001b[1m0s\u001b[0m 12ms/step - accuracy: 0.8385 - loss: 0.4963 - val_accuracy: 0.7375 - val_loss: 0.5671\n",
            "Epoch 2/100\n",
            "\u001b[1m23/23\u001b[0m \u001b[32m━━━━━━━━━━━━━━━━━━━━\u001b[0m\u001b[37m\u001b[0m \u001b[1m0s\u001b[0m 11ms/step - accuracy: 0.8083 - loss: 0.5163 - val_accuracy: 0.7875 - val_loss: 0.5677\n",
            "Epoch 3/100\n",
            "\u001b[1m23/23\u001b[0m \u001b[32m━━━━━━━━━━━━━━━━━━━━\u001b[0m\u001b[37m\u001b[0m \u001b[1m0s\u001b[0m 11ms/step - accuracy: 0.8254 - loss: 0.5155 - val_accuracy: 0.7500 - val_loss: 0.5744\n",
            "Epoch 4/100\n",
            "\u001b[1m23/23\u001b[0m \u001b[32m━━━━━━━━━━━━━━━━━━━━\u001b[0m\u001b[37m\u001b[0m \u001b[1m0s\u001b[0m 11ms/step - accuracy: 0.8666 - loss: 0.4698 - val_accuracy: 0.8000 - val_loss: 0.5645\n",
            "Epoch 5/100\n",
            "\u001b[1m23/23\u001b[0m \u001b[32m━━━━━━━━━━━━━━━━━━━━\u001b[0m\u001b[37m\u001b[0m \u001b[1m0s\u001b[0m 12ms/step - accuracy: 0.8202 - loss: 0.5095 - val_accuracy: 0.7875 - val_loss: 0.5574\n",
            "Epoch 6/100\n",
            "\u001b[1m23/23\u001b[0m \u001b[32m━━━━━━━━━━━━━━━━━━━━\u001b[0m\u001b[37m\u001b[0m \u001b[1m0s\u001b[0m 11ms/step - accuracy: 0.8195 - loss: 0.5154 - val_accuracy: 0.7875 - val_loss: 0.5681\n",
            "Epoch 7/100\n",
            "\u001b[1m23/23\u001b[0m \u001b[32m━━━━━━━━━━━━━━━━━━━━\u001b[0m\u001b[37m\u001b[0m \u001b[1m0s\u001b[0m 11ms/step - accuracy: 0.8246 - loss: 0.5020 - val_accuracy: 0.7625 - val_loss: 0.5751\n",
            "Epoch 8/100\n",
            "\u001b[1m23/23\u001b[0m \u001b[32m━━━━━━━━━━━━━━━━━━━━\u001b[0m\u001b[37m\u001b[0m \u001b[1m0s\u001b[0m 12ms/step - accuracy: 0.8340 - loss: 0.5034 - val_accuracy: 0.7750 - val_loss: 0.5758\n",
            "Epoch 9/100\n",
            "\u001b[1m23/23\u001b[0m \u001b[32m━━━━━━━━━━━━━━━━━━━━\u001b[0m\u001b[37m\u001b[0m \u001b[1m1s\u001b[0m 12ms/step - accuracy: 0.8222 - loss: 0.5071 - val_accuracy: 0.7750 - val_loss: 0.5801\n",
            "Epoch 10/100\n",
            "\u001b[1m23/23\u001b[0m \u001b[32m━━━━━━━━━━━━━━━━━━━━\u001b[0m\u001b[37m\u001b[0m \u001b[1m0s\u001b[0m 7ms/step - accuracy: 0.8273 - loss: 0.5143 - val_accuracy: 0.7500 - val_loss: 0.5719\n",
            "Epoch 11/100\n",
            "\u001b[1m23/23\u001b[0m \u001b[32m━━━━━━━━━━━━━━━━━━━━\u001b[0m\u001b[37m\u001b[0m \u001b[1m0s\u001b[0m 7ms/step - accuracy: 0.8415 - loss: 0.4787 - val_accuracy: 0.7750 - val_loss: 0.5721\n",
            "Epoch 12/100\n",
            "\u001b[1m23/23\u001b[0m \u001b[32m━━━━━━━━━━━━━━━━━━━━\u001b[0m\u001b[37m\u001b[0m \u001b[1m0s\u001b[0m 7ms/step - accuracy: 0.8523 - loss: 0.4772 - val_accuracy: 0.7750 - val_loss: 0.5760\n",
            "Epoch 13/100\n",
            "\u001b[1m23/23\u001b[0m \u001b[32m━━━━━━━━━━━━━━━━━━━━\u001b[0m\u001b[37m\u001b[0m \u001b[1m0s\u001b[0m 7ms/step - accuracy: 0.8198 - loss: 0.5347 - val_accuracy: 0.7875 - val_loss: 0.5735\n",
            "Epoch 14/100\n",
            "\u001b[1m23/23\u001b[0m \u001b[32m━━━━━━━━━━━━━━━━━━━━\u001b[0m\u001b[37m\u001b[0m \u001b[1m0s\u001b[0m 7ms/step - accuracy: 0.8151 - loss: 0.5177 - val_accuracy: 0.8000 - val_loss: 0.5725\n",
            "Epoch 15/100\n",
            "\u001b[1m23/23\u001b[0m \u001b[32m━━━━━━━━━━━━━━━━━━━━\u001b[0m\u001b[37m\u001b[0m \u001b[1m0s\u001b[0m 7ms/step - accuracy: 0.8600 - loss: 0.4593 - val_accuracy: 0.7500 - val_loss: 0.5890\n",
            "Epoch 16/100\n",
            "\u001b[1m23/23\u001b[0m \u001b[32m━━━━━━━━━━━━━━━━━━━━\u001b[0m\u001b[37m\u001b[0m \u001b[1m0s\u001b[0m 6ms/step - accuracy: 0.8486 - loss: 0.4826 - val_accuracy: 0.7500 - val_loss: 0.5900\n",
            "Epoch 17/100\n",
            "\u001b[1m23/23\u001b[0m \u001b[32m━━━━━━━━━━━━━━━━━━━━\u001b[0m\u001b[37m\u001b[0m \u001b[1m0s\u001b[0m 6ms/step - accuracy: 0.8358 - loss: 0.4981 - val_accuracy: 0.7875 - val_loss: 0.5631\n",
            "Epoch 18/100\n",
            "\u001b[1m23/23\u001b[0m \u001b[32m━━━━━━━━━━━━━━━━━━━━\u001b[0m\u001b[37m\u001b[0m \u001b[1m0s\u001b[0m 8ms/step - accuracy: 0.8102 - loss: 0.5239 - val_accuracy: 0.8000 - val_loss: 0.5636\n",
            "Epoch 19/100\n",
            "\u001b[1m23/23\u001b[0m \u001b[32m━━━━━━━━━━━━━━━━━━━━\u001b[0m\u001b[37m\u001b[0m \u001b[1m0s\u001b[0m 7ms/step - accuracy: 0.8311 - loss: 0.5037 - val_accuracy: 0.8000 - val_loss: 0.5741\n",
            "Epoch 20/100\n",
            "\u001b[1m23/23\u001b[0m \u001b[32m━━━━━━━━━━━━━━━━━━━━\u001b[0m\u001b[37m\u001b[0m \u001b[1m0s\u001b[0m 6ms/step - accuracy: 0.8203 - loss: 0.5016 - val_accuracy: 0.7875 - val_loss: 0.5767\n",
            "Epoch 21/100\n",
            "\u001b[1m23/23\u001b[0m \u001b[32m━━━━━━━━━━━━━━━━━━━━\u001b[0m\u001b[37m\u001b[0m \u001b[1m0s\u001b[0m 6ms/step - accuracy: 0.8473 - loss: 0.4978 - val_accuracy: 0.7875 - val_loss: 0.5729\n",
            "Epoch 22/100\n",
            "\u001b[1m23/23\u001b[0m \u001b[32m━━━━━━━━━━━━━━━━━━━━\u001b[0m\u001b[37m\u001b[0m \u001b[1m0s\u001b[0m 7ms/step - accuracy: 0.8508 - loss: 0.4954 - val_accuracy: 0.7750 - val_loss: 0.5822\n",
            "Epoch 23/100\n",
            "\u001b[1m23/23\u001b[0m \u001b[32m━━━━━━━━━━━━━━━━━━━━\u001b[0m\u001b[37m\u001b[0m \u001b[1m0s\u001b[0m 6ms/step - accuracy: 0.8160 - loss: 0.5090 - val_accuracy: 0.7750 - val_loss: 0.5706\n",
            "Epoch 24/100\n",
            "\u001b[1m23/23\u001b[0m \u001b[32m━━━━━━━━━━━━━━━━━━━━\u001b[0m\u001b[37m\u001b[0m \u001b[1m0s\u001b[0m 8ms/step - accuracy: 0.8457 - loss: 0.4948 - val_accuracy: 0.7500 - val_loss: 0.5747\n",
            "Epoch 25/100\n",
            "\u001b[1m23/23\u001b[0m \u001b[32m━━━━━━━━━━━━━━━━━━━━\u001b[0m\u001b[37m\u001b[0m \u001b[1m0s\u001b[0m 6ms/step - accuracy: 0.8110 - loss: 0.5159 - val_accuracy: 0.8000 - val_loss: 0.5667\n",
            "Epoch 26/100\n",
            "\u001b[1m23/23\u001b[0m \u001b[32m━━━━━━━━━━━━━━━━━━━━\u001b[0m\u001b[37m\u001b[0m \u001b[1m0s\u001b[0m 6ms/step - accuracy: 0.8382 - loss: 0.4876 - val_accuracy: 0.7500 - val_loss: 0.5936\n",
            "Epoch 27/100\n",
            "\u001b[1m23/23\u001b[0m \u001b[32m━━━━━━━━━━━━━━━━━━━━\u001b[0m\u001b[37m\u001b[0m \u001b[1m0s\u001b[0m 6ms/step - accuracy: 0.8024 - loss: 0.5226 - val_accuracy: 0.7500 - val_loss: 0.5749\n",
            "Epoch 28/100\n",
            "\u001b[1m23/23\u001b[0m \u001b[32m━━━━━━━━━━━━━━━━━━━━\u001b[0m\u001b[37m\u001b[0m \u001b[1m0s\u001b[0m 7ms/step - accuracy: 0.8473 - loss: 0.4919 - val_accuracy: 0.8250 - val_loss: 0.5716\n",
            "Epoch 29/100\n",
            "\u001b[1m23/23\u001b[0m \u001b[32m━━━━━━━━━━━━━━━━━━━━\u001b[0m\u001b[37m\u001b[0m \u001b[1m0s\u001b[0m 7ms/step - accuracy: 0.8046 - loss: 0.5118 - val_accuracy: 0.7750 - val_loss: 0.5722\n",
            "Epoch 30/100\n",
            "\u001b[1m23/23\u001b[0m \u001b[32m━━━━━━━━━━━━━━━━━━━━\u001b[0m\u001b[37m\u001b[0m \u001b[1m0s\u001b[0m 7ms/step - accuracy: 0.8179 - loss: 0.5199 - val_accuracy: 0.7625 - val_loss: 0.5710\n",
            "Epoch 31/100\n",
            "\u001b[1m23/23\u001b[0m \u001b[32m━━━━━━━━━━━━━━━━━━━━\u001b[0m\u001b[37m\u001b[0m \u001b[1m0s\u001b[0m 6ms/step - accuracy: 0.8134 - loss: 0.5394 - val_accuracy: 0.7500 - val_loss: 0.5744\n",
            "Epoch 32/100\n",
            "\u001b[1m23/23\u001b[0m \u001b[32m━━━━━━━━━━━━━━━━━━━━\u001b[0m\u001b[37m\u001b[0m \u001b[1m0s\u001b[0m 6ms/step - accuracy: 0.8199 - loss: 0.5036 - val_accuracy: 0.7375 - val_loss: 0.5857\n",
            "Epoch 33/100\n",
            "\u001b[1m23/23\u001b[0m \u001b[32m━━━━━━━━━━━━━━━━━━━━\u001b[0m\u001b[37m\u001b[0m \u001b[1m0s\u001b[0m 8ms/step - accuracy: 0.8158 - loss: 0.5132 - val_accuracy: 0.7875 - val_loss: 0.5681\n",
            "Epoch 34/100\n",
            "\u001b[1m23/23\u001b[0m \u001b[32m━━━━━━━━━━━━━━━━━━━━\u001b[0m\u001b[37m\u001b[0m \u001b[1m0s\u001b[0m 7ms/step - accuracy: 0.8170 - loss: 0.5382 - val_accuracy: 0.7750 - val_loss: 0.5734\n",
            "Epoch 35/100\n",
            "\u001b[1m23/23\u001b[0m \u001b[32m━━━━━━━━━━━━━━━━━━━━\u001b[0m\u001b[37m\u001b[0m \u001b[1m0s\u001b[0m 7ms/step - accuracy: 0.8171 - loss: 0.5453 - val_accuracy: 0.7750 - val_loss: 0.5654\n",
            "Epoch 36/100\n",
            "\u001b[1m23/23\u001b[0m \u001b[32m━━━━━━━━━━━━━━━━━━━━\u001b[0m\u001b[37m\u001b[0m \u001b[1m0s\u001b[0m 8ms/step - accuracy: 0.8280 - loss: 0.4902 - val_accuracy: 0.7500 - val_loss: 0.5920\n",
            "Epoch 37/100\n",
            "\u001b[1m23/23\u001b[0m \u001b[32m━━━━━━━━━━━━━━━━━━━━\u001b[0m\u001b[37m\u001b[0m \u001b[1m0s\u001b[0m 7ms/step - accuracy: 0.8295 - loss: 0.5042 - val_accuracy: 0.7500 - val_loss: 0.5846\n",
            "Epoch 38/100\n",
            "\u001b[1m23/23\u001b[0m \u001b[32m━━━━━━━━━━━━━━━━━━━━\u001b[0m\u001b[37m\u001b[0m \u001b[1m0s\u001b[0m 6ms/step - accuracy: 0.8361 - loss: 0.4929 - val_accuracy: 0.7625 - val_loss: 0.5785\n",
            "Epoch 39/100\n",
            "\u001b[1m23/23\u001b[0m \u001b[32m━━━━━━━━━━━━━━━━━━━━\u001b[0m\u001b[37m\u001b[0m \u001b[1m0s\u001b[0m 6ms/step - accuracy: 0.8358 - loss: 0.4996 - val_accuracy: 0.8125 - val_loss: 0.5636\n",
            "Epoch 40/100\n",
            "\u001b[1m23/23\u001b[0m \u001b[32m━━━━━━━━━━━━━━━━━━━━\u001b[0m\u001b[37m\u001b[0m \u001b[1m0s\u001b[0m 6ms/step - accuracy: 0.8485 - loss: 0.4842 - val_accuracy: 0.7500 - val_loss: 0.5761\n",
            "Epoch 41/100\n",
            "\u001b[1m23/23\u001b[0m \u001b[32m━━━━━━━━━━━━━━━━━━━━\u001b[0m\u001b[37m\u001b[0m \u001b[1m0s\u001b[0m 7ms/step - accuracy: 0.8371 - loss: 0.5034 - val_accuracy: 0.8000 - val_loss: 0.5559\n",
            "Epoch 42/100\n",
            "\u001b[1m23/23\u001b[0m \u001b[32m━━━━━━━━━━━━━━━━━━━━\u001b[0m\u001b[37m\u001b[0m \u001b[1m0s\u001b[0m 6ms/step - accuracy: 0.8326 - loss: 0.4888 - val_accuracy: 0.7750 - val_loss: 0.5763\n",
            "Epoch 43/100\n",
            "\u001b[1m23/23\u001b[0m \u001b[32m━━━━━━━━━━━━━━━━━━━━\u001b[0m\u001b[37m\u001b[0m \u001b[1m0s\u001b[0m 6ms/step - accuracy: 0.8365 - loss: 0.4861 - val_accuracy: 0.7500 - val_loss: 0.6089\n",
            "Epoch 44/100\n",
            "\u001b[1m23/23\u001b[0m \u001b[32m━━━━━━━━━━━━━━━━━━━━\u001b[0m\u001b[37m\u001b[0m \u001b[1m0s\u001b[0m 8ms/step - accuracy: 0.8170 - loss: 0.5163 - val_accuracy: 0.7875 - val_loss: 0.5896\n",
            "Epoch 45/100\n",
            "\u001b[1m23/23\u001b[0m \u001b[32m━━━━━━━━━━━━━━━━━━━━\u001b[0m\u001b[37m\u001b[0m \u001b[1m0s\u001b[0m 6ms/step - accuracy: 0.8417 - loss: 0.4935 - val_accuracy: 0.7875 - val_loss: 0.5780\n",
            "Epoch 46/100\n",
            "\u001b[1m23/23\u001b[0m \u001b[32m━━━━━━━━━━━━━━━━━━━━\u001b[0m\u001b[37m\u001b[0m \u001b[1m0s\u001b[0m 7ms/step - accuracy: 0.8429 - loss: 0.4842 - val_accuracy: 0.7625 - val_loss: 0.5666\n",
            "Epoch 47/100\n",
            "\u001b[1m23/23\u001b[0m \u001b[32m━━━━━━━━━━━━━━━━━━━━\u001b[0m\u001b[37m\u001b[0m \u001b[1m0s\u001b[0m 8ms/step - accuracy: 0.8535 - loss: 0.4899 - val_accuracy: 0.7875 - val_loss: 0.5868\n",
            "Epoch 48/100\n",
            "\u001b[1m23/23\u001b[0m \u001b[32m━━━━━━━━━━━━━━━━━━━━\u001b[0m\u001b[37m\u001b[0m \u001b[1m0s\u001b[0m 7ms/step - accuracy: 0.8251 - loss: 0.5084 - val_accuracy: 0.7625 - val_loss: 0.5878\n",
            "Epoch 49/100\n",
            "\u001b[1m23/23\u001b[0m \u001b[32m━━━━━━━━━━━━━━━━━━━━\u001b[0m\u001b[37m\u001b[0m \u001b[1m0s\u001b[0m 6ms/step - accuracy: 0.8196 - loss: 0.5196 - val_accuracy: 0.7625 - val_loss: 0.5892\n",
            "Epoch 50/100\n",
            "\u001b[1m23/23\u001b[0m \u001b[32m━━━━━━━━━━━━━━━━━━━━\u001b[0m\u001b[37m\u001b[0m \u001b[1m0s\u001b[0m 10ms/step - accuracy: 0.8352 - loss: 0.5121 - val_accuracy: 0.7375 - val_loss: 0.6089\n",
            "Epoch 51/100\n",
            "\u001b[1m23/23\u001b[0m \u001b[32m━━━━━━━━━━━━━━━━━━━━\u001b[0m\u001b[37m\u001b[0m \u001b[1m0s\u001b[0m 11ms/step - accuracy: 0.8562 - loss: 0.4999 - val_accuracy: 0.7500 - val_loss: 0.5868\n",
            "Epoch 52/100\n",
            "\u001b[1m23/23\u001b[0m \u001b[32m━━━━━━━━━━━━━━━━━━━━\u001b[0m\u001b[37m\u001b[0m \u001b[1m0s\u001b[0m 12ms/step - accuracy: 0.8365 - loss: 0.5075 - val_accuracy: 0.7750 - val_loss: 0.5810\n",
            "Epoch 53/100\n",
            "\u001b[1m23/23\u001b[0m \u001b[32m━━━━━━━━━━━━━━━━━━━━\u001b[0m\u001b[37m\u001b[0m \u001b[1m0s\u001b[0m 11ms/step - accuracy: 0.8575 - loss: 0.4801 - val_accuracy: 0.7500 - val_loss: 0.5984\n",
            "Epoch 54/100\n",
            "\u001b[1m23/23\u001b[0m \u001b[32m━━━━━━━━━━━━━━━━━━━━\u001b[0m\u001b[37m\u001b[0m \u001b[1m0s\u001b[0m 11ms/step - accuracy: 0.8553 - loss: 0.4823 - val_accuracy: 0.7875 - val_loss: 0.5890\n",
            "Epoch 55/100\n",
            "\u001b[1m23/23\u001b[0m \u001b[32m━━━━━━━━━━━━━━━━━━━━\u001b[0m\u001b[37m\u001b[0m \u001b[1m0s\u001b[0m 11ms/step - accuracy: 0.8453 - loss: 0.4902 - val_accuracy: 0.7750 - val_loss: 0.5940\n",
            "Epoch 56/100\n",
            "\u001b[1m23/23\u001b[0m \u001b[32m━━━━━━━━━━━━━━━━━━━━\u001b[0m\u001b[37m\u001b[0m \u001b[1m0s\u001b[0m 11ms/step - accuracy: 0.8306 - loss: 0.4809 - val_accuracy: 0.7750 - val_loss: 0.5948\n",
            "Epoch 57/100\n",
            "\u001b[1m23/23\u001b[0m \u001b[32m━━━━━━━━━━━━━━━━━━━━\u001b[0m\u001b[37m\u001b[0m \u001b[1m1s\u001b[0m 12ms/step - accuracy: 0.8307 - loss: 0.4927 - val_accuracy: 0.7500 - val_loss: 0.5935\n",
            "Epoch 58/100\n",
            "\u001b[1m23/23\u001b[0m \u001b[32m━━━━━━━━━━━━━━━━━━━━\u001b[0m\u001b[37m\u001b[0m \u001b[1m1s\u001b[0m 7ms/step - accuracy: 0.8496 - loss: 0.4789 - val_accuracy: 0.7375 - val_loss: 0.5959\n",
            "Epoch 59/100\n",
            "\u001b[1m23/23\u001b[0m \u001b[32m━━━━━━━━━━━━━━━━━━━━\u001b[0m\u001b[37m\u001b[0m \u001b[1m0s\u001b[0m 7ms/step - accuracy: 0.8344 - loss: 0.4975 - val_accuracy: 0.7875 - val_loss: 0.5765\n",
            "Epoch 60/100\n",
            "\u001b[1m23/23\u001b[0m \u001b[32m━━━━━━━━━━━━━━━━━━━━\u001b[0m\u001b[37m\u001b[0m \u001b[1m0s\u001b[0m 7ms/step - accuracy: 0.8305 - loss: 0.5137 - val_accuracy: 0.7750 - val_loss: 0.5894\n",
            "Epoch 61/100\n",
            "\u001b[1m23/23\u001b[0m \u001b[32m━━━━━━━━━━━━━━━━━━━━\u001b[0m\u001b[37m\u001b[0m \u001b[1m0s\u001b[0m 7ms/step - accuracy: 0.8353 - loss: 0.4857 - val_accuracy: 0.8000 - val_loss: 0.5712\n",
            "Epoch 62/100\n",
            "\u001b[1m23/23\u001b[0m \u001b[32m━━━━━━━━━━━━━━━━━━━━\u001b[0m\u001b[37m\u001b[0m \u001b[1m0s\u001b[0m 7ms/step - accuracy: 0.8414 - loss: 0.4947 - val_accuracy: 0.7750 - val_loss: 0.5657\n",
            "Epoch 63/100\n",
            "\u001b[1m23/23\u001b[0m \u001b[32m━━━━━━━━━━━━━━━━━━━━\u001b[0m\u001b[37m\u001b[0m \u001b[1m0s\u001b[0m 8ms/step - accuracy: 0.8482 - loss: 0.4945 - val_accuracy: 0.7875 - val_loss: 0.5750\n",
            "Epoch 64/100\n",
            "\u001b[1m23/23\u001b[0m \u001b[32m━━━━━━━━━━━━━━━━━━━━\u001b[0m\u001b[37m\u001b[0m \u001b[1m0s\u001b[0m 7ms/step - accuracy: 0.8510 - loss: 0.4653 - val_accuracy: 0.7625 - val_loss: 0.5972\n",
            "Epoch 65/100\n",
            "\u001b[1m23/23\u001b[0m \u001b[32m━━━━━━━━━━━━━━━━━━━━\u001b[0m\u001b[37m\u001b[0m \u001b[1m0s\u001b[0m 9ms/step - accuracy: 0.8189 - loss: 0.5128 - val_accuracy: 0.7250 - val_loss: 0.6057\n",
            "Epoch 66/100\n",
            "\u001b[1m23/23\u001b[0m \u001b[32m━━━━━━━━━━━━━━━━━━━━\u001b[0m\u001b[37m\u001b[0m \u001b[1m0s\u001b[0m 7ms/step - accuracy: 0.8314 - loss: 0.4997 - val_accuracy: 0.7625 - val_loss: 0.5935\n",
            "Epoch 67/100\n",
            "\u001b[1m23/23\u001b[0m \u001b[32m━━━━━━━━━━━━━━━━━━━━\u001b[0m\u001b[37m\u001b[0m \u001b[1m0s\u001b[0m 10ms/step - accuracy: 0.8153 - loss: 0.5170 - val_accuracy: 0.8125 - val_loss: 0.5621\n",
            "Epoch 68/100\n",
            "\u001b[1m23/23\u001b[0m \u001b[32m━━━━━━━━━━━━━━━━━━━━\u001b[0m\u001b[37m\u001b[0m \u001b[1m0s\u001b[0m 12ms/step - accuracy: 0.8689 - loss: 0.4849 - val_accuracy: 0.8000 - val_loss: 0.5632\n",
            "Epoch 69/100\n",
            "\u001b[1m23/23\u001b[0m \u001b[32m━━━━━━━━━━━━━━━━━━━━\u001b[0m\u001b[37m\u001b[0m \u001b[1m1s\u001b[0m 11ms/step - accuracy: 0.8520 - loss: 0.5076 - val_accuracy: 0.7875 - val_loss: 0.5718\n",
            "Epoch 70/100\n",
            "\u001b[1m23/23\u001b[0m \u001b[32m━━━━━━━━━━━━━━━━━━━━\u001b[0m\u001b[37m\u001b[0m \u001b[1m0s\u001b[0m 17ms/step - accuracy: 0.8757 - loss: 0.4641 - val_accuracy: 0.7875 - val_loss: 0.5848\n",
            "Epoch 71/100\n",
            "\u001b[1m23/23\u001b[0m \u001b[32m━━━━━━━━━━━━━━━━━━━━\u001b[0m\u001b[37m\u001b[0m \u001b[1m1s\u001b[0m 18ms/step - accuracy: 0.8430 - loss: 0.4835 - val_accuracy: 0.7750 - val_loss: 0.5780\n",
            "Epoch 72/100\n",
            "\u001b[1m23/23\u001b[0m \u001b[32m━━━━━━━━━━━━━━━━━━━━\u001b[0m\u001b[37m\u001b[0m \u001b[1m0s\u001b[0m 10ms/step - accuracy: 0.8488 - loss: 0.4820 - val_accuracy: 0.8000 - val_loss: 0.5892\n",
            "Epoch 73/100\n",
            "\u001b[1m23/23\u001b[0m \u001b[32m━━━━━━━━━━━━━━━━━━━━\u001b[0m\u001b[37m\u001b[0m \u001b[1m0s\u001b[0m 11ms/step - accuracy: 0.8353 - loss: 0.5236 - val_accuracy: 0.7750 - val_loss: 0.5920\n",
            "Epoch 74/100\n",
            "\u001b[1m23/23\u001b[0m \u001b[32m━━━━━━━━━━━━━━━━━━━━\u001b[0m\u001b[37m\u001b[0m \u001b[1m0s\u001b[0m 12ms/step - accuracy: 0.8308 - loss: 0.5168 - val_accuracy: 0.7625 - val_loss: 0.5925\n",
            "Epoch 75/100\n",
            "\u001b[1m23/23\u001b[0m \u001b[32m━━━━━━━━━━━━━━━━━━━━\u001b[0m\u001b[37m\u001b[0m \u001b[1m1s\u001b[0m 12ms/step - accuracy: 0.8449 - loss: 0.4825 - val_accuracy: 0.7875 - val_loss: 0.5937\n",
            "Epoch 76/100\n",
            "\u001b[1m23/23\u001b[0m \u001b[32m━━━━━━━━━━━━━━━━━━━━\u001b[0m\u001b[37m\u001b[0m \u001b[1m1s\u001b[0m 14ms/step - accuracy: 0.8134 - loss: 0.5146 - val_accuracy: 0.7750 - val_loss: 0.5857\n",
            "Epoch 77/100\n",
            "\u001b[1m23/23\u001b[0m \u001b[32m━━━━━━━━━━━━━━━━━━━━\u001b[0m\u001b[37m\u001b[0m \u001b[1m0s\u001b[0m 6ms/step - accuracy: 0.8442 - loss: 0.4925 - val_accuracy: 0.7500 - val_loss: 0.5928\n",
            "Epoch 78/100\n",
            "\u001b[1m23/23\u001b[0m \u001b[32m━━━━━━━━━━━━━━━━━━━━\u001b[0m\u001b[37m\u001b[0m \u001b[1m0s\u001b[0m 7ms/step - accuracy: 0.8316 - loss: 0.4988 - val_accuracy: 0.7875 - val_loss: 0.5898\n",
            "Epoch 79/100\n",
            "\u001b[1m23/23\u001b[0m \u001b[32m━━━━━━━━━━━━━━━━━━━━\u001b[0m\u001b[37m\u001b[0m \u001b[1m0s\u001b[0m 7ms/step - accuracy: 0.8456 - loss: 0.5062 - val_accuracy: 0.7750 - val_loss: 0.5932\n",
            "Epoch 80/100\n",
            "\u001b[1m23/23\u001b[0m \u001b[32m━━━━━━━━━━━━━━━━━━━━\u001b[0m\u001b[37m\u001b[0m \u001b[1m0s\u001b[0m 7ms/step - accuracy: 0.8628 - loss: 0.4726 - val_accuracy: 0.7875 - val_loss: 0.5840\n",
            "Epoch 81/100\n",
            "\u001b[1m23/23\u001b[0m \u001b[32m━━━━━━━━━━━━━━━━━━━━\u001b[0m\u001b[37m\u001b[0m \u001b[1m0s\u001b[0m 6ms/step - accuracy: 0.8147 - loss: 0.5004 - val_accuracy: 0.7375 - val_loss: 0.5933\n",
            "Epoch 82/100\n",
            "\u001b[1m23/23\u001b[0m \u001b[32m━━━━━━━━━━━━━━━━━━━━\u001b[0m\u001b[37m\u001b[0m \u001b[1m0s\u001b[0m 7ms/step - accuracy: 0.8470 - loss: 0.4757 - val_accuracy: 0.7875 - val_loss: 0.5890\n",
            "Epoch 83/100\n",
            "\u001b[1m23/23\u001b[0m \u001b[32m━━━━━━━━━━━━━━━━━━━━\u001b[0m\u001b[37m\u001b[0m \u001b[1m0s\u001b[0m 7ms/step - accuracy: 0.8278 - loss: 0.4882 - val_accuracy: 0.7625 - val_loss: 0.5982\n",
            "Epoch 84/100\n",
            "\u001b[1m23/23\u001b[0m \u001b[32m━━━━━━━━━━━━━━━━━━━━\u001b[0m\u001b[37m\u001b[0m \u001b[1m0s\u001b[0m 20ms/step - accuracy: 0.8162 - loss: 0.5036 - val_accuracy: 0.7625 - val_loss: 0.5917\n",
            "Epoch 85/100\n",
            "\u001b[1m23/23\u001b[0m \u001b[32m━━━━━━━━━━━━━━━━━━━━\u001b[0m\u001b[37m\u001b[0m \u001b[1m0s\u001b[0m 16ms/step - accuracy: 0.8248 - loss: 0.4924 - val_accuracy: 0.7875 - val_loss: 0.5791\n",
            "Epoch 86/100\n",
            "\u001b[1m23/23\u001b[0m \u001b[32m━━━━━━━━━━━━━━━━━━━━\u001b[0m\u001b[37m\u001b[0m \u001b[1m1s\u001b[0m 19ms/step - accuracy: 0.8511 - loss: 0.4717 - val_accuracy: 0.7625 - val_loss: 0.5930\n",
            "Epoch 87/100\n",
            "\u001b[1m23/23\u001b[0m \u001b[32m━━━━━━━━━━━━━━━━━━━━\u001b[0m\u001b[37m\u001b[0m \u001b[1m1s\u001b[0m 32ms/step - accuracy: 0.8117 - loss: 0.5235 - val_accuracy: 0.7750 - val_loss: 0.5896\n",
            "Epoch 88/100\n",
            "\u001b[1m23/23\u001b[0m \u001b[32m━━━━━━━━━━━━━━━━━━━━\u001b[0m\u001b[37m\u001b[0m \u001b[1m1s\u001b[0m 14ms/step - accuracy: 0.8391 - loss: 0.5164 - val_accuracy: 0.7500 - val_loss: 0.5974\n",
            "Epoch 89/100\n",
            "\u001b[1m23/23\u001b[0m \u001b[32m━━━━━━━━━━━━━━━━━━━━\u001b[0m\u001b[37m\u001b[0m \u001b[1m0s\u001b[0m 17ms/step - accuracy: 0.8182 - loss: 0.5141 - val_accuracy: 0.7500 - val_loss: 0.6046\n",
            "Epoch 90/100\n",
            "\u001b[1m23/23\u001b[0m \u001b[32m━━━━━━━━━━━━━━━━━━━━\u001b[0m\u001b[37m\u001b[0m \u001b[1m1s\u001b[0m 22ms/step - accuracy: 0.8353 - loss: 0.4861 - val_accuracy: 0.7875 - val_loss: 0.5893\n",
            "Epoch 91/100\n",
            "\u001b[1m23/23\u001b[0m \u001b[32m━━━━━━━━━━━━━━━━━━━━\u001b[0m\u001b[37m\u001b[0m \u001b[1m0s\u001b[0m 7ms/step - accuracy: 0.8311 - loss: 0.4860 - val_accuracy: 0.7750 - val_loss: 0.5972\n",
            "Epoch 92/100\n",
            "\u001b[1m23/23\u001b[0m \u001b[32m━━━━━━━━━━━━━━━━━━━━\u001b[0m\u001b[37m\u001b[0m \u001b[1m0s\u001b[0m 14ms/step - accuracy: 0.8029 - loss: 0.5198 - val_accuracy: 0.7875 - val_loss: 0.5907\n",
            "Epoch 93/100\n",
            "\u001b[1m23/23\u001b[0m \u001b[32m━━━━━━━━━━━━━━━━━━━━\u001b[0m\u001b[37m\u001b[0m \u001b[1m1s\u001b[0m 16ms/step - accuracy: 0.8532 - loss: 0.4860 - val_accuracy: 0.7500 - val_loss: 0.5850\n",
            "Epoch 94/100\n",
            "\u001b[1m23/23\u001b[0m \u001b[32m━━━━━━━━━━━━━━━━━━━━\u001b[0m\u001b[37m\u001b[0m \u001b[1m0s\u001b[0m 7ms/step - accuracy: 0.8104 - loss: 0.4872 - val_accuracy: 0.7750 - val_loss: 0.5925\n",
            "Epoch 95/100\n",
            "\u001b[1m23/23\u001b[0m \u001b[32m━━━━━━━━━━━━━━━━━━━━\u001b[0m\u001b[37m\u001b[0m \u001b[1m0s\u001b[0m 9ms/step - accuracy: 0.8318 - loss: 0.4857 - val_accuracy: 0.8000 - val_loss: 0.6032\n",
            "Epoch 96/100\n",
            "\u001b[1m23/23\u001b[0m \u001b[32m━━━━━━━━━━━━━━━━━━━━\u001b[0m\u001b[37m\u001b[0m \u001b[1m0s\u001b[0m 15ms/step - accuracy: 0.8304 - loss: 0.4926 - val_accuracy: 0.7500 - val_loss: 0.5958\n",
            "Epoch 97/100\n",
            "\u001b[1m23/23\u001b[0m \u001b[32m━━━━━━━━━━━━━━━━━━━━\u001b[0m\u001b[37m\u001b[0m \u001b[1m1s\u001b[0m 16ms/step - accuracy: 0.8334 - loss: 0.5336 - val_accuracy: 0.7625 - val_loss: 0.6119\n",
            "Epoch 98/100\n",
            "\u001b[1m23/23\u001b[0m \u001b[32m━━━━━━━━━━━━━━━━━━━━\u001b[0m\u001b[37m\u001b[0m \u001b[1m1s\u001b[0m 20ms/step - accuracy: 0.8525 - loss: 0.4715 - val_accuracy: 0.7750 - val_loss: 0.6074\n",
            "Epoch 99/100\n",
            "\u001b[1m23/23\u001b[0m \u001b[32m━━━━━━━━━━━━━━━━━━━━\u001b[0m\u001b[37m\u001b[0m \u001b[1m1s\u001b[0m 22ms/step - accuracy: 0.8527 - loss: 0.4833 - val_accuracy: 0.7750 - val_loss: 0.5891\n",
            "Epoch 100/100\n",
            "\u001b[1m23/23\u001b[0m \u001b[32m━━━━━━━━━━━━━━━━━━━━\u001b[0m\u001b[37m\u001b[0m \u001b[1m1s\u001b[0m 30ms/step - accuracy: 0.8448 - loss: 0.4842 - val_accuracy: 0.7750 - val_loss: 0.5804\n"
          ]
        }
      ],
      "id": "21sddsq_N6Ll"
    },
    {
      "cell_type": "markdown",
      "source": [
        "## **Explanation**\n",
        "* **Training process:** The model is trained on X_train and y_train for 100 epochs with a batch size of 32.\n",
        "* **Validation:** 10% of the training data is used for validation during each epoch to track performance.\n",
        "* **Accuracy tracking:** The training and validation accuracy values are extracted from the history object to monitor model performance."
      ],
      "metadata": {
        "id": "MaabnFcKTP84"
      },
      "id": "MaabnFcKTP84"
    },
    {
      "cell_type": "markdown",
      "source": [
        "## **Plotting Training and Validation Accuracy**"
      ],
      "metadata": {
        "id": "n9PMHC7RTbxg"
      },
      "id": "n9PMHC7RTbxg"
    },
    {
      "cell_type": "code",
      "source": [
        "# Extract accuracy values\n",
        "train_accuracy = history.history['accuracy']\n",
        "val_accuracy = history.history['val_accuracy']\n",
        "epochs = range(1, len(train_accuracy) + 1)\n",
        "\n",
        "# Plot accuracy values\n",
        "plt.plot(epochs, train_accuracy, 'b', label='Training Accuracy')\n",
        "plt.plot(epochs, val_accuracy, 'r', label='Validation Accuracy')\n",
        "plt.title('Training and Validation Accuracy')\n",
        "plt.xlabel('Epochs')\n",
        "plt.ylabel('Accuracy')\n",
        "plt.legend()\n",
        "plt.show()"
      ],
      "metadata": {
        "colab": {
          "base_uri": "https://localhost:8080/",
          "height": 472
        },
        "id": "SjPV35WgSxDD",
        "outputId": "e3d666ac-a1a6-4ccb-8d48-3acb7cb023ee"
      },
      "id": "SjPV35WgSxDD",
      "execution_count": null,
      "outputs": [
        {
          "output_type": "display_data",
          "data": {
            "text/plain": [
              "<Figure size 640x480 with 1 Axes>"
            ],
            "image/png": "[encoded data removed]"
          },
          "metadata": {}
        }
      ]
    },
    {
      "cell_type": "markdown",
      "source": [
        "## **Explanation**\n",
        "* Extracts accuracy: Training and validation accuracy are retrieved from the history object for each epoch.\n",
        "* Plots accuracy: Training and validation accuracy are plotted against epochs to visualize model performance over time.\n",
        "* Graph details: The plot includes labels for the x-axis (epochs) and y-axis (accuracy), and uses different colors to distinguish training and validation accuracy."
      ],
      "metadata": {
        "id": "uPbkEIcaTht-"
      },
      "id": "uPbkEIcaTht-"
    },
    {
      "cell_type": "markdown",
      "source": [
        "## **Evaluating the Model**\n"
      ],
      "metadata": {
        "id": "UzbK99NxTpxY"
      },
      "id": "UzbK99NxTpxY"
    },
    {
      "cell_type": "code",
      "source": [
        "loss, accuracy = model.evaluate(X_test, y_test)\n",
        "print(f'Test Loss: {loss}, Test Accuracy:{accuracy}')"
      ],
      "metadata": {
        "ExecuteTime": {
          "end_time": "2024-03-19T12:23:32.102274100Z",
          "start_time": "2024-03-19T12:23:32.026862100Z"
        },
        "jupyter": {
          "outputs_hidden": false
        },
        "colab": {
          "base_uri": "https://localhost:8080/"
        },
        "id": "W9PQDuGPN6Ll",
        "outputId": "d0e388c4-5898-4757-b142-a3a52f3fd993"
      },
      "execution_count": null,
      "outputs": [
        {
          "output_type": "stream",
          "name": "stdout",
          "text": [
            "\u001b[1m7/7\u001b[0m \u001b[32m━━━━━━━━━━━━━━━━━━━━\u001b[0m\u001b[37m\u001b[0m \u001b[1m0s\u001b[0m 11ms/step - accuracy: 0.8236 - loss: 0.5665\n",
            "Test Loss: 0.5740889310836792, Test Accuracy:0.80402010679245\n"
          ]
        }
      ],
      "id": "W9PQDuGPN6Ll"
    },
    {
      "cell_type": "markdown",
      "source": [
        "## **Explanation**\n",
        "* **Model evaluation:** The model's performance is evaluated on the test set (X_test, y_test) by calculating both the loss and accuracy.\n",
        "* **Results:** The test loss and accuracy values are printed to provide insights into how well the model generalizes to unseen data."
      ],
      "metadata": {
        "id": "CEIFc2BvTwL0"
      },
      "id": "CEIFc2BvTwL0"
    },
    {
      "cell_type": "markdown",
      "source": [
        "## **Compute the Confusion Matrix:**"
      ],
      "metadata": {
        "id": "xp01aFtaN6Ll"
      },
      "id": "xp01aFtaN6Ll"
    },
    {
      "cell_type": "code",
      "source": [
        "y_pred_probs = model.predict(X_test)\n",
        "y_pred = (y_pred_probs > 0.5).astype(int)\n",
        "y_pred_flat = np.ravel(y_pred)\n",
        "y_test_flat = np.ravel(y_test)\n",
        "conf_matrix = confusion_matrix(y_test_flat, y_pred_flat)\n",
        "\n",
        "print(\"Confusion Matrix:\")\n",
        "print(conf_matrix)\n",
        "\n",
        "\n"
      ],
      "metadata": {
        "ExecuteTime": {
          "end_time": "2024-03-19T12:23:32.276237700Z",
          "start_time": "2024-03-19T12:23:32.101277100Z"
        },
        "jupyter": {
          "outputs_hidden": false
        },
        "colab": {
          "base_uri": "https://localhost:8080/"
        },
        "id": "0kMNELYXN6Ll",
        "outputId": "3b4ffa6c-a7e2-49de-f0f8-49b7e718d63e"
      },
      "execution_count": null,
      "outputs": [
        {
          "output_type": "stream",
          "name": "stdout",
          "text": [
            "\u001b[1m7/7\u001b[0m \u001b[32m━━━━━━━━━━━━━━━━━━━━\u001b[0m\u001b[37m\u001b[0m \u001b[1m0s\u001b[0m 30ms/step\n",
            "Confusion Matrix:\n",
            "[[83 12]\n",
            " [27 77]]\n"
          ]
        }
      ],
      "id": "0kMNELYXN6Ll"
    },
    {
      "cell_type": "code",
      "source": [
        "plt.figure(figsize=(8, 6))\n",
        "sns.heatmap(conf_matrix, annot=True, fmt='d', cmap='Blues', cbar=False)\n",
        "plt.title('Confusion Matrix')\n",
        "plt.xlabel('Predicted labels')\n",
        "plt.ylabel('True labels')\n",
        "plt.show()"
      ],
      "metadata": {
        "ExecuteTime": {
          "end_time": "2024-03-19T12:23:32.380075900Z",
          "start_time": "2024-03-19T12:23:32.269258400Z"
        },
        "jupyter": {
          "outputs_hidden": false
        },
        "colab": {
          "base_uri": "https://localhost:8080/",
          "height": 564
        },
        "id": "MD8Eyn72N6Ll",
        "outputId": "ce620986-38b0-4a63-b2c1-5954247dda55"
      },
      "execution_count": null,
      "outputs": [
        {
          "output_type": "display_data",
          "data": {
            "text/plain": [
              "<Figure size 800x600 with 1 Axes>"
            ],
            "image/png": "[encoded data removed]"
          },
          "metadata": {}
        }
      ],
      "id": "MD8Eyn72N6Ll"
    },
    {
      "cell_type": "markdown",
      "source": [
        "## **Classification Report**"
      ],
      "metadata": {
        "id": "h_h-0Oa4N6Ll"
      },
      "id": "h_h-0Oa4N6Ll"
    },
    {
      "cell_type": "code",
      "source": [
        "print(\"\\nClassification Report:\")\n",
        "print(classification_report(y_test_flat, y_pred_flat))"
      ],
      "metadata": {
        "ExecuteTime": {
          "end_time": "2024-03-19T12:23:32.395242200Z",
          "start_time": "2024-03-19T12:23:32.383070Z"
        },
        "jupyter": {
          "outputs_hidden": false
        },
        "colab": {
          "base_uri": "https://localhost:8080/"
        },
        "id": "Q94wkbNdN6Lm",
        "outputId": "921073d8-157a-4193-e021-6aeb3657be34"
      },
      "execution_count": null,
      "outputs": [
        {
          "output_type": "stream",
          "name": "stdout",
          "text": [
            "\n",
            "Classification Report:\n",
            "              precision    recall  f1-score   support\n",
            "\n",
            "           0       0.75      0.87      0.81        95\n",
            "           1       0.87      0.74      0.80       104\n",
            "\n",
            "    accuracy                           0.80       199\n",
            "   macro avg       0.81      0.81      0.80       199\n",
            "weighted avg       0.81      0.80      0.80       199\n",
            "\n"
          ]
        }
      ],
      "id": "Q94wkbNdN6Lm"
    },
    {
      "cell_type": "markdown",
      "source": [
        "## **Explanation**\n",
        "* **Classification report:** The classification_report function from scikit-learn provides detailed metrics, including precision, recall, F1-score, and support for each class.\n",
        "* **Model evaluation:** The report is printed to evaluate the model's classification performance on the test set, offering insights into how well the model distinguishes between the target classes."
      ],
      "metadata": {
        "id": "SFMDyCREUNVV"
      },
      "id": "SFMDyCREUNVV"
    },
    {
      "cell_type": "markdown",
      "source": [
        "\n",
        "\n",
        "---\n",
        "\n",
        "\n",
        "---\n",
        "\n"
      ],
      "metadata": {
        "id": "qVFH5dfxN6Lm"
      },
      "id": "qVFH5dfxN6Lm"
    }
  ]
}